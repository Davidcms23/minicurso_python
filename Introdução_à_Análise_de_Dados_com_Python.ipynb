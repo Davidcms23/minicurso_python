{
  "nbformat": 4,
  "nbformat_minor": 0,
  "metadata": {
    "colab": {
      "provenance": [],
      "collapsed_sections": [
        "1C1QaErcuJxZ",
        "0nRJbbuwtddx",
        "9Wkp-oJX_yiM"
      ],
      "toc_visible": true
    },
    "kernelspec": {
      "name": "python3",
      "display_name": "Python 3"
    },
    "language_info": {
      "name": "python"
    }
  },
  "cells": [
    {
      "cell_type": "markdown",
      "source": [
        "***\n",
        "# <font color=lightblue size=10>Introdução à Análise de Dados com Python</font>\n",
        "***"
      ],
      "metadata": {
        "id": "I15OKBddKVg0"
      }
    },
    {
      "cell_type": "markdown",
      "source": [
        "# Sobre a linguagem Python\n",
        "\n",
        "Python é uma linguagem acessível e poderosa usada em Data Science. Neste minicurso, você explorará conceitos fundamentais da linguagem, incluindo tipos de dados, controle de fluxo e funções. Também aprenderá a usar bibliotecas essenciais como Numpy, Pandas e Matplotlib para análise e visualização de dados. O curso oferece uma visão geral prática, cobrindo as principais ferramentas e técnicas para começar a trabalhar com dados em Python."
      ],
      "metadata": {
        "id": "B629leJ4fb8v"
      }
    },
    {
      "cell_type": "markdown",
      "source": [
        "# <font color=lightblue>1 Primeiros passos</font>\n",
        "***"
      ],
      "metadata": {
        "id": "bsT4Yn8fauOu"
      }
    },
    {
      "cell_type": "markdown",
      "source": [
        "## <font color=lightblue>1.1. Tipos de dados</font>\n",
        "***"
      ],
      "metadata": {
        "id": "FDn3ixyJzfUj"
      }
    },
    {
      "cell_type": "markdown",
      "source": [
        "### 1.1.1. Int e Float"
      ],
      "metadata": {
        "id": "L570qqwP0DDE"
      }
    },
    {
      "cell_type": "markdown",
      "source": [
        "Em Python, os tipos numéricos mais comuns são:\n",
        "\n",
        "● int: Representa números inteiros, positivos ou negativos, sem casas decimais.\n",
        "\n",
        "● float: Representa números com casas decimais, também chamados de números de ponto flutuante."
      ],
      "metadata": {
        "id": "VLYeFPB6i0Z0"
      }
    },
    {
      "cell_type": "code",
      "source": [
        "# Exemplos de inteiros (int)\n",
        "numero_de_alunos = 25\n",
        "temperatura = -5"
      ],
      "metadata": {
        "id": "e0ABRJ4fjF5F"
      },
      "execution_count": null,
      "outputs": []
    },
    {
      "cell_type": "code",
      "source": [
        "# Exemplos de números decimais (float)\n",
        "preco_do_produto = 19.99\n",
        "altura = 1.75"
      ],
      "metadata": {
        "id": "70LXZHAOjS7M"
      },
      "execution_count": null,
      "outputs": []
    },
    {
      "cell_type": "code",
      "source": [
        "# Exibindo os valores e seus tipos\n",
        "print(\"Número de alunos:\", numero_de_alunos, type(numero_de_alunos))\n",
        "print(\"Temperatura:\", temperatura, type(temperatura))\n",
        "print(\"Preço do produto:\", preco_do_produto, type(preco_do_produto))\n",
        "print(\"Altura:\", altura, type(altura))"
      ],
      "metadata": {
        "id": "1H_pt6y7jVcY"
      },
      "execution_count": null,
      "outputs": []
    },
    {
      "cell_type": "markdown",
      "source": [
        "No exemplo acima:\n",
        "\n",
        "● Criamos variáveis usando nomes significativos (`numero_de_alunos`, `temperatura`, etc.) e atribuímos valores a elas usando o sinal de igual (=).\n",
        "\n",
        "● A função `print()` exibe o valor da variável e a função `type()` revela o tipo de dado.\n",
        "\n",
        "● Observe que Python diferencia letras maiúsculas de minúsculas."
      ],
      "metadata": {
        "id": "6dJ2x7VojibM"
      }
    },
    {
      "cell_type": "markdown",
      "source": [
        "### 1.1.2. String"
      ],
      "metadata": {
        "id": "m9erh2Id0I8g"
      }
    },
    {
      "cell_type": "markdown",
      "source": [
        "O tipo de dado string representa texto em Python. Uma string é definida entre aspas simples ('...') ou duplas (\"...\")."
      ],
      "metadata": {
        "id": "cGwEYOjPjzDM"
      }
    },
    {
      "cell_type": "code",
      "source": [
        "# Exemplos de strings\n",
        "nome = \"Maria\"\n",
        "saudacao = 'Olá, mundo!'"
      ],
      "metadata": {
        "id": "UpPjDydkj619"
      },
      "execution_count": null,
      "outputs": []
    },
    {
      "cell_type": "code",
      "source": [
        "# Exibindo as strings\n",
        "print(nome)\n",
        "print(saudacao)"
      ],
      "metadata": {
        "id": "a-jR0xyEj7yF"
      },
      "execution_count": null,
      "outputs": []
    },
    {
      "cell_type": "code",
      "source": [
        "# Concatenando strings\n",
        "frase = saudacao + \" Meu nome é \" + nome + \".\"\n",
        "print(frase)"
      ],
      "metadata": {
        "id": "rMNZsuPLj9j8"
      },
      "execution_count": null,
      "outputs": []
    },
    {
      "cell_type": "markdown",
      "source": [
        "● Declaramos variáveis do tipo string e exibimos seus valores.\n",
        "\n",
        "● O sinal de mais (+) concatena (junta) strings."
      ],
      "metadata": {
        "id": "OVxcQJH6kHu-"
      }
    },
    {
      "cell_type": "markdown",
      "source": [
        "### 1.1.3. Booleano"
      ],
      "metadata": {
        "id": "HJYZYkG-0Nj1"
      }
    },
    {
      "cell_type": "markdown",
      "source": [
        "O tipo bool (booleano) representa valores lógicos True (verdadeiro) ou False (falso)."
      ],
      "metadata": {
        "id": "Dzk4Nw2ckTor"
      }
    },
    {
      "cell_type": "code",
      "source": [
        "# Exemplos de booleanos\n",
        "sol_esta_brilhando = True\n",
        "chovendo = False"
      ],
      "metadata": {
        "id": "YhNZziMNkWrz"
      },
      "execution_count": null,
      "outputs": []
    },
    {
      "cell_type": "code",
      "source": [
        "# Exibindo os valores booleanos\n",
        "print(\"Sol está brilhando?\", sol_esta_brilhando)\n",
        "print(\"Está chovendo?\", chovendo)"
      ],
      "metadata": {
        "id": "Y2N5b7llkXoM"
      },
      "execution_count": null,
      "outputs": []
    },
    {
      "cell_type": "markdown",
      "source": [
        "### Exercício"
      ],
      "metadata": {
        "id": "HFj0zrJBucgy"
      }
    },
    {
      "cell_type": "markdown",
      "source": [
        "Crie um programa que:\n",
        "\n",
        " -  Peça ao usuário para inserir seu nome e idade.\n",
        "\n",
        " -  Armazene essas informações em variáveis com os tipos de dados apropriados.\n",
        "\n",
        " - Exiba uma mensagem personalizada, como `\"Olá, [nome]! Você tem [idade] anos.\"`\n",
        "\n",
        "Dicas:\n",
        "\n",
        " - Utilize a função `input()` para receber dados do usuário.\n",
        "\n",
        " - Lembre-se de converter a idade para o tipo de dado correto acom a função `int()`."
      ],
      "metadata": {
        "id": "2U4iumgKk_d6"
      }
    },
    {
      "cell_type": "code",
      "source": [],
      "metadata": {
        "id": "VP5sp24JoWaK"
      },
      "execution_count": null,
      "outputs": []
    },
    {
      "cell_type": "code",
      "source": [],
      "metadata": {
        "id": "9C5aMeNblYa3"
      },
      "execution_count": null,
      "outputs": []
    },
    {
      "cell_type": "code",
      "source": [],
      "metadata": {
        "id": "5pfFkxmglY1b"
      },
      "execution_count": null,
      "outputs": []
    },
    {
      "cell_type": "markdown",
      "source": [
        "## <font color=lightblue>1.2. Listas</font>\n",
        "***"
      ],
      "metadata": {
        "id": "CdHfKTYJ0btt"
      }
    },
    {
      "cell_type": "markdown",
      "source": [
        "Até agora, vimos como trabalhar com tipos de dados individuais. Mas e se precisarmos armazenar um conjunto de dados relacionados, como uma lista de compras ou as temperaturas diárias de uma semana? É aí que as listas entram em ação!"
      ],
      "metadata": {
        "id": "Hp49-OFkmZps"
      }
    },
    {
      "cell_type": "markdown",
      "source": [
        "Em Python, uma lista é uma sequência ordenada de elementos. Podemos criar listas utilizando colchetes `[]`, separando os elementos por vírgula."
      ],
      "metadata": {
        "id": "9PpERgvmmfhK"
      }
    },
    {
      "cell_type": "code",
      "source": [
        "# Criando listas\n",
        "lista_de_compras = [\"maçã\", \"banana\", \"leite\", \"pão\"]\n",
        "temperaturas_semana = [25.5, 24.0, 26.8, 23.9, 27.2, 28.1, 25.9]"
      ],
      "metadata": {
        "id": "JLslqCDOmnHs"
      },
      "execution_count": null,
      "outputs": []
    },
    {
      "cell_type": "code",
      "source": [
        "# Exibindo as listas\n",
        "print(\"Lista de Compras:\", lista_de_compras)\n",
        "print(\"Temperaturas da Semana:\", temperaturas_semana)"
      ],
      "metadata": {
        "id": "en6DTUNumodl"
      },
      "execution_count": null,
      "outputs": []
    },
    {
      "cell_type": "markdown",
      "source": [
        "Características Importantes:\n",
        "\n",
        " - Elementos Diversos: Listas podem conter elementos de diferentes tipos de dados, inclusive outras listas!\n",
        "\n",
        " - Elementos Diversos: Listas podem conter elementos de diferentes tipos de dados, inclusive outras listas!\n",
        "\n",
        "```python\n",
        "lista_mista = [10, \"Python\", 3.14, True, [1, 2, 3]]\n",
        "```\n",
        "\n",
        " - Ordenação: As listas mantêm a ordem dos elementos como foram inseridos.\n",
        "\n",
        " - Mutabilidade: Podemos modificar elementos de uma lista após sua criação."
      ],
      "metadata": {
        "id": "eR_H68AtnIk4"
      }
    },
    {
      "cell_type": "markdown",
      "source": [
        "Exemplo de Mutabilidade:"
      ],
      "metadata": {
        "id": "5tVy4jvroeMX"
      }
    },
    {
      "cell_type": "code",
      "source": [
        "# Modificando um elemento da lista\n",
        "lista_de_compras = \"laranja\"\n",
        "print(\"Lista de Compras Atualizada:\", lista_de_compras)"
      ],
      "metadata": {
        "id": "OSjHRM4voiUz"
      },
      "execution_count": null,
      "outputs": []
    },
    {
      "cell_type": "markdown",
      "source": [
        "### <font color=lightblue>1.2.1. Acessando Elementos pelo Índice</font>\n",
        "***"
      ],
      "metadata": {
        "id": "74o3cPBGpQlL"
      }
    },
    {
      "cell_type": "markdown",
      "source": [
        "Após a criação de uma lista, frequentemente precisamos acessar seus elementos individualmente. Em Python, fazemos isso utilizando o índice de cada elemento, que representa sua posição na lista. É crucial destacar que:\n",
        "\n",
        " - Índices Iniciam em Zero: O primeiro elemento da lista possui índice `0`, o segundo índice `1`, e assim por diante.\n",
        "\n",
        " - Índices Negativos: Podemos usar índices negativos para acessar elementos a partir do final da lista. O último elemento tem índice `-1`, o penúltimo `-2`, etc."
      ],
      "metadata": {
        "id": "oHK2hqvPpiGh"
      }
    },
    {
      "cell_type": "markdown",
      "source": [
        "Exemplo:"
      ],
      "metadata": {
        "id": "1OheO7STqjcY"
      }
    },
    {
      "cell_type": "code",
      "source": [
        "linguagens = [\"Python\", \"R\", \"Java\", \"C++\"]\n",
        "\n",
        "print(\"Primeira Linguagem:\", linguagens[0])\n",
        "print(\"Última Linguagem:\", linguagens[-1])\n",
        "print(\"Terceira Linguagem:\", linguagens[2])"
      ],
      "metadata": {
        "id": "dc8er1UrqQBp"
      },
      "execution_count": null,
      "outputs": []
    },
    {
      "cell_type": "markdown",
      "source": [
        "### <font color=lightblue>1.2.2. Fatiamento de Listas</font>\n",
        "***"
      ],
      "metadata": {
        "id": "vqKqQx_zqpVe"
      }
    },
    {
      "cell_type": "markdown",
      "source": [
        "O fatiamento permite extrair uma subsequência de elementos de uma lista. Utilizamos a sintaxe `lista[inicio:fim:passo]` para fatiar listas, onde:\n",
        "\n",
        " - **inicio**: Índice do primeiro elemento a ser incluído na fatia.\n",
        "\n",
        " - **fim**: Índice do primeiro elemento a ser excluído da fatia.\n",
        "\n",
        " - **passo**: Define o intervalo entre os elementos incluídos na fatia."
      ],
      "metadata": {
        "id": "akhbz9Q1rFVz"
      }
    },
    {
      "cell_type": "markdown",
      "source": [
        "Exemplos:"
      ],
      "metadata": {
        "id": "31SGEvsEsjvv"
      }
    },
    {
      "cell_type": "code",
      "source": [
        "numeros = list(range(1, 10))\n",
        "\n",
        "print(\"Do início ao quinto elemento:\", numeros[:5])\n",
        "print(\"Do terceiro ao penúltimo elemento:\", numeros[2:-1])\n",
        "print(\"Elementos pares:\", numeros[::2])\n",
        "print(\"Invertendo a lista:\", numeros[::-1])"
      ],
      "metadata": {
        "id": "p7YKZ3pNsm9_"
      },
      "execution_count": null,
      "outputs": []
    },
    {
      "cell_type": "markdown",
      "source": [
        "### <font color=lightblue>1.2.3. Métodos de Lista</font>\n",
        "***"
      ],
      "metadata": {
        "id": "ydMmpUGls0Tb"
      }
    },
    {
      "cell_type": "markdown",
      "source": [
        "Python oferece métodos embutidos (funções específicas para listas) que permitem modificar, acessar e manipular listas de diversas maneiras. Alguns métodos importantes:\n",
        "\n",
        " - `append(elemento)`: Adiciona um elemento ao final da lista.\n",
        "\n",
        " - `insert(índice, elemento)`: Insere um elemento em uma posição específica.\n",
        "\n",
        " - `remove(elemento)`: Remove a primeira ocorrência do elemento na lista.\n",
        "\n",
        " - `pop(índice)`: Remove e retorna o elemento no índice especificado (remove o último elemento se o índice não for especificado).\n",
        "\n",
        " - `index(elemento)`: Retorna o índice da primeira ocorrência do elemento.\n",
        "\n",
        " - `count(elemento)`: Conta quantas vezes o elemento aparece na lista.\n",
        "\n",
        " - `sort()`: Ordena a lista em ordem crescente (modifica a lista original).\n",
        "\n",
        " - `reverse()`: Inverte a ordem dos elementos na lista (modifica a lista original)."
      ],
      "metadata": {
        "id": "cDqnpdkKtCJ6"
      }
    },
    {
      "cell_type": "markdown",
      "source": [
        "Exemplos:"
      ],
      "metadata": {
        "id": "UoYO9fcPtdfa"
      }
    },
    {
      "cell_type": "code",
      "source": [
        "cores = [\"vermelho\", \"verde\", \"azul\"]"
      ],
      "metadata": {
        "id": "Bfb9xjVVthsK"
      },
      "execution_count": null,
      "outputs": []
    },
    {
      "cell_type": "code",
      "source": [
        "cores.append(\"amarelo\")\n",
        "print(\"Após append:\", cores)"
      ],
      "metadata": {
        "id": "_Yc7mMkRti3a"
      },
      "execution_count": null,
      "outputs": []
    },
    {
      "cell_type": "code",
      "source": [
        "cores.insert(1, \"roxo\")\n",
        "print(\"Após insert:\", cores)"
      ],
      "metadata": {
        "id": "7ab1jfzEtlIU"
      },
      "execution_count": null,
      "outputs": []
    },
    {
      "cell_type": "code",
      "source": [
        "cores.remove(\"verde\")\n",
        "print(\"Após remove:\", cores)"
      ],
      "metadata": {
        "id": "fg3QK-eMtoHD"
      },
      "execution_count": null,
      "outputs": []
    },
    {
      "cell_type": "code",
      "source": [
        "cor_removida = cores.pop()\n",
        "print(\"Cor removida:\", cor_removida)\n",
        "print(\"Após pop:\", cores)"
      ],
      "metadata": {
        "id": "IZy-cVFhtqJN"
      },
      "execution_count": null,
      "outputs": []
    },
    {
      "cell_type": "code",
      "source": [
        "print(\"Índice do 'azul':\", cores.index(\"azul\"))"
      ],
      "metadata": {
        "id": "eLYTeeIYtshK"
      },
      "execution_count": null,
      "outputs": []
    },
    {
      "cell_type": "markdown",
      "source": [
        "### <font color=lightblue>1.2.4. Iterando sobre Listas com Laços for</font>"
      ],
      "metadata": {
        "id": "E_vvIfuavGGs"
      }
    },
    {
      "cell_type": "markdown",
      "source": [
        "Laços `for` são estruturas de controle que permitem executar um bloco de código repetidamente para cada elemento de uma sequência (como uma lista)."
      ],
      "metadata": {
        "id": "rYUMrTjkvkE1"
      }
    },
    {
      "cell_type": "markdown",
      "source": [
        "Exemplo:"
      ],
      "metadata": {
        "id": "QKT2pqYrv59_"
      }
    },
    {
      "cell_type": "code",
      "source": [
        "nomes = [\"Alice\", \"Bob\", \"Carol\"]"
      ],
      "metadata": {
        "id": "seU1X1SvwAPT"
      },
      "execution_count": null,
      "outputs": []
    },
    {
      "cell_type": "code",
      "source": [
        "for nome in nomes:\n",
        "    print(\"Olá,\", nome + \"!\")"
      ],
      "metadata": {
        "id": "u5A0WOciv1ep"
      },
      "execution_count": null,
      "outputs": []
    },
    {
      "cell_type": "markdown",
      "source": [
        "### Exercícios"
      ],
      "metadata": {
        "id": "snCo3rYkwEKl"
      }
    },
    {
      "cell_type": "markdown",
      "source": [
        "1° Crie um programa que peça ao usuário para inserir 5 números, armazene-os em uma lista e, em seguida:\n",
        "\n",
        " - Imprima o maior e o menor número da lista.\n",
        "\n",
        " - Calcule a média dos números na lista.\n",
        "\n",
        " - Crie uma nova lista contendo apenas os números pares da lista original."
      ],
      "metadata": {
        "id": "8E4S4q2GwUU6"
      }
    },
    {
      "cell_type": "code",
      "source": [
        "numeros = list(map(int, input(\"Digite 5 numeros: \").split()))\n",
        "numeros"
      ],
      "metadata": {
        "id": "Q25s92SIwnW7"
      },
      "execution_count": null,
      "outputs": []
    },
    {
      "cell_type": "code",
      "source": [
        "numeros = []\n",
        "for i in range(0, 5):\n",
        "  n = int(input(f\"Digite o numero {i}: \"))\n",
        "  numeros.append(n)\n",
        "numeros"
      ],
      "metadata": {
        "id": "NmmpZ_08wob8"
      },
      "execution_count": null,
      "outputs": []
    },
    {
      "cell_type": "code",
      "source": [],
      "metadata": {
        "id": "IGqSCYZgwpch"
      },
      "execution_count": null,
      "outputs": []
    },
    {
      "cell_type": "markdown",
      "source": [
        "2° Crie um programa que peça ao usuário para inserir uma frase e, em seguida:\n",
        "\n",
        " - Crie uma lista de palavras da frase (dica: use o método split()).\n",
        "\n",
        " - Conte quantas palavras existem na frase.\n",
        "\n",
        " - Imprima a frase com as palavras em ordem inversa."
      ],
      "metadata": {
        "id": "hNLZN8eqwkAZ"
      }
    },
    {
      "cell_type": "code",
      "source": [
        "frase = input(\"Digite a frase: \").split()"
      ],
      "metadata": {
        "id": "pxS44_EcwsVr"
      },
      "execution_count": null,
      "outputs": []
    },
    {
      "cell_type": "code",
      "source": [
        "len(frase)"
      ],
      "metadata": {
        "id": "L0Cu1g6twrhp"
      },
      "execution_count": null,
      "outputs": []
    },
    {
      "cell_type": "code",
      "source": [
        "for n in frase[::-1]:\n",
        "  print(n, end=' ')"
      ],
      "metadata": {
        "id": "3UXipSYxwqlK"
      },
      "execution_count": null,
      "outputs": []
    },
    {
      "cell_type": "markdown",
      "source": [
        "## <font color=lightblue>1.3. Estruturas de Dados Adicionais em Python</font>\n",
        "***"
      ],
      "metadata": {
        "id": "-JH1d-QjzfbR"
      }
    },
    {
      "cell_type": "markdown",
      "source": [
        "### 1.3.1. Tuplas - Semelhantes, Mas Imutáveis"
      ],
      "metadata": {
        "id": "p5y4hiqO0E7I"
      }
    },
    {
      "cell_type": "markdown",
      "source": [
        "As tuplas são estruturas de dados muito similares às listas, porém com uma diferença crucial: são imutáveis. Isso significa que, após criada, uma tupla não pode ser modificada – não podemos adicionar, remover ou alterar seus elementos."
      ],
      "metadata": {
        "id": "rqh-6lZL0T01"
      }
    },
    {
      "cell_type": "markdown",
      "source": [
        "Criando Tuplas:"
      ],
      "metadata": {
        "id": "sXQ4ZaJq0YeA"
      }
    },
    {
      "cell_type": "code",
      "source": [
        "coordenadas = (10, 20)\n",
        "dias_da_semana = (\"segunda\", \"terça\", \"quarta\", \"quinta\", \"sexta\", \"sábado\", \"domingo\")"
      ],
      "metadata": {
        "id": "AScwo5cu0f2V"
      },
      "execution_count": null,
      "outputs": []
    },
    {
      "cell_type": "code",
      "source": [
        "print(\"Coordenadas:\", coordenadas)\n",
        "print(\"Dias da Semana:\", dias_da_semana)"
      ],
      "metadata": {
        "id": "skZV4IgU0hlr"
      },
      "execution_count": null,
      "outputs": []
    },
    {
      "cell_type": "markdown",
      "source": [
        "Características:\n",
        "\n",
        "● Definidas por Parênteses: Usamos parênteses `()` para criar tuplas, separando os elementos por vírgula.\n",
        "\n",
        "● Imutáveis: A imutabilidade é a principal característica das tuplas, tornando-as úteis em situações onde a integridade dos dados é crucial.\n",
        "\n",
        "● Acessíveis por Índice: Assim como nas listas, acessamos elementos de uma tupla utilizando índices numéricos."
      ],
      "metadata": {
        "id": "Cz8KGk7M0rpJ"
      }
    },
    {
      "cell_type": "markdown",
      "source": [
        "Exemplo de Impossibilidade de Modificação:"
      ],
      "metadata": {
        "id": "UsmEML_K1Nw7"
      }
    },
    {
      "cell_type": "code",
      "source": [
        "coordenadas = (10, 20)"
      ],
      "metadata": {
        "id": "x0qBm-y91Rno"
      },
      "execution_count": null,
      "outputs": []
    },
    {
      "cell_type": "code",
      "source": [
        "coordenadas[0] = 30  # Isso gerará um erro!"
      ],
      "metadata": {
        "id": "srdh2dG81TRZ"
      },
      "execution_count": null,
      "outputs": []
    },
    {
      "cell_type": "code",
      "source": [
        "print(\"Coordenadas:\", coordenadas)  # A tupla permanece inalterada"
      ],
      "metadata": {
        "id": "CMA86tjR22xY"
      },
      "execution_count": null,
      "outputs": []
    },
    {
      "cell_type": "markdown",
      "source": [
        "Quando Usar Tuplas?\n",
        "\n",
        "● Dados Constantes: Quando os dados não precisam ser modificados após a criação, como coordenadas geográficas, constantes físicas, etc.\n",
        "\n",
        "● Segurança: A imutabilidade garante que os dados não sejam alterados acidentalmente durante a execução do programa.\n",
        "\n",
        "● Chaves de Dicionário: Tuplas podem ser usadas como chaves em dicionários (abordado na próxima seção), pois são imutáveis."
      ],
      "metadata": {
        "id": "9iiGHKh93Jq5"
      }
    },
    {
      "cell_type": "markdown",
      "source": [
        "### 1.3.2. Dicionários - Mapeando Dados com Chaves e Valores"
      ],
      "metadata": {
        "id": "FJZEm27_4voK"
      }
    },
    {
      "cell_type": "markdown",
      "source": [
        "Os dicionários são estruturas de dados poderosas que permitem armazenar dados na forma de pares chave-valor. Cada chave em um dicionário é única e está associada a um valor específico."
      ],
      "metadata": {
        "id": "TFk2XEwj433B"
      }
    },
    {
      "cell_type": "markdown",
      "source": [
        "Criando Dicionários:"
      ],
      "metadata": {
        "id": "5bB5fiI34_rA"
      }
    },
    {
      "cell_type": "code",
      "source": [
        "usuario = {\n",
        "    \"nome\": \"Ana\",\n",
        "    \"idade\": 30,\n",
        "    \"cidade\": \"São Paulo\"\n",
        "}"
      ],
      "metadata": {
        "id": "cUDxrPx05E0C"
      },
      "execution_count": null,
      "outputs": []
    },
    {
      "cell_type": "code",
      "source": [
        "print(\"Usuário:\", usuario)"
      ],
      "metadata": {
        "colab": {
          "base_uri": "https://localhost:8080/"
        },
        "id": "wV_Klgiv5Los",
        "outputId": "b3fad3af-d9b2-41cf-e7d2-8397ad8b318a"
      },
      "execution_count": null,
      "outputs": [
        {
          "output_type": "stream",
          "name": "stdout",
          "text": [
            "Usuário: {'nome': 'Ana', 'idade': 30, 'cidade': 'São Paulo'}\n"
          ]
        }
      ]
    },
    {
      "cell_type": "markdown",
      "source": [
        "Características:\n",
        "\n",
        "● Definidos por Chaves: Usamos chaves `{}` para criar dicionários, separando os pares chave-valor por dois pontos :.\n",
        "\n",
        "● Chaves Únicas e Imutáveis: As chaves em um dicionário devem ser únicas e imutáveis, como strings ou tuplas.\n",
        "\n",
        "● Valores Mutáveis: Os valores podem ser de qualquer tipo de dado e podem ser modificados.\n",
        "\n",
        "● Acesso por Chave: Diferente de listas e tuplas, acessamos elementos em um dicionário utilizando suas chaves."
      ],
      "metadata": {
        "id": "e6Bn26HQ5P_S"
      }
    },
    {
      "cell_type": "markdown",
      "source": [
        "Exemplo de Acesso e Modificação:"
      ],
      "metadata": {
        "id": "ITcZISr45a5P"
      }
    },
    {
      "cell_type": "code",
      "source": [
        "print(\"Nome do Usuário:\", usuario[\"nome\"])  # Acessando o valor da chave \"nome\""
      ],
      "metadata": {
        "id": "bvWAmtEh5imx",
        "colab": {
          "base_uri": "https://localhost:8080/"
        },
        "outputId": "7e1d0c38-73d0-4515-aabf-c17d30433d44"
      },
      "execution_count": null,
      "outputs": [
        {
          "output_type": "stream",
          "name": "stdout",
          "text": [
            "Nome do Usuário: Ana\n"
          ]
        }
      ]
    },
    {
      "cell_type": "code",
      "source": [
        "usuario[\"idade\"] = 31  # Modificando o valor da chave \"idade\""
      ],
      "metadata": {
        "id": "xTonu-P65l7R"
      },
      "execution_count": null,
      "outputs": []
    },
    {
      "cell_type": "code",
      "source": [
        "print(\"Usuário Atualizado:\", usuario)"
      ],
      "metadata": {
        "id": "iQQ_Oegr5pkv",
        "colab": {
          "base_uri": "https://localhost:8080/"
        },
        "outputId": "99af0414-ed75-4f87-f5b6-7d2de936b40a"
      },
      "execution_count": null,
      "outputs": [
        {
          "output_type": "stream",
          "name": "stdout",
          "text": [
            "Usuário Atualizado: {'nome': 'Ana', 'idade': 31, 'cidade': 'São Paulo'}\n"
          ]
        }
      ]
    },
    {
      "cell_type": "markdown",
      "source": [
        "Quando Usar Dicionários?\n",
        "\n",
        "● Armazenamento Estruturado: Quando precisamos armazenar dados relacionados de forma organizada, como informações de um usuário, configurações de um sistema, etc.\n",
        "\n",
        "● Busca Rápida: Os dicionários permitem encontrar valores rapidamente com base em suas chaves, tornando-os eficientes para buscas em grandes conjuntos de dados."
      ],
      "metadata": {
        "id": "n7QQ9duZ6_8y"
      }
    },
    {
      "cell_type": "markdown",
      "source": [
        "### Exercícios:\n",
        "1. Crie um programa que peça ao usuário para inserir o nome de um produto e seu preço, armazenando essas informações em um dicionário. Permita que o usuário adicione múltiplos produtos ao dicionário. Ao final, exiba o nome e o preço de cada produto."
      ],
      "metadata": {
        "id": "V3HO2l7F7KH4"
      }
    },
    {
      "cell_type": "code",
      "source": [],
      "metadata": {
        "id": "g4gwTbLQ7gSI"
      },
      "execution_count": null,
      "outputs": []
    },
    {
      "cell_type": "markdown",
      "source": [
        "2. Crie um programa que simule um dicionário de palavras. O programa deve solicitar ao usuário que insira uma palavra, e então exibir sua definição (você pode definir algumas palavras e definições previamente). Caso a palavra não seja encontrada, exiba uma mensagem informando."
      ],
      "metadata": {
        "id": "dPIe1KbQ7cbg"
      }
    },
    {
      "cell_type": "code",
      "source": [],
      "metadata": {
        "id": "17_vEfCq7iEg"
      },
      "execution_count": null,
      "outputs": []
    },
    {
      "cell_type": "markdown",
      "source": [
        "## <font color=lightblue>1.4. Substrings</font>\n",
        "***"
      ],
      "metadata": {
        "id": "wm45S9HVqBLr"
      }
    },
    {
      "cell_type": "markdown",
      "source": [
        "### 1.4.1. O Que São Substrings?"
      ],
      "metadata": {
        "id": "YvYZz6_P8gzn"
      }
    },
    {
      "cell_type": "markdown",
      "source": [
        "Uma substring é simplesmente uma sequência contígua de caracteres dentro de uma string. Por exemplo, na string \"Python\", as substrings \"Pyt\", \"thon\" e \"th\" são apenas alguns exemplos. Podemos pensar em uma substring como uma \"fatia\" da string original."
      ],
      "metadata": {
        "id": "M4SDElf-8mJm"
      }
    },
    {
      "cell_type": "markdown",
      "source": [
        "### 1.4.2. Extraindo Substrings - Fatiamento em Ação"
      ],
      "metadata": {
        "id": "tQ_guMeE8-g9"
      }
    },
    {
      "cell_type": "markdown",
      "source": [
        "Em Python, utilizamos a técnica de fatiamento (slicing) para extrair substrings. O fatiamento utiliza a sintaxe `string[inicio:fim:passo]`, onde:\n",
        "\n",
        "● **inicio**: Índice do primeiro caractere a ser incluído na substring (inclusivo).\n",
        "\n",
        "● **fim**: Índice do primeiro caractere a ser excluído da substring (exclusivo).\n",
        "\n",
        "● **passo**: Define o intervalo entre os caracteres incluídos na substring."
      ],
      "metadata": {
        "id": "tDO5j-Y39QZf"
      }
    },
    {
      "cell_type": "markdown",
      "source": [
        "Exemplos:"
      ],
      "metadata": {
        "id": "i3xNunWi--lM"
      }
    },
    {
      "cell_type": "code",
      "source": [
        "linguagem = \"Python\""
      ],
      "metadata": {
        "id": "PU79s_Th_DHX"
      },
      "execution_count": null,
      "outputs": []
    },
    {
      "cell_type": "code",
      "source": [
        "print(linguagem[:3])  # Imprime \"Pyt\""
      ],
      "metadata": {
        "id": "u_eNKN97_E_I",
        "colab": {
          "base_uri": "https://localhost:8080/"
        },
        "outputId": "0d518517-883d-43c8-8113-c74cc5bb4b27"
      },
      "execution_count": null,
      "outputs": [
        {
          "output_type": "stream",
          "name": "stdout",
          "text": [
            "Pyt\n"
          ]
        }
      ]
    },
    {
      "cell_type": "code",
      "source": [
        "print(linguagem[2:5])  # Imprime \"thon\""
      ],
      "metadata": {
        "id": "VAhCKOZC_N6v",
        "colab": {
          "base_uri": "https://localhost:8080/"
        },
        "outputId": "e0faa81f-c976-408a-c15a-54d5c73c9069"
      },
      "execution_count": null,
      "outputs": [
        {
          "output_type": "stream",
          "name": "stdout",
          "text": [
            "tho\n"
          ]
        }
      ]
    },
    {
      "cell_type": "code",
      "source": [
        "print(linguagem[4:])  # Imprime \"on\" (do índice 4 até o final)"
      ],
      "metadata": {
        "id": "iDGL94OU_vCY",
        "colab": {
          "base_uri": "https://localhost:8080/"
        },
        "outputId": "3e5cecf0-d13b-4f5a-af0e-d41a617e364b"
      },
      "execution_count": null,
      "outputs": [
        {
          "output_type": "stream",
          "name": "stdout",
          "text": [
            "on\n"
          ]
        }
      ]
    },
    {
      "cell_type": "code",
      "source": [
        "print(linguagem[::2])  # Imprime \"Pto\" (caracteres alternados)"
      ],
      "metadata": {
        "id": "eHWZcLwS_wx8",
        "colab": {
          "base_uri": "https://localhost:8080/"
        },
        "outputId": "5360b1ca-2b28-4159-f5a1-f6c145b530c1"
      },
      "execution_count": null,
      "outputs": [
        {
          "output_type": "stream",
          "name": "stdout",
          "text": [
            "Pto\n"
          ]
        }
      ]
    },
    {
      "cell_type": "code",
      "source": [
        "print(linguagem[::-1])  # Imprime \"nohtyP\" (string invertida)"
      ],
      "metadata": {
        "id": "AuFAC_5e_y5f",
        "colab": {
          "base_uri": "https://localhost:8080/"
        },
        "outputId": "e2c1f88c-c12d-4398-c651-3be30bf61888"
      },
      "execution_count": null,
      "outputs": [
        {
          "output_type": "stream",
          "name": "stdout",
          "text": [
            "nohtyP\n"
          ]
        }
      ]
    },
    {
      "cell_type": "markdown",
      "source": [
        "### 1.4.3. Substrings e Métodos de String"
      ],
      "metadata": {
        "id": "K1NRbXxeAh52"
      }
    },
    {
      "cell_type": "markdown",
      "source": [
        "Diversos métodos de string em Python retornam ou manipulam substrings. Alguns exemplos relevantes:\n",
        "\n",
        "● `find(substring)`: Retorna o índice da primeira ocorrência da substring na string. Se a substring não for encontrada, retorna -1.\n",
        "\n",
        "● `replace(substring_antiga, substring_nova)`: Retorna uma nova string com todas as ocorrências da substring antiga substituídas pela nova substring.\n",
        "\n",
        "● `split(separador)`: Divide a string em uma lista de substrings, utilizando o separador especificado."
      ],
      "metadata": {
        "id": "k1PRevAoA3XT"
      }
    },
    {
      "cell_type": "markdown",
      "source": [
        "Exemplos:"
      ],
      "metadata": {
        "id": "ajxgWiAgBR-h"
      }
    },
    {
      "cell_type": "code",
      "source": [
        "frase = \"Python é uma linguagem poderosa.\""
      ],
      "metadata": {
        "id": "3phmiZL5BJFu"
      },
      "execution_count": null,
      "outputs": []
    },
    {
      "cell_type": "code",
      "source": [
        "indice = frase.find(\"linguagem\")\n",
        "print(\"Índice da substring 'linguagem':\", indice)"
      ],
      "metadata": {
        "id": "vdXxK728BaKO",
        "colab": {
          "base_uri": "https://localhost:8080/"
        },
        "outputId": "a3c85d80-6784-44a4-d23b-f7a39b5ce4a9"
      },
      "execution_count": null,
      "outputs": [
        {
          "output_type": "stream",
          "name": "stdout",
          "text": [
            "Índice da substring 'linguagem': 13\n"
          ]
        }
      ]
    },
    {
      "cell_type": "code",
      "source": [
        "nova_frase = frase.replace(\"poderosa\", \"incrível\")\n",
        "print(\"Frase modificada:\", nova_frase)"
      ],
      "metadata": {
        "id": "NKcmyt2cBfyC",
        "colab": {
          "base_uri": "https://localhost:8080/"
        },
        "outputId": "59997d4c-5ea0-4e60-dec2-02e68fafd720"
      },
      "execution_count": null,
      "outputs": [
        {
          "output_type": "stream",
          "name": "stdout",
          "text": [
            "Frase modificada: Python é uma linguagem incrível.\n"
          ]
        }
      ]
    },
    {
      "cell_type": "code",
      "source": [
        "palavras = frase.split()\n",
        "print(\"Lista de palavras:\", palavras)"
      ],
      "metadata": {
        "id": "ZWxqVjFGBjve",
        "colab": {
          "base_uri": "https://localhost:8080/"
        },
        "outputId": "b4e8130b-6b2b-4022-a857-ed9c25e3f5f5"
      },
      "execution_count": null,
      "outputs": [
        {
          "output_type": "stream",
          "name": "stdout",
          "text": [
            "Lista de palavras: ['Python', 'é', 'uma', 'linguagem', 'poderosa.']\n"
          ]
        }
      ]
    },
    {
      "cell_type": "markdown",
      "source": [
        "### 1.4.4. Substrings na Análise de Dados"
      ],
      "metadata": {
        "id": "O0Jy-eDmCJTD"
      }
    },
    {
      "cell_type": "markdown",
      "source": [
        "O domínio de substrings é fundamental para diversas tarefas em análise de dados, como:\n",
        "\n",
        " - Limpeza de Dados: Remover espaços em branco extras, caracteres especiais indesejados e formatar strings de forma consistente.\n",
        "\n",
        " - Extração de Informações: Extrair informações específicas de strings, como nomes de arquivos, endereços de email, datas, etc.\n",
        "\n",
        " - Tokenização de Texto: Dividir um texto em palavras individuais (tokens) para análise."
      ],
      "metadata": {
        "id": "Z-D-_puICclV"
      }
    },
    {
      "cell_type": "markdown",
      "source": [
        "Exemplo:"
      ],
      "metadata": {
        "id": "E4sTxqhkCl7v"
      }
    },
    {
      "cell_type": "code",
      "source": [
        "dados_brutos = \"  Arquivo123.csv; Data: 2023-10-27  \""
      ],
      "metadata": {
        "id": "rO_ul-c8CtKh"
      },
      "execution_count": null,
      "outputs": []
    },
    {
      "cell_type": "code",
      "source": [
        "dados_limpos = dados_brutos.strip()  # Remove espaços extras"
      ],
      "metadata": {
        "id": "_i5HGpQLCwKG"
      },
      "execution_count": null,
      "outputs": []
    },
    {
      "cell_type": "code",
      "source": [
        "nome_arquivo = dados_limpos.split(\";\")\n",
        "data = dados_limpos.split(\"Data: \")[-1]"
      ],
      "metadata": {
        "id": "4Y1FgGEmCy5-"
      },
      "execution_count": null,
      "outputs": []
    },
    {
      "cell_type": "code",
      "source": [
        "print(\"Nome do Arquivo:\", nome_arquivo)"
      ],
      "metadata": {
        "id": "b6j6yT41C4HG",
        "colab": {
          "base_uri": "https://localhost:8080/"
        },
        "outputId": "21a0be15-9b12-4587-d9b4-eebfbe2ba2b3"
      },
      "execution_count": null,
      "outputs": [
        {
          "output_type": "stream",
          "name": "stdout",
          "text": [
            "Nome do Arquivo: ['Arquivo123.csv', ' Data: 2023-10-27']\n"
          ]
        }
      ]
    },
    {
      "cell_type": "code",
      "source": [
        "print(\"Data:\", data)"
      ],
      "metadata": {
        "id": "1G1PrLz8C_Lg",
        "colab": {
          "base_uri": "https://localhost:8080/"
        },
        "outputId": "99fbd958-94ab-42a3-dc9b-094c070108cd"
      },
      "execution_count": null,
      "outputs": [
        {
          "output_type": "stream",
          "name": "stdout",
          "text": [
            "Data: 2023-10-27\n"
          ]
        }
      ]
    },
    {
      "cell_type": "markdown",
      "source": [
        "### Exercícios:"
      ],
      "metadata": {
        "id": "cAYrVcBqDC72"
      }
    },
    {
      "cell_type": "markdown",
      "source": [
        "1. Crie um programa que peça ao usuário para inserir uma frase e, em seguida, imprima apenas as vogais presentes na frase."
      ],
      "metadata": {
        "id": "621WoeOxDhv-"
      }
    },
    {
      "cell_type": "code",
      "source": [],
      "metadata": {
        "id": "BdEswzHODy8f"
      },
      "execution_count": null,
      "outputs": []
    },
    {
      "cell_type": "markdown",
      "source": [
        "2. Crie um programa que solicite ao usuário um endereço de email. Valide se o endereço de email contém o símbolo \"@\" e se possui pelo menos um ponto \".\" após o \"@\". Exiba uma mensagem informando se o endereço é válido ou não."
      ],
      "metadata": {
        "id": "0cSuOSpfDrDI"
      }
    },
    {
      "cell_type": "code",
      "source": [],
      "metadata": {
        "id": "qChWVc3LD1fW"
      },
      "execution_count": null,
      "outputs": []
    },
    {
      "cell_type": "markdown",
      "source": [
        "## <font color=orange> Problemas </font>\n",
        "***"
      ],
      "metadata": {
        "id": "mPk89YdVncap"
      }
    },
    {
      "cell_type": "markdown",
      "source": [
        "Cenário: Análise de Dados de Uma Loja Online\n",
        "\n",
        "Imagine que você foi contratado como um analista de dados júnior por uma loja online que está começando a investir em análise de dados para melhorar suas operações e aumentar suas vendas. Você recebe a tarefa de analisar um conjunto de dados de vendas brutas, armazenado em formato textual, para extrair insights relevantes sobre o desempenho da loja.\n",
        "Dados Fornecidos (Exemplo):\n",
        "\n",
        "`2023-10-27; Produto A; Categoria: Eletrônicos; Preço: 1200.00; Quantidade: 2`\n",
        "\n",
        "`2023-10-28; Produto B; Categoria: Livros; Preço: 29.90; Quantidade: 10`\n",
        "\n",
        "`2023-10-28; Produto C; Categoria: Eletrônicos; Preço: 500.00; Quantidade: 1`\n",
        "\n",
        "`2023-10-29; Produto D; Categoria: Livros; Preço: 19.90; Quantidade: 5`"
      ],
      "metadata": {
        "id": "ZNN884rSYTxh"
      }
    },
    {
      "cell_type": "markdown",
      "source": [
        "Tarefas:\n",
        "\n",
        "1. Processamento dos Dados:\n",
        "\n",
        "○ Utilize seus conhecimentos sobre substrings e o método `split()` para dividir cada linha de dados brutos em informações individuais (data, nome do produto, categoria, preço, quantidade).\n",
        "\n",
        "○ Armazene essas informações em estruturas de dados apropriadas, como listas ou dicionários."
      ],
      "metadata": {
        "id": "StIrKaHJGOB8"
      }
    },
    {
      "cell_type": "code",
      "source": [],
      "metadata": {
        "id": "DJZDJ6mcIZn_"
      },
      "execution_count": null,
      "outputs": []
    },
    {
      "cell_type": "markdown",
      "source": [
        "2. Cálculo de Métricas:\n",
        "\n",
        "○ Utilize laços for e controle de fluxo para iterar sobre os dados processados.\n",
        "\n",
        "○ Calcule o valor total de cada venda (preço * quantidade).\n",
        "\n",
        "○ Calcule a receita total por categoria de produto.\n",
        "\n",
        "○ Encontre o dia com o maior volume de vendas."
      ],
      "metadata": {
        "id": "DV5RDMZMGjh3"
      }
    },
    {
      "cell_type": "code",
      "source": [],
      "metadata": {
        "id": "ATVF45PCIcbu"
      },
      "execution_count": null,
      "outputs": []
    },
    {
      "cell_type": "markdown",
      "source": [
        "3. Apresentação dos Resultados:\n",
        "\n",
        "○ Utilize a função `print()` e f-strings para exibir os resultados de forma organizada e informativa.\n",
        "\n",
        "○ Crie mensagens que resumam os insights encontrados, como: \"A categoria de produto com maior receita foi Eletrônicos, com um total de R$ XXXX.\""
      ],
      "metadata": {
        "id": "fjp02U9WG77-"
      }
    },
    {
      "cell_type": "code",
      "source": [],
      "metadata": {
        "id": "NiagCqySIghn"
      },
      "execution_count": null,
      "outputs": []
    },
    {
      "cell_type": "markdown",
      "source": [
        "# <font color=lightblue>2 Controle de fluxo</font>\n",
        "***"
      ],
      "metadata": {
        "id": "uQ5n3CGO15NK"
      }
    },
    {
      "cell_type": "markdown",
      "source": [
        "O controle de fluxo é uma parte essencial da programação que permite direcionar a ordem em que as instruções são executadas em um programa. Em Python, as estruturas de controle de fluxo são usadas para criar programas que podem tomar decisões e executar diferentes blocos de código com base em condições específicas."
      ],
      "metadata": {
        "id": "9LuJgFIUYZbH"
      }
    },
    {
      "cell_type": "markdown",
      "source": [
        "## 2.1. Instruções Condicionais (if, elif, else)"
      ],
      "metadata": {
        "id": "kEfqX-vUXXBP"
      }
    },
    {
      "cell_type": "markdown",
      "source": [
        "As instruções condicionais são a base da tomada de decisão em Python. Elas permitem que você execute diferentes blocos de código com base no valor de uma expressão booleana (verdadeiro ou falso).\n",
        "\n",
        "Sintaxe:\n",
        "```python\n",
        "if condição1:\n",
        "    # Código a ser executado se a condição1 for verdadeira\n",
        "elif condição2:\n",
        "    # Código a ser executado se a condição2 for verdadeira\n",
        "else:\n",
        "    # Código a ser executado se nenhuma das condições anteriores for verdadeira\n",
        "```"
      ],
      "metadata": {
        "id": "n7Vbj4gOYjn2"
      }
    },
    {
      "cell_type": "markdown",
      "source": [
        "Exemplo:"
      ],
      "metadata": {
        "id": "w7wYKoLcYsU0"
      }
    },
    {
      "cell_type": "code",
      "source": [
        "nota = 7"
      ],
      "metadata": {
        "id": "VWHPpnpwYv1l"
      },
      "execution_count": null,
      "outputs": []
    },
    {
      "cell_type": "code",
      "source": [
        "if nota >= 9:\n",
        "    print(\"Conceito A\")\n",
        "elif nota >= 7:\n",
        "    print(\"Conceito B\")\n",
        "elif nota >= 5:\n",
        "    print(\"Conceito C\")\n",
        "else:\n",
        "    print(\"Conceito D\")"
      ],
      "metadata": {
        "id": "gld76Yj5Y11d",
        "colab": {
          "base_uri": "https://localhost:8080/"
        },
        "outputId": "f0676e9f-caea-4d99-85a3-df218700042d"
      },
      "execution_count": null,
      "outputs": [
        {
          "output_type": "stream",
          "name": "stdout",
          "text": [
            "Conceito B\n"
          ]
        }
      ]
    },
    {
      "cell_type": "markdown",
      "source": [
        "Observações:\n",
        "\n",
        " - O bloco elif é opcional e pode haver vários blocos elif em uma instrução if.\n",
        "   \n",
        " - O bloco else também é opcional e é executado apenas se todas as condições anteriores forem falsas.\n"
      ],
      "metadata": {
        "id": "9Q8JI88pY6Vu"
      }
    },
    {
      "cell_type": "markdown",
      "source": [
        "Exercícios:"
      ],
      "metadata": {
        "id": "n4DVUGIxZi0e"
      }
    },
    {
      "cell_type": "markdown",
      "source": [
        "1. Verificação de Número Par/Ímpar: Crie um programa que solicite ao usuário um número inteiro e utilize instruções condicionais (if, else) para determinar se o número é par ou ímpar. Exiba uma mensagem informando o resultado."
      ],
      "metadata": {
        "id": "jKKvH9BfZlNW"
      }
    },
    {
      "cell_type": "code",
      "source": [],
      "metadata": {
        "id": "jQqpXBPgZtsu"
      },
      "execution_count": null,
      "outputs": []
    },
    {
      "cell_type": "markdown",
      "source": [
        "2. Calculadora Simples: Crie uma calculadora que solicite ao usuário dois números e a operação desejada (+, -, *, /). Utilize if, elif e else para realizar a operação correspondente e exibir o resultado."
      ],
      "metadata": {
        "id": "At7KvBSzZuPi"
      }
    },
    {
      "cell_type": "code",
      "source": [],
      "metadata": {
        "id": "XO-ylM3YZxBm"
      },
      "execution_count": null,
      "outputs": []
    },
    {
      "cell_type": "markdown",
      "source": [
        "3. Validação de Idade: Crie um programa que solicite a idade do usuário e utilize instruções condicionais para determinar se ele é menor de idade (idade < 18), adulto (idade >= 18) ou idoso (idade >= 65). Exiba uma mensagem informando a classificação."
      ],
      "metadata": {
        "id": "7-c-6GvAZxmQ"
      }
    },
    {
      "cell_type": "code",
      "source": [],
      "metadata": {
        "id": "21JJQrtAZy_s"
      },
      "execution_count": null,
      "outputs": []
    },
    {
      "cell_type": "markdown",
      "source": [
        "## 2.2. Laços de Repetição (for, while)"
      ],
      "metadata": {
        "id": "EUxkCTNAXdt1"
      }
    },
    {
      "cell_type": "markdown",
      "source": [
        "### 2.2.1. Laço for"
      ],
      "metadata": {
        "id": "_3wq658SbBKF"
      }
    },
    {
      "cell_type": "markdown",
      "source": [
        "O laço `for` é uma estrutura de controle de fluxo utilizada para iterar sobre uma sequência de elementos. Isso significa que o código dentro do laço for será executado para cada elemento presente na sequência, um de cada vez. Esse tipo de laço é muito útil para automatizar tarefas repetitivas que precisam ser realizadas em cada um dos elementos de uma coleção de dados.\n",
        "\n",
        "Sintaxe:\n",
        "```python\n",
        "for <variavel> in <sequencia>:\n",
        "    # Bloco de código a ser repetido\n",
        "```\n",
        "\n",
        "● `<variavel>`: É uma variável que assumirá o valor de cada elemento da sequência a cada iteração do laço.\n",
        "\n",
        "● `<sequencia>`: Representa a sequência de elementos sobre a qual o laço irá iterar. Pode ser uma lista, tupla, string, etc."
      ],
      "metadata": {
        "id": "epHG-Es_fnwA"
      }
    },
    {
      "cell_type": "markdown",
      "source": [
        "Exemplo:"
      ],
      "metadata": {
        "id": "SBbbG8PngN0U"
      }
    },
    {
      "cell_type": "code",
      "source": [
        "# Imprimir cada dia da semana a partir de uma tupla\n",
        "dias_da_semana = (\"segunda\", \"terça\", \"quarta\", \"quinta\", \"sexta\", \"sábado\", \"domingo\")"
      ],
      "metadata": {
        "id": "k_bwB6SngRIO"
      },
      "execution_count": null,
      "outputs": []
    },
    {
      "cell_type": "code",
      "source": [
        "for dia in dias_da_semana:\n",
        "    print(\"Hoje é\", dia)"
      ],
      "metadata": {
        "id": "BS7rtyNYgU7g"
      },
      "execution_count": null,
      "outputs": []
    },
    {
      "cell_type": "markdown",
      "source": [
        "Neste exemplo, o laço for percorre a tupla `dias_da_semana`. A cada iteração, a variável dia recebe o valor do próximo dia da semana na tupla, e a instrução print(\"Hoje é\", dia) imprime esse valor."
      ],
      "metadata": {
        "id": "BeUHunVTgdGs"
      }
    },
    {
      "cell_type": "markdown",
      "source": [
        "Exercício:"
      ],
      "metadata": {
        "id": "rDO3-dUxgkGk"
      }
    },
    {
      "cell_type": "markdown",
      "source": [
        "Crie um programa que utilize um laço `for` para iterar sobre uma lista de números e calcular a soma de todos os elementos da lista."
      ],
      "metadata": {
        "id": "LeF2wP1pgmqc"
      }
    },
    {
      "cell_type": "code",
      "source": [],
      "metadata": {
        "id": "XoE_qCUzgp1g"
      },
      "execution_count": null,
      "outputs": []
    },
    {
      "cell_type": "markdown",
      "source": [
        "Observações:\n",
        "\n",
        "● A legibilidade do código Python, que utiliza indentação em vez de chaves para delimitar blocos de código, é um dos seus pontos fortes.\n",
        "\n",
        "● O uso de laços `for` é fundamental para manipular dados de forma eficiente em Python, especialmente quando se trabalha com grandes conjuntos de dados, como é comum em análise de dados.\n",
        "\n",
        "● O pandas, uma biblioteca essencial para análise de dados em Python, foi projetado para trabalhar com dados tabulares e heterogêneos, e o uso de laços `for` em conjunto com as estruturas de dados do pandas é muito comum."
      ],
      "metadata": {
        "id": "LOZAziEoiYIz"
      }
    },
    {
      "cell_type": "markdown",
      "source": [
        "### 2.2.2. Laço while"
      ],
      "metadata": {
        "id": "sD14R45vbFxW"
      }
    },
    {
      "cell_type": "markdown",
      "source": [
        "O laço `while` é uma estrutura de controle de fluxo em Python que permite executar um bloco de código repetidamente enquanto uma determinada condição for avaliada como verdadeira. Diferentemente do laço `for`, que itera sobre uma sequência predefinida de elementos, o laço `while` oferece mais flexibilidade, pois ele continuará a executar o bloco de código até que a condição se torne falsa, independentemente do número de iterações.\n",
        "\n",
        "Sintaxe:\n",
        "```python\n",
        "while <condicao>:\n",
        "    # Bloco de código a ser repetido\n",
        "```\n",
        "\n",
        "● `<condicao>`: Uma expressão booleana (que retorna True ou False) que determina se o laço deve continuar executando."
      ],
      "metadata": {
        "id": "w0NmjTw9hCCv"
      }
    },
    {
      "cell_type": "markdown",
      "source": [
        "Exemplo:"
      ],
      "metadata": {
        "id": "87DE5Znxhqbs"
      }
    },
    {
      "cell_type": "code",
      "source": [
        "contador = 1"
      ],
      "metadata": {
        "id": "YvvGQU7Ihs5O"
      },
      "execution_count": null,
      "outputs": []
    },
    {
      "cell_type": "code",
      "source": [
        "while contador <= 5:\n",
        "    print(\"Contador:\", contador)\n",
        "    contador = contador + 1"
      ],
      "metadata": {
        "id": "Ig6GxSDdhvfI",
        "colab": {
          "base_uri": "https://localhost:8080/"
        },
        "outputId": "0c65b31f-a603-484f-a73e-e6d4cb0629ee"
      },
      "execution_count": null,
      "outputs": [
        {
          "output_type": "stream",
          "name": "stdout",
          "text": [
            "Contador: 1\n",
            "Contador: 2\n",
            "Contador: 3\n",
            "Contador: 4\n",
            "Contador: 5\n"
          ]
        }
      ]
    },
    {
      "cell_type": "markdown",
      "source": [
        "Exercício:"
      ],
      "metadata": {
        "id": "dzaVwjy8hzMl"
      }
    },
    {
      "cell_type": "markdown",
      "source": [
        "Crie um programa que utilize um laço `while` para solicitar que o usuário digite números até que ele digite o número `0`. Em seguida, o programa deve imprimir a soma de todos os números digitados."
      ],
      "metadata": {
        "id": "4ZjdBMe0h189"
      }
    },
    {
      "cell_type": "code",
      "source": [],
      "metadata": {
        "id": "5B5TceV4h8HN"
      },
      "execution_count": null,
      "outputs": []
    },
    {
      "cell_type": "markdown",
      "source": [
        "Observações:\n",
        "\n",
        "● O uso de laços `while` exige atenção especial à condição de parada. É fundamental garantir que a condição se torne falsa em algum momento durante a execução do laço para evitar laços infinitos.\n",
        "\n",
        "● As fontes fornecidas, embora abordem conceitos de programação em Python, não mencionam explicitamente o laço `while`. Esta explicação e os exemplos são baseados em meu conhecimento geral de programação em Python."
      ],
      "metadata": {
        "id": "r7MyXl_ViCB8"
      }
    },
    {
      "cell_type": "markdown",
      "source": [
        "## 2.3. Instruções de Controle de Laço (break, continue)"
      ],
      "metadata": {
        "id": "aQcqN77BXix9"
      }
    },
    {
      "cell_type": "markdown",
      "source": [
        "### 2.3.1 Instrução break"
      ],
      "metadata": {
        "id": "gaXIl5JKjMQ0"
      }
    },
    {
      "cell_type": "markdown",
      "source": [
        "A instrução `break` fornece uma maneira de sair abruptamente de um laço `for` ou `while` antes que ele termine sua iteração normal. Quando `break` é encontrado dentro do bloco de código de um laço, a execução do laço é interrompida imediatamente, e o programa continua a partir da próxima instrução após o laço."
      ],
      "metadata": {
        "id": "FJXsYdnpjpj0"
      }
    },
    {
      "cell_type": "markdown",
      "source": [
        "Exemplo:"
      ],
      "metadata": {
        "id": "igdmalBfj3er"
      }
    },
    {
      "cell_type": "code",
      "source": [
        "numeros = list(range(1, 6)) # Cria uma lista de números de 1 a 5"
      ],
      "metadata": {
        "id": "ep-7iAcPjnvs"
      },
      "execution_count": null,
      "outputs": []
    },
    {
      "cell_type": "code",
      "source": [
        "for numero in numeros:\n",
        "    print(numero)\n",
        "    if numero == 3:\n",
        "        break\n",
        "print(\"Laço interrompido!\")"
      ],
      "metadata": {
        "id": "XSxCNBp-j6Ud",
        "colab": {
          "base_uri": "https://localhost:8080/"
        },
        "outputId": "2419ccdd-8b2f-4dac-be90-2fde4b83658b"
      },
      "execution_count": null,
      "outputs": [
        {
          "output_type": "stream",
          "name": "stdout",
          "text": [
            "1\n",
            "2\n",
            "3\n",
            "Laço interrompido!\n"
          ]
        }
      ]
    },
    {
      "cell_type": "markdown",
      "source": [
        "Neste exemplo, o laço `for` itera sobre a lista numeros. A cada iteração, o valor de numero é impresso. Quando numero atinge o valor `3`, a condição `numero == 3` se torna verdadeira, o que faz com que a instrução `break` seja executada, interrompendo o laço."
      ],
      "metadata": {
        "id": "TFfiGM16mTQ7"
      }
    },
    {
      "cell_type": "markdown",
      "source": [
        "Exercício:"
      ],
      "metadata": {
        "id": "GHz1rBgYmhwT"
      }
    },
    {
      "cell_type": "markdown",
      "source": [
        "Crie um programa que solicite ao usuário que digite uma senha. O programa deve permitir no máximo três tentativas. Utilize a instrução break para sair do laço de tentativas se o usuário digitar a senha correta ou se ele exceder o número de tentativas."
      ],
      "metadata": {
        "id": "H9aPKe7Hmmw2"
      }
    },
    {
      "cell_type": "code",
      "source": [],
      "metadata": {
        "id": "__-48Lr-mp0N"
      },
      "execution_count": null,
      "outputs": []
    },
    {
      "cell_type": "markdown",
      "source": [
        "### 2.3.2 Instrução contunie"
      ],
      "metadata": {
        "id": "fci9fw-djRkN"
      }
    },
    {
      "cell_type": "markdown",
      "source": [
        "A instrução `continue`, ao contrário de `break`, não interrompe completamente um laço. Em vez disso, continue interrompe a iteração atual do laço e passa imediatamente para a próxima iteração, ignorando qualquer código restante dentro do bloco de código do laço para aquela iteração específica."
      ],
      "metadata": {
        "id": "-y2G5fsZnHOE"
      }
    },
    {
      "cell_type": "markdown",
      "source": [
        "Exemplo:"
      ],
      "metadata": {
        "id": "IzXr3rhknQu8"
      }
    },
    {
      "cell_type": "code",
      "source": [
        "numeros = list(range(1, 6)) # Cria uma lista de números de 1 a 5"
      ],
      "metadata": {
        "id": "qiS6piqinljp"
      },
      "execution_count": null,
      "outputs": []
    },
    {
      "cell_type": "code",
      "source": [
        "for numero in numeros:\n",
        "    if numero == 3:\n",
        "        continue\n",
        "    print(numero)\n",
        "print(\"Laço concluído!\")"
      ],
      "metadata": {
        "id": "8pRJk1WmnoFj",
        "colab": {
          "base_uri": "https://localhost:8080/"
        },
        "outputId": "0b6b0774-d468-48a2-c948-d53c9e0c9d4c"
      },
      "execution_count": null,
      "outputs": [
        {
          "output_type": "stream",
          "name": "stdout",
          "text": [
            "1\n",
            "2\n",
            "4\n",
            "5\n",
            "Laço concluído!\n"
          ]
        }
      ]
    },
    {
      "cell_type": "markdown",
      "source": [
        "Neste exemplo, o laço `for` itera sobre a lista numeros. Quando numero é igual a `3`, a condição `numero == 3` se torna verdadeira, e a instrução `continue` é executada. Isso faz com que o programa ignore a instrução `print(numero)` para aquela iteração e passe para a próxima iteração do laço."
      ],
      "metadata": {
        "id": "TwDarwVNoDS1"
      }
    },
    {
      "cell_type": "markdown",
      "source": [
        "Exercício:"
      ],
      "metadata": {
        "id": "DDUpE1rsoPUo"
      }
    },
    {
      "cell_type": "markdown",
      "source": [
        "Crie um programa que leia uma lista de números e imprima apenas os números pares. Utilize a instrução continue para ignorar os números ímpares."
      ],
      "metadata": {
        "id": "0vXdT-pzoRXn"
      }
    },
    {
      "cell_type": "code",
      "source": [],
      "metadata": {
        "id": "gaUxp437oVFa"
      },
      "execution_count": null,
      "outputs": []
    },
    {
      "cell_type": "markdown",
      "source": [
        "Observações:\n",
        "\n",
        "● A instrução `continue` é útil para pular iterações de um laço quando determinadas condições são atendidas, evitando processamentos desnecessários.\n",
        "\n",
        "● Assim como `break`, `continue` afeta apenas o laço em que está contida quando usada em laços aninhados."
      ],
      "metadata": {
        "id": "jJvusp4ToVtS"
      }
    },
    {
      "cell_type": "markdown",
      "source": [
        "## <font color=orange> Problemas </font>\n",
        "***"
      ],
      "metadata": {
        "id": "w9hMWD1epL3M"
      }
    },
    {
      "cell_type": "markdown",
      "source": [
        "Agora que você aprendeu sobre controle de fluxo, é hora de aplicar esse conhecimento para resolver um problema prático. Você foi encarregado de desenvolver um sistema para uma biblioteca que automatize o processo de empréstimo de livros, considerando as diferentes regras para cada tipo de usuário (estudante, professor, visitante).\n",
        "\n",
        "  - Solicite ao usuário que informe seu tipo de usuário (estudante, professor, visitante) e o número de livros já emprestados.\n",
        "\n",
        "  - Utilize estruturas de controle de fluxo (if, elif, else) para determinar se o usuário pode pegar mais livros emprestados ou se atingiu o limite.\n",
        "\n",
        "  - Exiba uma mensagem informando o resultado."
      ],
      "metadata": {
        "id": "O9UHyJe3eumN"
      }
    },
    {
      "cell_type": "code",
      "source": [],
      "metadata": {
        "id": "6udo-A-LuW6v"
      },
      "execution_count": null,
      "outputs": []
    },
    {
      "cell_type": "code",
      "source": [],
      "metadata": {
        "id": "qcOif3Y4uWes"
      },
      "execution_count": null,
      "outputs": []
    },
    {
      "cell_type": "code",
      "source": [],
      "metadata": {
        "id": "FSoPr_0wuV9n"
      },
      "execution_count": null,
      "outputs": []
    },
    {
      "cell_type": "markdown",
      "source": [
        "## <font color=green>Solução</font>"
      ],
      "metadata": {
        "id": "1C1QaErcuJxZ"
      }
    },
    {
      "cell_type": "markdown",
      "source": [
        "1° Solicite ao usuário que informe seu tipo de usuário (estudante, professor, visitante) e o número de livros já emprestados."
      ],
      "metadata": {
        "id": "A_1pvFDnfbbz"
      }
    },
    {
      "cell_type": "code",
      "source": [
        "tipo_usuario = input(\"Informe seu tipo de usuário (estudante, professor, visitante): \").strip().lower()\n",
        "livros_emprestados = int(input(\"Informe o número de livros já emprestados: \"))"
      ],
      "metadata": {
        "id": "tvcjGNULguYD",
        "colab": {
          "base_uri": "https://localhost:8080/"
        },
        "outputId": "be9ea99e-fbc1-4fe1-c49f-30d0cae0f51e"
      },
      "execution_count": null,
      "outputs": [
        {
          "name": "stdout",
          "output_type": "stream",
          "text": [
            "Informe seu tipo de usuário (estudante, professor, visitante): tales\n",
            "Informe o número de livros já emprestados: 5\n"
          ]
        }
      ]
    },
    {
      "cell_type": "markdown",
      "source": [
        "2° Utilize estruturas de controle de fluxo (if, elif, else) para determinar se o usuário pode pegar mais livros emprestados ou se atingiu o limite."
      ],
      "metadata": {
        "id": "X8JGVJ5kfepk"
      }
    },
    {
      "cell_type": "code",
      "source": [
        "if tipo_usuario == \"estudante\":\n",
        "    limite = 3\n",
        "elif tipo_usuario == \"professor\":\n",
        "    limite = 5\n",
        "elif tipo_usuario == \"visitante\":\n",
        "    limite = 1\n",
        "else:\n",
        "    print(\"Tipo de usuário inválido.\")\n",
        "    limite = None"
      ],
      "metadata": {
        "id": "eLvfHwIFfiHk",
        "colab": {
          "base_uri": "https://localhost:8080/"
        },
        "outputId": "80925ba3-c515-4b3b-ea49-76aeccdb4936"
      },
      "execution_count": null,
      "outputs": [
        {
          "output_type": "stream",
          "name": "stdout",
          "text": [
            "Tipo de usuário inválido.\n"
          ]
        }
      ]
    },
    {
      "cell_type": "markdown",
      "source": [
        "3° Exiba uma mensagem informando o resultado."
      ],
      "metadata": {
        "id": "jx2M0hwnfgIr"
      }
    },
    {
      "cell_type": "code",
      "source": [
        "if limite is not None:\n",
        "    if livros_emprestados < limite:\n",
        "        livros_restantes = limite - livros_emprestados\n",
        "        print(f\"Você pode pegar mais {livros_restantes} livros emprestados.\")\n",
        "    else:\n",
        "        print(\"Você atingiu o limite de livros emprestados.\")"
      ],
      "metadata": {
        "id": "JKhhJVVafipj"
      },
      "execution_count": null,
      "outputs": []
    },
    {
      "cell_type": "markdown",
      "source": [
        "# <font color=lightblue>3 Funções</font>\n",
        "***"
      ],
      "metadata": {
        "id": "aJJEhkwa26Hp"
      }
    },
    {
      "cell_type": "markdown",
      "source": [
        "## 3.1 Anatomia de uma Função"
      ],
      "metadata": {
        "id": "_YKvfllypyXU"
      }
    },
    {
      "cell_type": "markdown",
      "source": [
        "### 3.1.1 Definindo uma Função:  A Palavra-Chave def"
      ],
      "metadata": {
        "id": "k8NhpkFKtm6Z"
      }
    },
    {
      "cell_type": "markdown",
      "source": [
        "Em Python, a palavra-chave `def` é usada para indicar o início da definição de uma função. Ela instrui o interpretador Python a criar um novo objeto de função, que pode ser chamado posteriormente pelo seu nome.\n",
        "\n",
        "Sintaxe:\n",
        "```python\n",
        "def nome_da_funcao(parametro1, parametro2, ...):\n",
        "    \"\"\"Docstring da função.\"\"\"\n",
        "    # Corpo da função\n",
        "    # ...\n",
        "    return valor  # Opcional\n",
        "```"
      ],
      "metadata": {
        "id": "z0PvFXOYv4IS"
      }
    },
    {
      "cell_type": "markdown",
      "source": [
        "Exemplo:"
      ],
      "metadata": {
        "id": "amEC2h-owLFZ"
      }
    },
    {
      "cell_type": "code",
      "source": [
        "def calcular_area_retangulo(largura, altura):\n",
        "    \"\"\"Calcula a área de um retângulo.\n",
        "\n",
        "    Args:\n",
        "        largura: A largura do retângulo.\n",
        "        altura: A altura do retângulo.\n",
        "\n",
        "    Returns:\n",
        "        A área do retângulo.\n",
        "    \"\"\"\n",
        "    area = largura * altura\n",
        "    return area"
      ],
      "metadata": {
        "id": "3o6olvm_wT2x"
      },
      "execution_count": null,
      "outputs": []
    },
    {
      "cell_type": "code",
      "source": [
        "calcular_area_retangulo(5, 10)"
      ],
      "metadata": {
        "colab": {
          "base_uri": "https://localhost:8080/"
        },
        "id": "Dc58DOiOwd3B",
        "outputId": "137e92fd-713a-40cd-f91c-d006c83af21c"
      },
      "execution_count": null,
      "outputs": [
        {
          "output_type": "execute_result",
          "data": {
            "text/plain": [
              "50"
            ]
          },
          "metadata": {},
          "execution_count": 63
        }
      ]
    },
    {
      "cell_type": "markdown",
      "source": [
        "Exercício:"
      ],
      "metadata": {
        "id": "FRN0cSIFw3ur"
      }
    },
    {
      "cell_type": "markdown",
      "source": [
        "Escreva uma função chamada `calcular_media` que recebe uma lista de números como entrada e retorna a média aritmética dos números na lista."
      ],
      "metadata": {
        "id": "ED5NrFLGw6rM"
      }
    },
    {
      "cell_type": "code",
      "source": [],
      "metadata": {
        "id": "4g9DU81Tykaw"
      },
      "execution_count": null,
      "outputs": []
    },
    {
      "cell_type": "markdown",
      "source": [
        "Observações:\n",
        "\n",
        "● É crucial escolher nomes de função descritivos que reflitam claramente o propósito da função.\n",
        "\n",
        "● Os parênteses após o nome da função podem estar vazios ou conter um ou mais parâmetros.\n",
        "\n",
        "● A instrução `return` é opcional; se omitida, a função retornará `None`.\n",
        "\n",
        "● As docstrings são altamente recomendadas para documentar o código, explicando o que a função faz, quais parâmetros ela recebe e o que ela retorna.\n",
        "\n",
        "● A indentação é essencial em Python para definir blocos de código. O código dentro do corpo da função deve ser indentado para indicar que pertence à função."
      ],
      "metadata": {
        "id": "pxFettyHyleQ"
      }
    },
    {
      "cell_type": "markdown",
      "source": [
        "### 3.1.2  A Instrução return (Opcional)"
      ],
      "metadata": {
        "id": "mzDLKISttuTx"
      }
    },
    {
      "cell_type": "markdown",
      "source": [
        "A instrução `return` em Python é responsável por retornar um valor de uma função para o local onde ela foi chamada. Ela define o resultado da função e, opcionalmente, pode enviar dados de volta para o código que a chamou."
      ],
      "metadata": {
        "id": "4u9UtrywzXvL"
      }
    },
    {
      "cell_type": "markdown",
      "source": [
        "Exemplo:"
      ],
      "metadata": {
        "id": "wMdm_uQbzbYJ"
      }
    },
    {
      "cell_type": "code",
      "source": [
        "def dobrar(x):\n",
        "    \"\"\"Multiplica a entrada por 2.\"\"\"\n",
        "    return x * 2"
      ],
      "metadata": {
        "id": "R0Ii-WbfzetX"
      },
      "execution_count": null,
      "outputs": []
    },
    {
      "cell_type": "code",
      "source": [
        "resultado = dobrar(5)  # Chama a função 'dobrar' com o argumento 5\n",
        "print(resultado)  # Imprime o valor retornado pela função, que é 10"
      ],
      "metadata": {
        "id": "OGAJ_1scziCG",
        "colab": {
          "base_uri": "https://localhost:8080/"
        },
        "outputId": "c9212fcd-452b-4b10-b70d-03eafb8dac2c"
      },
      "execution_count": null,
      "outputs": [
        {
          "output_type": "stream",
          "name": "stdout",
          "text": [
            "10\n"
          ]
        }
      ]
    },
    {
      "cell_type": "markdown",
      "source": [
        "Casos Especiais:\n",
        "\n",
        "● Múltiplos `return`: Uma função pode ter múltiplas instruções `return`, cada uma retornando um valor diferente com base em condições dentro da função.\n",
        "\n",
        "● Retorno sem valor: Se uma função não tiver uma instrução `return` explícita, ela retornará automaticamente o valor None, indicando que a função não produz nenhum resultado específico."
      ],
      "metadata": {
        "id": "p65l1LrF0Cdm"
      }
    },
    {
      "cell_type": "markdown",
      "source": [
        "Exercício:"
      ],
      "metadata": {
        "id": "z2a5Ds800nyg"
      }
    },
    {
      "cell_type": "markdown",
      "source": [
        "Escreva uma função chamada `eh_par` que recebe um número inteiro como entrada. A função deve retornar `True` se o número for par e `False` caso contrário."
      ],
      "metadata": {
        "id": "AWskIhmB0rA_"
      }
    },
    {
      "cell_type": "code",
      "source": [],
      "metadata": {
        "id": "M9q0zu8R09UV"
      },
      "execution_count": null,
      "outputs": []
    },
    {
      "cell_type": "markdown",
      "source": [
        "Observações:\n",
        "\n",
        "● A instrução return é opcional. No entanto, é uma boa prática incluí-la explicitamente para tornar o código mais legível e compreensível.\n",
        "\n",
        "● O valor retornado por uma função pode ser de qualquer tipo de dado em Python, incluindo números, strings, listas, tuplas, dicionários e até mesmo outras funções."
      ],
      "metadata": {
        "id": "aczcqdtl03EY"
      }
    },
    {
      "cell_type": "markdown",
      "source": [
        "## 3.2 Passagem de Argumentos e Valores de Retorno"
      ],
      "metadata": {
        "id": "03hGV6nLp2Is"
      }
    },
    {
      "cell_type": "markdown",
      "source": [
        "### 3.2.1 Tipos de Argumentos"
      ],
      "metadata": {
        "id": "4qay5zZRkN6c"
      }
    },
    {
      "cell_type": "markdown",
      "source": [
        "Em Python, os argumentos são os valores que você passa para uma função quando a chama. Esses argumentos são então usados pela função para realizar sua tarefa. Existem dois tipos principais de argumentos em Python: argumentos posicionais e argumentos nomeados (keywords)."
      ],
      "metadata": {
        "id": "gBpPRujElGDh"
      }
    },
    {
      "cell_type": "markdown",
      "source": [
        "#### Argumentos Posicionais"
      ],
      "metadata": {
        "id": "w6LmsMcklkwp"
      }
    },
    {
      "cell_type": "markdown",
      "source": [
        "Argumentos posicionais são aqueles cujo significado é determinado pela sua posição na chamada da função. Em outras palavras, a ordem em que você coloca os argumentos na chamada da função é crucial, pois cada posição corresponde a um parâmetro específico na definição da função."
      ],
      "metadata": {
        "id": "xfFmsqXaleLh"
      }
    },
    {
      "cell_type": "markdown",
      "source": [
        "Exemplo:"
      ],
      "metadata": {
        "id": "XdFveomylz9J"
      }
    },
    {
      "cell_type": "code",
      "source": [
        "def saudar(nome, mensagem):\n",
        "  \"\"\"\n",
        "  Esta função recebe um nome e uma mensagem e imprime uma saudação.\n",
        "  \"\"\"\n",
        "  print(f\"{mensagem}, {nome}!\")"
      ],
      "metadata": {
        "id": "DwSeYgful5-R"
      },
      "execution_count": null,
      "outputs": []
    },
    {
      "cell_type": "code",
      "source": [
        "saudar(\"Alice\", \"Olá\")  # Saída: Olá, Alice!"
      ],
      "metadata": {
        "id": "f7UqTt1bl9sQ"
      },
      "execution_count": null,
      "outputs": []
    },
    {
      "cell_type": "markdown",
      "source": [
        "#### Argumentos Nomeados (Keywords)"
      ],
      "metadata": {
        "id": "pNQ6AhD_lrGq"
      }
    },
    {
      "cell_type": "markdown",
      "source": [
        "Argumentos nomeados (keywords) permitem que você especifique explicitamente a qual parâmetro cada argumento corresponde, usando o nome do parâmetro na chamada da função. Isso oferece maior flexibilidade e legibilidade, especialmente em funções com muitos parâmetros, pois você não precisa se preocupar com a ordem em que os argumentos são passados."
      ],
      "metadata": {
        "id": "PnPFRhWTlvZ3"
      }
    },
    {
      "cell_type": "code",
      "source": [
        "def descrever_pessoa(nome, idade, cidade):\n",
        "  \"\"\"\n",
        "  Esta função imprime uma descrição de uma pessoa.\n",
        "  \"\"\"\n",
        "  print(f\"{nome} tem {idade} anos e mora em {cidade}.\")"
      ],
      "metadata": {
        "id": "-6ODrrHRmXQd"
      },
      "execution_count": null,
      "outputs": []
    },
    {
      "cell_type": "code",
      "source": [
        "descrever_pessoa(nome=\"Bob\", idade=30, cidade=\"São Paulo\")"
      ],
      "metadata": {
        "id": "vhnEpwatmbOq"
      },
      "execution_count": null,
      "outputs": []
    },
    {
      "cell_type": "code",
      "source": [
        "descrever_pessoa(idade=25, cidade=\"Rio de Janeiro\", nome=\"Carol\")"
      ],
      "metadata": {
        "id": "wJJSefhTmeIg"
      },
      "execution_count": null,
      "outputs": []
    },
    {
      "cell_type": "markdown",
      "source": [
        "### 3.2.2 Valores Padrão (Default) para Argumentos"
      ],
      "metadata": {
        "id": "h4Nm5czpkWGZ"
      }
    },
    {
      "cell_type": "markdown",
      "source": [
        "Em Python, você pode definir valores padrão para os argumentos de uma função. Esses valores são usados automaticamente quando a função é chamada sem que o argumento correspondente seja fornecido.\n",
        "\n",
        "Sintaxe:\n",
        "\n",
        "```python\n",
        "def nome_da_funcao(parametro1=valor_padrão1, parametro2=valor_padrão2, ...):\n",
        "    # corpo da função\n",
        "```\n",
        "\n",
        "Valores padrão são definidos na declaração da função, usando o operador de atribuição (=) após o nome do parâmetro."
      ],
      "metadata": {
        "id": "xB1wo9GRnNjf"
      }
    },
    {
      "cell_type": "markdown",
      "source": [
        "Exemplo:"
      ],
      "metadata": {
        "id": "Zb5AT4FGnvW6"
      }
    },
    {
      "cell_type": "code",
      "source": [
        "def saudar(nome=\"Usuário\", lingua=\"Português\"):\n",
        "    \"\"\"\n",
        "    Saúda o usuário com uma mensagem na língua especificada.\n",
        "    \"\"\"\n",
        "    if lingua == \"Português\":\n",
        "        print(f\"Olá, {nome}!\")\n",
        "    elif lingua == \"Inglês\":\n",
        "        print(f\"Hello, {nome}!\")\n",
        "    else:\n",
        "        print(f\"Desculpe, não sei falar '{lingua}'.\")"
      ],
      "metadata": {
        "id": "3Cou21_7nzBA"
      },
      "execution_count": null,
      "outputs": []
    },
    {
      "cell_type": "code",
      "source": [
        "saudar()"
      ],
      "metadata": {
        "id": "vCdUbms2pVjl"
      },
      "execution_count": null,
      "outputs": []
    },
    {
      "cell_type": "code",
      "source": [
        "saudar(\"Alice\")"
      ],
      "metadata": {
        "id": "4inENV1GpYc0"
      },
      "execution_count": null,
      "outputs": []
    },
    {
      "cell_type": "code",
      "source": [
        "saudar(\"Bob\", \"Inglês\")"
      ],
      "metadata": {
        "id": "3cabE_Zepale"
      },
      "execution_count": null,
      "outputs": []
    },
    {
      "cell_type": "code",
      "source": [
        "saudar(lingua=\"Espanhol\")"
      ],
      "metadata": {
        "id": "mvjSHzJlpc26"
      },
      "execution_count": null,
      "outputs": []
    },
    {
      "cell_type": "markdown",
      "source": [
        "## 3.3 Funções Lambda e suas Aplicações"
      ],
      "metadata": {
        "id": "iR_0pHFBqCUq"
      }
    },
    {
      "cell_type": "markdown",
      "source": [
        "### 3.3.1 Introdução às Funções Lambda"
      ],
      "metadata": {
        "id": "m_QjN4TqtNy3"
      }
    },
    {
      "cell_type": "markdown",
      "source": [
        "Uma função `lambda` em Python é uma função anônima, ou seja, uma função que não possui um nome formal. Em vez de usar a palavra-chave `def` para defini-las, usamos a palavra-chave `lambda`. A estrutura básica de uma função `lambda` é a seguinte:\n",
        "\n",
        "Onde:\n",
        " - `lambda`: A palavra-chave que indica a definição de uma função lambda.\n",
        "\n",
        " - argumentos: Uma lista de argumentos separados por vírgula, semelhante aos argumentos de uma função tradicional.\n",
        "\n",
        " - `:` : O operador que separa a lista de argumentos da expressão.\n",
        "\n",
        " - expressão: Uma única expressão que é avaliada e retornada pela função lambda quando ela é chamada.\n",
        "\n",
        "A principal restrição das funções lambda é que elas podem conter apenas uma única expressão. Isso significa que elas são mais adequadas para operações simples e concisas."
      ],
      "metadata": {
        "id": "xYra1gd7t2dS"
      }
    },
    {
      "cell_type": "markdown",
      "source": [
        "Exemplo:"
      ],
      "metadata": {
        "id": "_aZTGcBguej-"
      }
    },
    {
      "cell_type": "code",
      "source": [
        "somar_cinco = lambda x: x + 5\n",
        "resultado = somar_cinco(10)\n",
        "print(resultado)  # Saída: 15"
      ],
      "metadata": {
        "id": "dYFWhtcFul4d"
      },
      "execution_count": null,
      "outputs": []
    },
    {
      "cell_type": "markdown",
      "source": [
        "### 3.3.2 Aplicações Comuns de Funções Lambda"
      ],
      "metadata": {
        "id": "0nRJbbuwtddx"
      }
    },
    {
      "cell_type": "markdown",
      "source": [
        "Funções lambda, devido à sua sintaxe compacta, são particularmente úteis em situações onde uma função é necessária como argumento para outra função. As fontes fornecem diversos exemplos de como as funções lambda podem ser utilizadas em conjunto com funções de alta ordem e para implementar currying."
      ],
      "metadata": {
        "id": "22njX93M0rN2"
      }
    },
    {
      "cell_type": "markdown",
      "source": [
        "Funções Lambda com Funções de Alta Ordem:"
      ],
      "metadata": {
        "id": "u0AXU-ig1M_I"
      }
    },
    {
      "cell_type": "markdown",
      "source": [
        " -  Mapeamento (`map`):  A função map aplica uma função a cada elemento de uma sequência, retornando uma nova sequência com os resultados."
      ],
      "metadata": {
        "id": "bsOREbI_3HT_"
      }
    },
    {
      "cell_type": "code",
      "source": [
        "numeros = [1, 2, 3, 4, 5] # Definir a lista original\n",
        "dobrados = map(lambda x: x * 2, numeros) # Usar map para aplicar uma função que dobra o valor de cada número\n",
        "print(list(dobrados))  # Converter o resultado em uma lista e exibir"
      ],
      "metadata": {
        "id": "OAkA1f6W3gz9"
      },
      "execution_count": null,
      "outputs": []
    },
    {
      "cell_type": "markdown",
      "source": [
        " -  Filtragem (`filter`): A função filter  usa uma função para selecionar elementos de uma sequência que satisfazem uma determinada condição, retornando uma nova sequência apenas com esses elementos."
      ],
      "metadata": {
        "id": "4T7Yjx833Ram"
      }
    },
    {
      "cell_type": "code",
      "source": [
        "numeros = [1, 2, 3, 4, 5, 6, 7, 8, 9, 10] # Definir a lista original\n",
        "pares = filter(lambda x: x % 2 == 0, numeros) # Usar filter para selecionar apenas os números pares\n",
        "print(list(pares))  # Converter o resultado em uma lista e exibir"
      ],
      "metadata": {
        "id": "pL5DKuQP3-HW"
      },
      "execution_count": null,
      "outputs": []
    },
    {
      "cell_type": "markdown",
      "source": [
        " - Ordenação (`sort`): A função sort, aplicada a listas, pode usar uma função como chave para determinar a ordem de classificação."
      ],
      "metadata": {
        "id": "U7pDIYG93bCe"
      }
    },
    {
      "cell_type": "code",
      "source": [
        "palavras = ['maçã', 'banana', 'kiwi', 'abacaxi', 'uva'] # Definir a lista de strings\n",
        "palavras.sort(key=len) # Usar sort com a função len como chave para ordenar pelo comprimento das strings\n",
        "print(palavras)  # Exibir a lista ordenada"
      ],
      "metadata": {
        "id": "KwcUw3PS4S8F"
      },
      "execution_count": null,
      "outputs": []
    },
    {
      "cell_type": "markdown",
      "source": [
        "### 3.3.3 Vantagens do Uso de Funções Lambda"
      ],
      "metadata": {
        "id": "DrL16ZtgtZYT"
      }
    },
    {
      "cell_type": "markdown",
      "source": [
        "Funções lambda, como destacado em nossa conversa anterior, oferecem vantagens significativas em termos de concisão e flexibilidade na programação Python, especialmente em cenários onde a criação de uma função nomeada tradicional com a palavra-chave `def` seria excessivamente verbosa.\n",
        "\n",
        "Vantagens:\n",
        "\n",
        " - Concisão: Funções lambda permitem expressar operações simples de forma muito mais compacta em comparação com funções definidas com def. Essa concisão pode melhorar significativamente a legibilidade do código, tornando-o mais fácil de entender e manter, especialmente quando se trata de operações simples aplicadas em contextos específicos.\n",
        "\n",
        " - Flexibilidade: A natureza anônima das funções lambda oferece grande flexibilidade em sua aplicação. Elas podem ser usadas diretamente como argumentos para funções de alta ordem, como `map()`, `filter()` e `sort()`, sem a necessidade de definir uma função nomeada separadamente. Essa capacidade de definir funções \"on-the-fly\" torna o código mais fluido e adaptável a diferentes situações, especialmente ao lidar com operações em coleções de dados."
      ],
      "metadata": {
        "id": "MBdNXZ9QvrYv"
      }
    },
    {
      "cell_type": "markdown",
      "source": [
        "Exemplo Ilustrativo:"
      ],
      "metadata": {
        "id": "wsFE8PMKwCGJ"
      }
    },
    {
      "cell_type": "markdown",
      "source": [
        "Considere a tarefa de calcular o quadrado de cada número em uma lista. Sem funções lambda, poderíamos escrever:"
      ],
      "metadata": {
        "id": "drsDVFfFwKW5"
      }
    },
    {
      "cell_type": "code",
      "source": [
        "def quadrado(x):\n",
        "    return x * x\n",
        "\n",
        "numeros = list(range(8, 13))\n",
        "quadrados = list(map(quadrado, numeros))\n",
        "print(quadrados)"
      ],
      "metadata": {
        "colab": {
          "base_uri": "https://localhost:8080/"
        },
        "id": "2Qz-pddlwNgo",
        "outputId": "4337b53d-e03f-4c99-d4c1-b686a74a2b98"
      },
      "execution_count": null,
      "outputs": [
        {
          "output_type": "stream",
          "name": "stdout",
          "text": [
            "[16]\n"
          ]
        }
      ]
    },
    {
      "cell_type": "markdown",
      "source": [
        "Com uma função lambda, a mesma operação se torna muito mais concisa:"
      ],
      "metadata": {
        "id": "y2Qlu0aRwQmH"
      }
    },
    {
      "cell_type": "code",
      "source": [
        "numeros = list(range(8, 13))\n",
        "quadrados = list(map(lambda x: x * x, numeros))\n",
        "print(quadrados)"
      ],
      "metadata": {
        "id": "Cfi2ZxeXwT4B"
      },
      "execution_count": null,
      "outputs": []
    },
    {
      "cell_type": "markdown",
      "source": [
        "## <font color=orange> Problemas </font>\n",
        "***"
      ],
      "metadata": {
        "id": "UehlYd3npQoz"
      }
    },
    {
      "cell_type": "markdown",
      "source": [
        "Você foi contratado para desenvolver uma calculadora de descontos para uma loja online. A loja oferece descontos personalizados para diferentes clientes, dependendo do valor total da compra e do código de desconto inserido. Sua tarefa é escrever uma função que recebe o valor total da compra, o percentual de desconto, e opcionalmente o código de desconto. O código de desconto aplica um desconto adicional ao total final.\n",
        "Requisitos:\n",
        "\n",
        "1° Defina uma função chamada `calcular_preco_final()` que receba os seguintes argumentos:\n",
        "\n",
        " - `valor_total`: o valor total da compra (posicional).\n",
        "\n",
        " - `percentual_desconto`: o percentual de desconto aplicado à compra (posicional).\n",
        "\n",
        " - `codigo_desconto`: um código opcional que, se informado, aplica um desconto adicional de 10% no total final (default: `None`).\n",
        "\n",
        "2° Retorne o preço final da compra após aplicar o desconto. Se o código de desconto for informado, aplique um desconto adicional de 10% sobre o valor já com desconto.\n",
        "\n",
        " - A função deve utilizar: Argumentos posicionais (`valor_total` e `percentual_desconto`). Um argumento com valor padrão (`codigo_desconto`).\n",
        "\n",
        "Dicas:\n",
        "\n",
        " - O desconto deve ser calculado sobre o valor total da compra: `valor_total - (valor_total * percentual_desconto / 100)`.\n",
        "\n",
        " - Se o código de desconto for fornecido, aplique um desconto adicional de 10% sobre o valor final."
      ],
      "metadata": {
        "id": "nQXJBdKjASnU"
      }
    },
    {
      "cell_type": "code",
      "source": [],
      "metadata": {
        "id": "ycXRqZP5Clv4"
      },
      "execution_count": null,
      "outputs": []
    },
    {
      "cell_type": "code",
      "source": [],
      "metadata": {
        "id": "Xl6eSIxmCnOq"
      },
      "execution_count": null,
      "outputs": []
    },
    {
      "cell_type": "code",
      "source": [],
      "metadata": {
        "id": "AxUX_bDwCoj3"
      },
      "execution_count": null,
      "outputs": []
    },
    {
      "cell_type": "markdown",
      "source": [
        "## <font color=green>Solução</font>"
      ],
      "metadata": {
        "id": "9Wkp-oJX_yiM"
      }
    },
    {
      "cell_type": "code",
      "source": [
        "def calcular_preco_final(valor_total, percentual_desconto, codigo_desconto=None):\n",
        "  preco_com_desconto = valor_total - (valor_total*percentual_desconto/100)\n",
        "\n",
        "  if codigo_desconto == \"TOP10\":\n",
        "    preco_com_desconto -= (preco_com_desconto*10/100)\n",
        "\n",
        "  return preco_com_desconto"
      ],
      "metadata": {
        "id": "YQmN4-jbCr2x"
      },
      "execution_count": null,
      "outputs": []
    },
    {
      "cell_type": "code",
      "source": [
        "calcular_preco_final(200, 10, \"TOP10\")"
      ],
      "metadata": {
        "id": "Z5uAt4PKCtY0"
      },
      "execution_count": null,
      "outputs": []
    },
    {
      "cell_type": "markdown",
      "source": [
        "# <font color=lightblue>4 Bibliotecas para data science</font>\n",
        "***"
      ],
      "metadata": {
        "id": "LoOmyZi1QPTl"
      }
    },
    {
      "cell_type": "markdown",
      "source": [
        "## <font color=lightblue> 4.1 Numpy</font>\n",
        "***"
      ],
      "metadata": {
        "id": "s341md9p3k3q"
      }
    },
    {
      "cell_type": "markdown",
      "source": [
        "A NumPy é uma biblioteca fundamental para quem trabalha com dados numéricos em Python. Ela oferece um array multidimensional rápido e eficiente, permitindo a realização de operações matemáticas em grandes conjuntos de dados de forma simples e eficaz. Além disso, a NumPy facilita a leitura e gravação de dados e fornece funções básicas para álgebra linear e geração de números aleatórios, tornando-se uma ferramenta indispensável para manipulação de dados numéricos no Python."
      ],
      "metadata": {
        "id": "BgPYj6aCvwAF"
      }
    },
    {
      "cell_type": "markdown",
      "source": [
        "Importando numpy"
      ],
      "metadata": {
        "id": "1Rqus83Vv6zM"
      }
    },
    {
      "cell_type": "code",
      "source": [
        "import numpy as np"
      ],
      "metadata": {
        "id": "vOj5adi15-cP"
      },
      "execution_count": null,
      "outputs": []
    },
    {
      "cell_type": "markdown",
      "source": [
        "## <font color=lightblue>4.2 Pandas</font>\n",
        "***"
      ],
      "metadata": {
        "id": "sR-D7cDn3uMN"
      }
    },
    {
      "cell_type": "markdown",
      "source": [
        "O Pandas é uma biblioteca do Python que facilita a manipulação e análise de dados estruturados ou tabulares por meio de estruturas de dados como o DataFrame e a Series. Desde seu lançamento em 2010, tem sido fundamental para estabelecer o Python como uma ferramenta eficaz na análise de dados."
      ],
      "metadata": {
        "id": "aruY8o0PoRRx"
      }
    },
    {
      "cell_type": "markdown",
      "source": [
        "Importando pandas"
      ],
      "metadata": {
        "id": "R43cwNQuoWKD"
      }
    },
    {
      "cell_type": "code",
      "source": [
        "import pandas as pd"
      ],
      "metadata": {
        "id": "OuNuJdg-6E7E"
      },
      "execution_count": null,
      "outputs": []
    },
    {
      "cell_type": "markdown",
      "source": [
        "### 4.2.1 Introdução ao Pandas e suas principais funções"
      ],
      "metadata": {
        "id": "GPXIacmhl8pE"
      }
    },
    {
      "cell_type": "markdown",
      "source": [
        "### 4.2.2 Criando um DataFrame com o Pandas"
      ],
      "metadata": {
        "id": "3E3YhMHumDi0"
      }
    },
    {
      "cell_type": "markdown",
      "source": [
        "#### Como criar e manipular DataFrames"
      ],
      "metadata": {
        "id": "t3ft79JDmJFj"
      }
    },
    {
      "cell_type": "markdown",
      "source": [
        "Criando um DataFrame:"
      ],
      "metadata": {
        "id": "WuE7VSAgnt4L"
      }
    },
    {
      "cell_type": "code",
      "source": [
        "data = [(1, 2, 3),\n",
        "        (4, 5, 6),\n",
        "        (7, 8, 9)]\n",
        "df = pd.DataFrame(data, 'l1 l2 l3'.split(), 'c1 c2 c3'.split())\n",
        "df"
      ],
      "metadata": {
        "id": "ruwP3edsnloN"
      },
      "execution_count": null,
      "outputs": []
    },
    {
      "cell_type": "code",
      "source": [
        "[\"n1\", \"n2\", \"n3\"]"
      ],
      "metadata": {
        "colab": {
          "base_uri": "https://localhost:8080/"
        },
        "id": "4H_iVmaky5gU",
        "outputId": "c3b6252f-d216-4263-e1b2-e56c45e69ffd"
      },
      "execution_count": null,
      "outputs": [
        {
          "output_type": "execute_result",
          "data": {
            "text/plain": [
              "['n1', 'n2', 'n3']"
            ]
          },
          "metadata": {},
          "execution_count": 5
        }
      ]
    },
    {
      "cell_type": "markdown",
      "source": [
        "O método .split() divide uma string em uma lista de substrings com base em um delimitador especificado, ou por padrão, espaços em branco."
      ],
      "metadata": {
        "id": "KRIH_2entGex"
      }
    },
    {
      "cell_type": "code",
      "source": [
        "'n1 n2 n3'.split() # Não é necessário o pandas para usar essa função"
      ],
      "metadata": {
        "colab": {
          "base_uri": "https://localhost:8080/"
        },
        "id": "ftKvhDZBySQu",
        "outputId": "c5881b0c-a02f-49ae-8815-9ccb8d8dfe1a"
      },
      "execution_count": null,
      "outputs": [
        {
          "output_type": "execute_result",
          "data": {
            "text/plain": [
              "['n1', 'n2', 'n3']"
            ]
          },
          "metadata": {},
          "execution_count": 6
        }
      ]
    },
    {
      "cell_type": "markdown",
      "source": [
        "###  4.2.3 Selecionando grupos de linhas e colunas"
      ],
      "metadata": {
        "id": "f8ECamidmRLy"
      }
    },
    {
      "cell_type": "markdown",
      "source": [
        "#### Métodos para filtrar e selecionar dados"
      ],
      "metadata": {
        "id": "AOoxKZe0mZHg"
      }
    },
    {
      "cell_type": "code",
      "source": [
        "df.iloc[[0], [0]]"
      ],
      "metadata": {
        "colab": {
          "base_uri": "https://localhost:8080/",
          "height": 81
        },
        "id": "SoUjlPqC1oxH",
        "outputId": "37469c43-8ddf-4504-c575-0185d762d6b9"
      },
      "execution_count": null,
      "outputs": [
        {
          "output_type": "execute_result",
          "data": {
            "text/plain": [
              "   c1\n",
              "1   1"
            ],
            "text/html": [
              "\n",
              "  <div id=\"df-ebb0fcc8-4180-4bdb-97b3-5897ac44b685\" class=\"colab-df-container\">\n",
              "    <div>\n",
              "<style scoped>\n",
              "    .dataframe tbody tr th:only-of-type {\n",
              "        vertical-align: middle;\n",
              "    }\n",
              "\n",
              "    .dataframe tbody tr th {\n",
              "        vertical-align: top;\n",
              "    }\n",
              "\n",
              "    .dataframe thead th {\n",
              "        text-align: right;\n",
              "    }\n",
              "</style>\n",
              "<table border=\"1\" class=\"dataframe\">\n",
              "  <thead>\n",
              "    <tr style=\"text-align: right;\">\n",
              "      <th></th>\n",
              "      <th>c1</th>\n",
              "    </tr>\n",
              "  </thead>\n",
              "  <tbody>\n",
              "    <tr>\n",
              "      <th>1</th>\n",
              "      <td>1</td>\n",
              "    </tr>\n",
              "  </tbody>\n",
              "</table>\n",
              "</div>\n",
              "    <div class=\"colab-df-buttons\">\n",
              "\n",
              "  <div class=\"colab-df-container\">\n",
              "    <button class=\"colab-df-convert\" onclick=\"convertToInteractive('df-ebb0fcc8-4180-4bdb-97b3-5897ac44b685')\"\n",
              "            title=\"Convert this dataframe to an interactive table.\"\n",
              "            style=\"display:none;\">\n",
              "\n",
              "  <svg xmlns=\"http://www.w3.org/2000/svg\" height=\"24px\" viewBox=\"0 -960 960 960\">\n",
              "    <path d=\"M120-120v-720h720v720H120Zm60-500h600v-160H180v160Zm220 220h160v-160H400v160Zm0 220h160v-160H400v160ZM180-400h160v-160H180v160Zm440 0h160v-160H620v160ZM180-180h160v-160H180v160Zm440 0h160v-160H620v160Z\"/>\n",
              "  </svg>\n",
              "    </button>\n",
              "\n",
              "  <style>\n",
              "    .colab-df-container {\n",
              "      display:flex;\n",
              "      gap: 12px;\n",
              "    }\n",
              "\n",
              "    .colab-df-convert {\n",
              "      background-color: #E8F0FE;\n",
              "      border: none;\n",
              "      border-radius: 50%;\n",
              "      cursor: pointer;\n",
              "      display: none;\n",
              "      fill: #1967D2;\n",
              "      height: 32px;\n",
              "      padding: 0 0 0 0;\n",
              "      width: 32px;\n",
              "    }\n",
              "\n",
              "    .colab-df-convert:hover {\n",
              "      background-color: #E2EBFA;\n",
              "      box-shadow: 0px 1px 2px rgba(60, 64, 67, 0.3), 0px 1px 3px 1px rgba(60, 64, 67, 0.15);\n",
              "      fill: #174EA6;\n",
              "    }\n",
              "\n",
              "    .colab-df-buttons div {\n",
              "      margin-bottom: 4px;\n",
              "    }\n",
              "\n",
              "    [theme=dark] .colab-df-convert {\n",
              "      background-color: #3B4455;\n",
              "      fill: #D2E3FC;\n",
              "    }\n",
              "\n",
              "    [theme=dark] .colab-df-convert:hover {\n",
              "      background-color: #434B5C;\n",
              "      box-shadow: 0px 1px 3px 1px rgba(0, 0, 0, 0.15);\n",
              "      filter: drop-shadow(0px 1px 2px rgba(0, 0, 0, 0.3));\n",
              "      fill: #FFFFFF;\n",
              "    }\n",
              "  </style>\n",
              "\n",
              "    <script>\n",
              "      const buttonEl =\n",
              "        document.querySelector('#df-ebb0fcc8-4180-4bdb-97b3-5897ac44b685 button.colab-df-convert');\n",
              "      buttonEl.style.display =\n",
              "        google.colab.kernel.accessAllowed ? 'block' : 'none';\n",
              "\n",
              "      async function convertToInteractive(key) {\n",
              "        const element = document.querySelector('#df-ebb0fcc8-4180-4bdb-97b3-5897ac44b685');\n",
              "        const dataTable =\n",
              "          await google.colab.kernel.invokeFunction('convertToInteractive',\n",
              "                                                    [key], {});\n",
              "        if (!dataTable) return;\n",
              "\n",
              "        const docLinkHtml = 'Like what you see? Visit the ' +\n",
              "          '<a target=\"_blank\" href=https://colab.research.google.com/notebooks/data_table.ipynb>data table notebook</a>'\n",
              "          + ' to learn more about interactive tables.';\n",
              "        element.innerHTML = '';\n",
              "        dataTable['output_type'] = 'display_data';\n",
              "        await google.colab.output.renderOutput(dataTable, element);\n",
              "        const docLink = document.createElement('div');\n",
              "        docLink.innerHTML = docLinkHtml;\n",
              "        element.appendChild(docLink);\n",
              "      }\n",
              "    </script>\n",
              "  </div>\n",
              "\n",
              "\n",
              "    </div>\n",
              "  </div>\n"
            ],
            "application/vnd.google.colaboratory.intrinsic+json": {
              "type": "dataframe",
              "summary": "{\n  \"name\": \"df\",\n  \"rows\": 1,\n  \"fields\": [\n    {\n      \"column\": \"c1\",\n      \"properties\": {\n        \"dtype\": \"number\",\n        \"std\": null,\n        \"min\": 1,\n        \"max\": 1,\n        \"num_unique_values\": 1,\n        \"samples\": [\n          1\n        ],\n        \"semantic_type\": \"\",\n        \"description\": \"\"\n      }\n    }\n  ]\n}"
            }
          },
          "metadata": {},
          "execution_count": 19
        }
      ]
    },
    {
      "cell_type": "code",
      "source": [
        "df.iloc[[0, 1], [1, 2]]"
      ],
      "metadata": {
        "colab": {
          "base_uri": "https://localhost:8080/",
          "height": 112
        },
        "id": "BpVREQau2LdF",
        "outputId": "f726852b-f8c0-4d4a-b3a5-acba26b4cb96"
      },
      "execution_count": null,
      "outputs": [
        {
          "output_type": "execute_result",
          "data": {
            "text/plain": [
              "   c2  c3\n",
              "1   2   3\n",
              "2   5   6"
            ],
            "text/html": [
              "\n",
              "  <div id=\"df-8b604e91-cf83-450b-b2fa-9e34a8df3dce\" class=\"colab-df-container\">\n",
              "    <div>\n",
              "<style scoped>\n",
              "    .dataframe tbody tr th:only-of-type {\n",
              "        vertical-align: middle;\n",
              "    }\n",
              "\n",
              "    .dataframe tbody tr th {\n",
              "        vertical-align: top;\n",
              "    }\n",
              "\n",
              "    .dataframe thead th {\n",
              "        text-align: right;\n",
              "    }\n",
              "</style>\n",
              "<table border=\"1\" class=\"dataframe\">\n",
              "  <thead>\n",
              "    <tr style=\"text-align: right;\">\n",
              "      <th></th>\n",
              "      <th>c2</th>\n",
              "      <th>c3</th>\n",
              "    </tr>\n",
              "  </thead>\n",
              "  <tbody>\n",
              "    <tr>\n",
              "      <th>1</th>\n",
              "      <td>2</td>\n",
              "      <td>3</td>\n",
              "    </tr>\n",
              "    <tr>\n",
              "      <th>2</th>\n",
              "      <td>5</td>\n",
              "      <td>6</td>\n",
              "    </tr>\n",
              "  </tbody>\n",
              "</table>\n",
              "</div>\n",
              "    <div class=\"colab-df-buttons\">\n",
              "\n",
              "  <div class=\"colab-df-container\">\n",
              "    <button class=\"colab-df-convert\" onclick=\"convertToInteractive('df-8b604e91-cf83-450b-b2fa-9e34a8df3dce')\"\n",
              "            title=\"Convert this dataframe to an interactive table.\"\n",
              "            style=\"display:none;\">\n",
              "\n",
              "  <svg xmlns=\"http://www.w3.org/2000/svg\" height=\"24px\" viewBox=\"0 -960 960 960\">\n",
              "    <path d=\"M120-120v-720h720v720H120Zm60-500h600v-160H180v160Zm220 220h160v-160H400v160Zm0 220h160v-160H400v160ZM180-400h160v-160H180v160Zm440 0h160v-160H620v160ZM180-180h160v-160H180v160Zm440 0h160v-160H620v160Z\"/>\n",
              "  </svg>\n",
              "    </button>\n",
              "\n",
              "  <style>\n",
              "    .colab-df-container {\n",
              "      display:flex;\n",
              "      gap: 12px;\n",
              "    }\n",
              "\n",
              "    .colab-df-convert {\n",
              "      background-color: #E8F0FE;\n",
              "      border: none;\n",
              "      border-radius: 50%;\n",
              "      cursor: pointer;\n",
              "      display: none;\n",
              "      fill: #1967D2;\n",
              "      height: 32px;\n",
              "      padding: 0 0 0 0;\n",
              "      width: 32px;\n",
              "    }\n",
              "\n",
              "    .colab-df-convert:hover {\n",
              "      background-color: #E2EBFA;\n",
              "      box-shadow: 0px 1px 2px rgba(60, 64, 67, 0.3), 0px 1px 3px 1px rgba(60, 64, 67, 0.15);\n",
              "      fill: #174EA6;\n",
              "    }\n",
              "\n",
              "    .colab-df-buttons div {\n",
              "      margin-bottom: 4px;\n",
              "    }\n",
              "\n",
              "    [theme=dark] .colab-df-convert {\n",
              "      background-color: #3B4455;\n",
              "      fill: #D2E3FC;\n",
              "    }\n",
              "\n",
              "    [theme=dark] .colab-df-convert:hover {\n",
              "      background-color: #434B5C;\n",
              "      box-shadow: 0px 1px 3px 1px rgba(0, 0, 0, 0.15);\n",
              "      filter: drop-shadow(0px 1px 2px rgba(0, 0, 0, 0.3));\n",
              "      fill: #FFFFFF;\n",
              "    }\n",
              "  </style>\n",
              "\n",
              "    <script>\n",
              "      const buttonEl =\n",
              "        document.querySelector('#df-8b604e91-cf83-450b-b2fa-9e34a8df3dce button.colab-df-convert');\n",
              "      buttonEl.style.display =\n",
              "        google.colab.kernel.accessAllowed ? 'block' : 'none';\n",
              "\n",
              "      async function convertToInteractive(key) {\n",
              "        const element = document.querySelector('#df-8b604e91-cf83-450b-b2fa-9e34a8df3dce');\n",
              "        const dataTable =\n",
              "          await google.colab.kernel.invokeFunction('convertToInteractive',\n",
              "                                                    [key], {});\n",
              "        if (!dataTable) return;\n",
              "\n",
              "        const docLinkHtml = 'Like what you see? Visit the ' +\n",
              "          '<a target=\"_blank\" href=https://colab.research.google.com/notebooks/data_table.ipynb>data table notebook</a>'\n",
              "          + ' to learn more about interactive tables.';\n",
              "        element.innerHTML = '';\n",
              "        dataTable['output_type'] = 'display_data';\n",
              "        await google.colab.output.renderOutput(dataTable, element);\n",
              "        const docLink = document.createElement('div');\n",
              "        docLink.innerHTML = docLinkHtml;\n",
              "        element.appendChild(docLink);\n",
              "      }\n",
              "    </script>\n",
              "  </div>\n",
              "\n",
              "\n",
              "<div id=\"df-ee67638e-e688-409a-aeb1-b6ce8ddd014e\">\n",
              "  <button class=\"colab-df-quickchart\" onclick=\"quickchart('df-ee67638e-e688-409a-aeb1-b6ce8ddd014e')\"\n",
              "            title=\"Suggest charts\"\n",
              "            style=\"display:none;\">\n",
              "\n",
              "<svg xmlns=\"http://www.w3.org/2000/svg\" height=\"24px\"viewBox=\"0 0 24 24\"\n",
              "     width=\"24px\">\n",
              "    <g>\n",
              "        <path d=\"M19 3H5c-1.1 0-2 .9-2 2v14c0 1.1.9 2 2 2h14c1.1 0 2-.9 2-2V5c0-1.1-.9-2-2-2zM9 17H7v-7h2v7zm4 0h-2V7h2v10zm4 0h-2v-4h2v4z\"/>\n",
              "    </g>\n",
              "</svg>\n",
              "  </button>\n",
              "\n",
              "<style>\n",
              "  .colab-df-quickchart {\n",
              "      --bg-color: #E8F0FE;\n",
              "      --fill-color: #1967D2;\n",
              "      --hover-bg-color: #E2EBFA;\n",
              "      --hover-fill-color: #174EA6;\n",
              "      --disabled-fill-color: #AAA;\n",
              "      --disabled-bg-color: #DDD;\n",
              "  }\n",
              "\n",
              "  [theme=dark] .colab-df-quickchart {\n",
              "      --bg-color: #3B4455;\n",
              "      --fill-color: #D2E3FC;\n",
              "      --hover-bg-color: #434B5C;\n",
              "      --hover-fill-color: #FFFFFF;\n",
              "      --disabled-bg-color: #3B4455;\n",
              "      --disabled-fill-color: #666;\n",
              "  }\n",
              "\n",
              "  .colab-df-quickchart {\n",
              "    background-color: var(--bg-color);\n",
              "    border: none;\n",
              "    border-radius: 50%;\n",
              "    cursor: pointer;\n",
              "    display: none;\n",
              "    fill: var(--fill-color);\n",
              "    height: 32px;\n",
              "    padding: 0;\n",
              "    width: 32px;\n",
              "  }\n",
              "\n",
              "  .colab-df-quickchart:hover {\n",
              "    background-color: var(--hover-bg-color);\n",
              "    box-shadow: 0 1px 2px rgba(60, 64, 67, 0.3), 0 1px 3px 1px rgba(60, 64, 67, 0.15);\n",
              "    fill: var(--button-hover-fill-color);\n",
              "  }\n",
              "\n",
              "  .colab-df-quickchart-complete:disabled,\n",
              "  .colab-df-quickchart-complete:disabled:hover {\n",
              "    background-color: var(--disabled-bg-color);\n",
              "    fill: var(--disabled-fill-color);\n",
              "    box-shadow: none;\n",
              "  }\n",
              "\n",
              "  .colab-df-spinner {\n",
              "    border: 2px solid var(--fill-color);\n",
              "    border-color: transparent;\n",
              "    border-bottom-color: var(--fill-color);\n",
              "    animation:\n",
              "      spin 1s steps(1) infinite;\n",
              "  }\n",
              "\n",
              "  @keyframes spin {\n",
              "    0% {\n",
              "      border-color: transparent;\n",
              "      border-bottom-color: var(--fill-color);\n",
              "      border-left-color: var(--fill-color);\n",
              "    }\n",
              "    20% {\n",
              "      border-color: transparent;\n",
              "      border-left-color: var(--fill-color);\n",
              "      border-top-color: var(--fill-color);\n",
              "    }\n",
              "    30% {\n",
              "      border-color: transparent;\n",
              "      border-left-color: var(--fill-color);\n",
              "      border-top-color: var(--fill-color);\n",
              "      border-right-color: var(--fill-color);\n",
              "    }\n",
              "    40% {\n",
              "      border-color: transparent;\n",
              "      border-right-color: var(--fill-color);\n",
              "      border-top-color: var(--fill-color);\n",
              "    }\n",
              "    60% {\n",
              "      border-color: transparent;\n",
              "      border-right-color: var(--fill-color);\n",
              "    }\n",
              "    80% {\n",
              "      border-color: transparent;\n",
              "      border-right-color: var(--fill-color);\n",
              "      border-bottom-color: var(--fill-color);\n",
              "    }\n",
              "    90% {\n",
              "      border-color: transparent;\n",
              "      border-bottom-color: var(--fill-color);\n",
              "    }\n",
              "  }\n",
              "</style>\n",
              "\n",
              "  <script>\n",
              "    async function quickchart(key) {\n",
              "      const quickchartButtonEl =\n",
              "        document.querySelector('#' + key + ' button');\n",
              "      quickchartButtonEl.disabled = true;  // To prevent multiple clicks.\n",
              "      quickchartButtonEl.classList.add('colab-df-spinner');\n",
              "      try {\n",
              "        const charts = await google.colab.kernel.invokeFunction(\n",
              "            'suggestCharts', [key], {});\n",
              "      } catch (error) {\n",
              "        console.error('Error during call to suggestCharts:', error);\n",
              "      }\n",
              "      quickchartButtonEl.classList.remove('colab-df-spinner');\n",
              "      quickchartButtonEl.classList.add('colab-df-quickchart-complete');\n",
              "    }\n",
              "    (() => {\n",
              "      let quickchartButtonEl =\n",
              "        document.querySelector('#df-ee67638e-e688-409a-aeb1-b6ce8ddd014e button');\n",
              "      quickchartButtonEl.style.display =\n",
              "        google.colab.kernel.accessAllowed ? 'block' : 'none';\n",
              "    })();\n",
              "  </script>\n",
              "</div>\n",
              "\n",
              "    </div>\n",
              "  </div>\n"
            ],
            "application/vnd.google.colaboratory.intrinsic+json": {
              "type": "dataframe",
              "summary": "{\n  \"name\": \"df\",\n  \"rows\": 2,\n  \"fields\": [\n    {\n      \"column\": \"c2\",\n      \"properties\": {\n        \"dtype\": \"number\",\n        \"std\": 2,\n        \"min\": 2,\n        \"max\": 5,\n        \"num_unique_values\": 2,\n        \"samples\": [\n          5,\n          2\n        ],\n        \"semantic_type\": \"\",\n        \"description\": \"\"\n      }\n    },\n    {\n      \"column\": \"c3\",\n      \"properties\": {\n        \"dtype\": \"number\",\n        \"std\": 2,\n        \"min\": 3,\n        \"max\": 6,\n        \"num_unique_values\": 2,\n        \"samples\": [\n          6,\n          3\n        ],\n        \"semantic_type\": \"\",\n        \"description\": \"\"\n      }\n    }\n  ]\n}"
            }
          },
          "metadata": {},
          "execution_count": 21
        }
      ]
    },
    {
      "cell_type": "markdown",
      "source": [
        "### <font color=orange> Problemas </font>"
      ],
      "metadata": {
        "id": "tqRSFrFHsecp"
      }
    },
    {
      "cell_type": "markdown",
      "source": [
        "Você recebeu um conjunto de dados contendo informações sobre vendas de produtos em uma loja. Utilize o Pandas para carregar, manipular e analisar esses dados.\n",
        "\n",
        "Dados do Arquivo CSV (vendas.csv):\n",
        "\n",
        "Data       | Produto   | Quantidade | Preço Unitário\n",
        "-----------|-----------|------------|----------------\n",
        "2024-01-01 | Camiseta  | 10         | 29.90          \n",
        "2024-01-01 | Calça     | 5          | 59.90          \n",
        "2024-01-02 | Jaqueta   | 2          | 99.90          \n",
        "2024-01-03 | Camiseta  | 7          | 29.90          \n",
        "2024-01-03 | Calça     | 3          | 59.90          "
      ],
      "metadata": {
        "id": "LJvcgtdbsnP6"
      }
    },
    {
      "cell_type": "markdown",
      "source": [
        "Criando o arquivo CSV:"
      ],
      "metadata": {
        "id": "fFFHJ6QHQDzS"
      }
    },
    {
      "cell_type": "code",
      "source": [
        "# Dados para o DataFrame\n",
        "dados = {\n",
        "    'Data': [\n",
        "        '2024-01-01', '2024-01-01', '2024-01-02', '2024-01-02', '2024-01-03',\n",
        "        '2024-01-03', '2024-01-04', '2024-01-04', '2024-01-05', '2024-01-05',\n",
        "        '2024-01-06', '2024-01-06', '2024-01-07', '2024-01-07', '2024-01-08'\n",
        "    ],\n",
        "    'Produto': [\n",
        "        'Camiseta', 'Calça', 'Jaqueta', 'Camiseta', 'Calça',\n",
        "        'Camiseta', 'Jaqueta', 'Calça', 'Camiseta', 'Jaqueta',\n",
        "        'Calça', 'Camiseta', 'Jaqueta', 'Calça', 'Camiseta'\n",
        "    ],\n",
        "    'Quantidade': [\n",
        "        10, 5, 2, 7, 3,\n",
        "        8, 4, 6, 5, 3,\n",
        "        7, 2, 3, 8, 1\n",
        "    ],\n",
        "    'Preço Unitário': [\n",
        "        29.90, 59.90, 99.90, 29.90, 59.90,\n",
        "        29.90, 99.90, 59.90, 29.90, 99.90,\n",
        "        59.90, 29.90, 99.90, 59.90, 29.90\n",
        "    ]\n",
        "}"
      ],
      "metadata": {
        "id": "cx9zOR5a3whQ"
      },
      "execution_count": null,
      "outputs": []
    },
    {
      "cell_type": "code",
      "source": [
        "# Criar o DataFrame\n",
        "df = pd.DataFrame(dados)"
      ],
      "metadata": {
        "id": "Sxpo0BjF35o8"
      },
      "execution_count": null,
      "outputs": []
    },
    {
      "cell_type": "code",
      "source": [
        "# Salvar o DataFrame como um arquivo CSV\n",
        "df.to_csv('vendas.csv', index=False)"
      ],
      "metadata": {
        "id": "4116L-mY4GlA"
      },
      "execution_count": null,
      "outputs": []
    },
    {
      "cell_type": "markdown",
      "source": [
        "## <font color=green>Solução</font>"
      ],
      "metadata": {
        "id": "QQd_Lld0QGpn"
      }
    },
    {
      "cell_type": "markdown",
      "source": [
        "1° Carregar os Dados: Utilize o Pandas para carregar o arquivo CSV (vendas.csv) em um DataFrame."
      ],
      "metadata": {
        "id": "jxYrfr6luMEJ"
      }
    },
    {
      "cell_type": "code",
      "source": [
        "df = pd.read_csv('vendas.csv')"
      ],
      "metadata": {
        "id": "rEG8c0GIuRqR"
      },
      "execution_count": null,
      "outputs": []
    },
    {
      "cell_type": "markdown",
      "source": [
        "2° Visualizar os Dados: Exiba as primeiras linhas do DataFrame para verificar o conteúdo."
      ],
      "metadata": {
        "id": "_F7MvRhguTD0"
      }
    },
    {
      "cell_type": "code",
      "source": [
        "df.head()"
      ],
      "metadata": {
        "colab": {
          "base_uri": "https://localhost:8080/",
          "height": 206
        },
        "id": "5r7-62TiuX5K",
        "outputId": "9f07d7e1-930a-45e3-ff9a-598eee21d906"
      },
      "execution_count": null,
      "outputs": [
        {
          "output_type": "execute_result",
          "data": {
            "text/plain": [
              "         Data   Produto  Quantidade  Preço Unitário  Total\n",
              "0  2024-01-01  Camiseta          10            29.9  299.0\n",
              "1  2024-01-01     Calça           5            59.9  299.5\n",
              "2  2024-01-02   Jaqueta           2            99.9  199.8\n",
              "3  2024-01-02  Camiseta           7            29.9  209.3\n",
              "4  2024-01-03     Calça           3            59.9  179.7"
            ],
            "text/html": [
              "\n",
              "  <div id=\"df-846f095c-8e96-4a07-a41e-726cd275e85b\" class=\"colab-df-container\">\n",
              "    <div>\n",
              "<style scoped>\n",
              "    .dataframe tbody tr th:only-of-type {\n",
              "        vertical-align: middle;\n",
              "    }\n",
              "\n",
              "    .dataframe tbody tr th {\n",
              "        vertical-align: top;\n",
              "    }\n",
              "\n",
              "    .dataframe thead th {\n",
              "        text-align: right;\n",
              "    }\n",
              "</style>\n",
              "<table border=\"1\" class=\"dataframe\">\n",
              "  <thead>\n",
              "    <tr style=\"text-align: right;\">\n",
              "      <th></th>\n",
              "      <th>Data</th>\n",
              "      <th>Produto</th>\n",
              "      <th>Quantidade</th>\n",
              "      <th>Preço Unitário</th>\n",
              "      <th>Total</th>\n",
              "    </tr>\n",
              "  </thead>\n",
              "  <tbody>\n",
              "    <tr>\n",
              "      <th>0</th>\n",
              "      <td>2024-01-01</td>\n",
              "      <td>Camiseta</td>\n",
              "      <td>10</td>\n",
              "      <td>29.9</td>\n",
              "      <td>299.0</td>\n",
              "    </tr>\n",
              "    <tr>\n",
              "      <th>1</th>\n",
              "      <td>2024-01-01</td>\n",
              "      <td>Calça</td>\n",
              "      <td>5</td>\n",
              "      <td>59.9</td>\n",
              "      <td>299.5</td>\n",
              "    </tr>\n",
              "    <tr>\n",
              "      <th>2</th>\n",
              "      <td>2024-01-02</td>\n",
              "      <td>Jaqueta</td>\n",
              "      <td>2</td>\n",
              "      <td>99.9</td>\n",
              "      <td>199.8</td>\n",
              "    </tr>\n",
              "    <tr>\n",
              "      <th>3</th>\n",
              "      <td>2024-01-02</td>\n",
              "      <td>Camiseta</td>\n",
              "      <td>7</td>\n",
              "      <td>29.9</td>\n",
              "      <td>209.3</td>\n",
              "    </tr>\n",
              "    <tr>\n",
              "      <th>4</th>\n",
              "      <td>2024-01-03</td>\n",
              "      <td>Calça</td>\n",
              "      <td>3</td>\n",
              "      <td>59.9</td>\n",
              "      <td>179.7</td>\n",
              "    </tr>\n",
              "  </tbody>\n",
              "</table>\n",
              "</div>\n",
              "    <div class=\"colab-df-buttons\">\n",
              "\n",
              "  <div class=\"colab-df-container\">\n",
              "    <button class=\"colab-df-convert\" onclick=\"convertToInteractive('df-846f095c-8e96-4a07-a41e-726cd275e85b')\"\n",
              "            title=\"Convert this dataframe to an interactive table.\"\n",
              "            style=\"display:none;\">\n",
              "\n",
              "  <svg xmlns=\"http://www.w3.org/2000/svg\" height=\"24px\" viewBox=\"0 -960 960 960\">\n",
              "    <path d=\"M120-120v-720h720v720H120Zm60-500h600v-160H180v160Zm220 220h160v-160H400v160Zm0 220h160v-160H400v160ZM180-400h160v-160H180v160Zm440 0h160v-160H620v160ZM180-180h160v-160H180v160Zm440 0h160v-160H620v160Z\"/>\n",
              "  </svg>\n",
              "    </button>\n",
              "\n",
              "  <style>\n",
              "    .colab-df-container {\n",
              "      display:flex;\n",
              "      gap: 12px;\n",
              "    }\n",
              "\n",
              "    .colab-df-convert {\n",
              "      background-color: #E8F0FE;\n",
              "      border: none;\n",
              "      border-radius: 50%;\n",
              "      cursor: pointer;\n",
              "      display: none;\n",
              "      fill: #1967D2;\n",
              "      height: 32px;\n",
              "      padding: 0 0 0 0;\n",
              "      width: 32px;\n",
              "    }\n",
              "\n",
              "    .colab-df-convert:hover {\n",
              "      background-color: #E2EBFA;\n",
              "      box-shadow: 0px 1px 2px rgba(60, 64, 67, 0.3), 0px 1px 3px 1px rgba(60, 64, 67, 0.15);\n",
              "      fill: #174EA6;\n",
              "    }\n",
              "\n",
              "    .colab-df-buttons div {\n",
              "      margin-bottom: 4px;\n",
              "    }\n",
              "\n",
              "    [theme=dark] .colab-df-convert {\n",
              "      background-color: #3B4455;\n",
              "      fill: #D2E3FC;\n",
              "    }\n",
              "\n",
              "    [theme=dark] .colab-df-convert:hover {\n",
              "      background-color: #434B5C;\n",
              "      box-shadow: 0px 1px 3px 1px rgba(0, 0, 0, 0.15);\n",
              "      filter: drop-shadow(0px 1px 2px rgba(0, 0, 0, 0.3));\n",
              "      fill: #FFFFFF;\n",
              "    }\n",
              "  </style>\n",
              "\n",
              "    <script>\n",
              "      const buttonEl =\n",
              "        document.querySelector('#df-846f095c-8e96-4a07-a41e-726cd275e85b button.colab-df-convert');\n",
              "      buttonEl.style.display =\n",
              "        google.colab.kernel.accessAllowed ? 'block' : 'none';\n",
              "\n",
              "      async function convertToInteractive(key) {\n",
              "        const element = document.querySelector('#df-846f095c-8e96-4a07-a41e-726cd275e85b');\n",
              "        const dataTable =\n",
              "          await google.colab.kernel.invokeFunction('convertToInteractive',\n",
              "                                                    [key], {});\n",
              "        if (!dataTable) return;\n",
              "\n",
              "        const docLinkHtml = 'Like what you see? Visit the ' +\n",
              "          '<a target=\"_blank\" href=https://colab.research.google.com/notebooks/data_table.ipynb>data table notebook</a>'\n",
              "          + ' to learn more about interactive tables.';\n",
              "        element.innerHTML = '';\n",
              "        dataTable['output_type'] = 'display_data';\n",
              "        await google.colab.output.renderOutput(dataTable, element);\n",
              "        const docLink = document.createElement('div');\n",
              "        docLink.innerHTML = docLinkHtml;\n",
              "        element.appendChild(docLink);\n",
              "      }\n",
              "    </script>\n",
              "  </div>\n",
              "\n",
              "\n",
              "<div id=\"df-bc4dd14f-cd72-4479-80ea-c53b2e467606\">\n",
              "  <button class=\"colab-df-quickchart\" onclick=\"quickchart('df-bc4dd14f-cd72-4479-80ea-c53b2e467606')\"\n",
              "            title=\"Suggest charts\"\n",
              "            style=\"display:none;\">\n",
              "\n",
              "<svg xmlns=\"http://www.w3.org/2000/svg\" height=\"24px\"viewBox=\"0 0 24 24\"\n",
              "     width=\"24px\">\n",
              "    <g>\n",
              "        <path d=\"M19 3H5c-1.1 0-2 .9-2 2v14c0 1.1.9 2 2 2h14c1.1 0 2-.9 2-2V5c0-1.1-.9-2-2-2zM9 17H7v-7h2v7zm4 0h-2V7h2v10zm4 0h-2v-4h2v4z\"/>\n",
              "    </g>\n",
              "</svg>\n",
              "  </button>\n",
              "\n",
              "<style>\n",
              "  .colab-df-quickchart {\n",
              "      --bg-color: #E8F0FE;\n",
              "      --fill-color: #1967D2;\n",
              "      --hover-bg-color: #E2EBFA;\n",
              "      --hover-fill-color: #174EA6;\n",
              "      --disabled-fill-color: #AAA;\n",
              "      --disabled-bg-color: #DDD;\n",
              "  }\n",
              "\n",
              "  [theme=dark] .colab-df-quickchart {\n",
              "      --bg-color: #3B4455;\n",
              "      --fill-color: #D2E3FC;\n",
              "      --hover-bg-color: #434B5C;\n",
              "      --hover-fill-color: #FFFFFF;\n",
              "      --disabled-bg-color: #3B4455;\n",
              "      --disabled-fill-color: #666;\n",
              "  }\n",
              "\n",
              "  .colab-df-quickchart {\n",
              "    background-color: var(--bg-color);\n",
              "    border: none;\n",
              "    border-radius: 50%;\n",
              "    cursor: pointer;\n",
              "    display: none;\n",
              "    fill: var(--fill-color);\n",
              "    height: 32px;\n",
              "    padding: 0;\n",
              "    width: 32px;\n",
              "  }\n",
              "\n",
              "  .colab-df-quickchart:hover {\n",
              "    background-color: var(--hover-bg-color);\n",
              "    box-shadow: 0 1px 2px rgba(60, 64, 67, 0.3), 0 1px 3px 1px rgba(60, 64, 67, 0.15);\n",
              "    fill: var(--button-hover-fill-color);\n",
              "  }\n",
              "\n",
              "  .colab-df-quickchart-complete:disabled,\n",
              "  .colab-df-quickchart-complete:disabled:hover {\n",
              "    background-color: var(--disabled-bg-color);\n",
              "    fill: var(--disabled-fill-color);\n",
              "    box-shadow: none;\n",
              "  }\n",
              "\n",
              "  .colab-df-spinner {\n",
              "    border: 2px solid var(--fill-color);\n",
              "    border-color: transparent;\n",
              "    border-bottom-color: var(--fill-color);\n",
              "    animation:\n",
              "      spin 1s steps(1) infinite;\n",
              "  }\n",
              "\n",
              "  @keyframes spin {\n",
              "    0% {\n",
              "      border-color: transparent;\n",
              "      border-bottom-color: var(--fill-color);\n",
              "      border-left-color: var(--fill-color);\n",
              "    }\n",
              "    20% {\n",
              "      border-color: transparent;\n",
              "      border-left-color: var(--fill-color);\n",
              "      border-top-color: var(--fill-color);\n",
              "    }\n",
              "    30% {\n",
              "      border-color: transparent;\n",
              "      border-left-color: var(--fill-color);\n",
              "      border-top-color: var(--fill-color);\n",
              "      border-right-color: var(--fill-color);\n",
              "    }\n",
              "    40% {\n",
              "      border-color: transparent;\n",
              "      border-right-color: var(--fill-color);\n",
              "      border-top-color: var(--fill-color);\n",
              "    }\n",
              "    60% {\n",
              "      border-color: transparent;\n",
              "      border-right-color: var(--fill-color);\n",
              "    }\n",
              "    80% {\n",
              "      border-color: transparent;\n",
              "      border-right-color: var(--fill-color);\n",
              "      border-bottom-color: var(--fill-color);\n",
              "    }\n",
              "    90% {\n",
              "      border-color: transparent;\n",
              "      border-bottom-color: var(--fill-color);\n",
              "    }\n",
              "  }\n",
              "</style>\n",
              "\n",
              "  <script>\n",
              "    async function quickchart(key) {\n",
              "      const quickchartButtonEl =\n",
              "        document.querySelector('#' + key + ' button');\n",
              "      quickchartButtonEl.disabled = true;  // To prevent multiple clicks.\n",
              "      quickchartButtonEl.classList.add('colab-df-spinner');\n",
              "      try {\n",
              "        const charts = await google.colab.kernel.invokeFunction(\n",
              "            'suggestCharts', [key], {});\n",
              "      } catch (error) {\n",
              "        console.error('Error during call to suggestCharts:', error);\n",
              "      }\n",
              "      quickchartButtonEl.classList.remove('colab-df-spinner');\n",
              "      quickchartButtonEl.classList.add('colab-df-quickchart-complete');\n",
              "    }\n",
              "    (() => {\n",
              "      let quickchartButtonEl =\n",
              "        document.querySelector('#df-bc4dd14f-cd72-4479-80ea-c53b2e467606 button');\n",
              "      quickchartButtonEl.style.display =\n",
              "        google.colab.kernel.accessAllowed ? 'block' : 'none';\n",
              "    })();\n",
              "  </script>\n",
              "</div>\n",
              "\n",
              "    </div>\n",
              "  </div>\n"
            ],
            "application/vnd.google.colaboratory.intrinsic+json": {
              "type": "dataframe",
              "variable_name": "df",
              "summary": "{\n  \"name\": \"df\",\n  \"rows\": 15,\n  \"fields\": [\n    {\n      \"column\": \"Data\",\n      \"properties\": {\n        \"dtype\": \"object\",\n        \"num_unique_values\": 8,\n        \"samples\": [\n          \"2024-01-02\",\n          \"2024-01-06\",\n          \"2024-01-01\"\n        ],\n        \"semantic_type\": \"\",\n        \"description\": \"\"\n      }\n    },\n    {\n      \"column\": \"Produto\",\n      \"properties\": {\n        \"dtype\": \"category\",\n        \"num_unique_values\": 3,\n        \"samples\": [\n          \"Camiseta\",\n          \"Cal\\u00e7a\",\n          \"Jaqueta\"\n        ],\n        \"semantic_type\": \"\",\n        \"description\": \"\"\n      }\n    },\n    {\n      \"column\": \"Quantidade\",\n      \"properties\": {\n        \"dtype\": \"number\",\n        \"std\": 2,\n        \"min\": 1,\n        \"max\": 10,\n        \"num_unique_values\": 9,\n        \"samples\": [\n          6,\n          5,\n          8\n        ],\n        \"semantic_type\": \"\",\n        \"description\": \"\"\n      }\n    },\n    {\n      \"column\": \"Pre\\u00e7o Unit\\u00e1rio\",\n      \"properties\": {\n        \"dtype\": \"number\",\n        \"std\": 28.999178970315366,\n        \"min\": 29.9,\n        \"max\": 99.9,\n        \"num_unique_values\": 3,\n        \"samples\": [\n          29.9,\n          59.9,\n          99.9\n        ],\n        \"semantic_type\": \"\",\n        \"description\": \"\"\n      }\n    },\n    {\n      \"column\": \"Total\",\n      \"properties\": {\n        \"dtype\": \"number\",\n        \"std\": 127.42072867174357,\n        \"min\": 29.9,\n        \"max\": 479.2,\n        \"num_unique_values\": 14,\n        \"samples\": [\n          299.70000000000005,\n          59.8,\n          299.0\n        ],\n        \"semantic_type\": \"\",\n        \"description\": \"\"\n      }\n    }\n  ]\n}"
            }
          },
          "metadata": {},
          "execution_count": 20
        }
      ]
    },
    {
      "cell_type": "markdown",
      "source": [
        "3° Adicionar Coluna de Total: Crie uma nova coluna no DataFrame chamada Total, que será o resultado da multiplicação da Quantidade pelo Preço Unitário."
      ],
      "metadata": {
        "id": "dI9MuN40ueus"
      }
    },
    {
      "cell_type": "code",
      "source": [
        "df['Total'] = df['Quantidade'] * df['Preço Unitário']\n",
        "df.head()"
      ],
      "metadata": {
        "colab": {
          "base_uri": "https://localhost:8080/",
          "height": 206
        },
        "id": "96Mwy0dkujhB",
        "outputId": "5930d486-483e-43b6-cccc-f43b2e184f14"
      },
      "execution_count": null,
      "outputs": [
        {
          "output_type": "execute_result",
          "data": {
            "text/plain": [
              "         Data   Produto  Quantidade  Preço Unitário  Total\n",
              "0  2024-01-01  Camiseta          10            29.9  299.0\n",
              "1  2024-01-01     Calça           5            59.9  299.5\n",
              "2  2024-01-02   Jaqueta           2            99.9  199.8\n",
              "3  2024-01-02  Camiseta           7            29.9  209.3\n",
              "4  2024-01-03     Calça           3            59.9  179.7"
            ],
            "text/html": [
              "\n",
              "  <div id=\"df-7bd087e6-92eb-4d23-aa28-19ac8cad26b3\" class=\"colab-df-container\">\n",
              "    <div>\n",
              "<style scoped>\n",
              "    .dataframe tbody tr th:only-of-type {\n",
              "        vertical-align: middle;\n",
              "    }\n",
              "\n",
              "    .dataframe tbody tr th {\n",
              "        vertical-align: top;\n",
              "    }\n",
              "\n",
              "    .dataframe thead th {\n",
              "        text-align: right;\n",
              "    }\n",
              "</style>\n",
              "<table border=\"1\" class=\"dataframe\">\n",
              "  <thead>\n",
              "    <tr style=\"text-align: right;\">\n",
              "      <th></th>\n",
              "      <th>Data</th>\n",
              "      <th>Produto</th>\n",
              "      <th>Quantidade</th>\n",
              "      <th>Preço Unitário</th>\n",
              "      <th>Total</th>\n",
              "    </tr>\n",
              "  </thead>\n",
              "  <tbody>\n",
              "    <tr>\n",
              "      <th>0</th>\n",
              "      <td>2024-01-01</td>\n",
              "      <td>Camiseta</td>\n",
              "      <td>10</td>\n",
              "      <td>29.9</td>\n",
              "      <td>299.0</td>\n",
              "    </tr>\n",
              "    <tr>\n",
              "      <th>1</th>\n",
              "      <td>2024-01-01</td>\n",
              "      <td>Calça</td>\n",
              "      <td>5</td>\n",
              "      <td>59.9</td>\n",
              "      <td>299.5</td>\n",
              "    </tr>\n",
              "    <tr>\n",
              "      <th>2</th>\n",
              "      <td>2024-01-02</td>\n",
              "      <td>Jaqueta</td>\n",
              "      <td>2</td>\n",
              "      <td>99.9</td>\n",
              "      <td>199.8</td>\n",
              "    </tr>\n",
              "    <tr>\n",
              "      <th>3</th>\n",
              "      <td>2024-01-02</td>\n",
              "      <td>Camiseta</td>\n",
              "      <td>7</td>\n",
              "      <td>29.9</td>\n",
              "      <td>209.3</td>\n",
              "    </tr>\n",
              "    <tr>\n",
              "      <th>4</th>\n",
              "      <td>2024-01-03</td>\n",
              "      <td>Calça</td>\n",
              "      <td>3</td>\n",
              "      <td>59.9</td>\n",
              "      <td>179.7</td>\n",
              "    </tr>\n",
              "  </tbody>\n",
              "</table>\n",
              "</div>\n",
              "    <div class=\"colab-df-buttons\">\n",
              "\n",
              "  <div class=\"colab-df-container\">\n",
              "    <button class=\"colab-df-convert\" onclick=\"convertToInteractive('df-7bd087e6-92eb-4d23-aa28-19ac8cad26b3')\"\n",
              "            title=\"Convert this dataframe to an interactive table.\"\n",
              "            style=\"display:none;\">\n",
              "\n",
              "  <svg xmlns=\"http://www.w3.org/2000/svg\" height=\"24px\" viewBox=\"0 -960 960 960\">\n",
              "    <path d=\"M120-120v-720h720v720H120Zm60-500h600v-160H180v160Zm220 220h160v-160H400v160Zm0 220h160v-160H400v160ZM180-400h160v-160H180v160Zm440 0h160v-160H620v160ZM180-180h160v-160H180v160Zm440 0h160v-160H620v160Z\"/>\n",
              "  </svg>\n",
              "    </button>\n",
              "\n",
              "  <style>\n",
              "    .colab-df-container {\n",
              "      display:flex;\n",
              "      gap: 12px;\n",
              "    }\n",
              "\n",
              "    .colab-df-convert {\n",
              "      background-color: #E8F0FE;\n",
              "      border: none;\n",
              "      border-radius: 50%;\n",
              "      cursor: pointer;\n",
              "      display: none;\n",
              "      fill: #1967D2;\n",
              "      height: 32px;\n",
              "      padding: 0 0 0 0;\n",
              "      width: 32px;\n",
              "    }\n",
              "\n",
              "    .colab-df-convert:hover {\n",
              "      background-color: #E2EBFA;\n",
              "      box-shadow: 0px 1px 2px rgba(60, 64, 67, 0.3), 0px 1px 3px 1px rgba(60, 64, 67, 0.15);\n",
              "      fill: #174EA6;\n",
              "    }\n",
              "\n",
              "    .colab-df-buttons div {\n",
              "      margin-bottom: 4px;\n",
              "    }\n",
              "\n",
              "    [theme=dark] .colab-df-convert {\n",
              "      background-color: #3B4455;\n",
              "      fill: #D2E3FC;\n",
              "    }\n",
              "\n",
              "    [theme=dark] .colab-df-convert:hover {\n",
              "      background-color: #434B5C;\n",
              "      box-shadow: 0px 1px 3px 1px rgba(0, 0, 0, 0.15);\n",
              "      filter: drop-shadow(0px 1px 2px rgba(0, 0, 0, 0.3));\n",
              "      fill: #FFFFFF;\n",
              "    }\n",
              "  </style>\n",
              "\n",
              "    <script>\n",
              "      const buttonEl =\n",
              "        document.querySelector('#df-7bd087e6-92eb-4d23-aa28-19ac8cad26b3 button.colab-df-convert');\n",
              "      buttonEl.style.display =\n",
              "        google.colab.kernel.accessAllowed ? 'block' : 'none';\n",
              "\n",
              "      async function convertToInteractive(key) {\n",
              "        const element = document.querySelector('#df-7bd087e6-92eb-4d23-aa28-19ac8cad26b3');\n",
              "        const dataTable =\n",
              "          await google.colab.kernel.invokeFunction('convertToInteractive',\n",
              "                                                    [key], {});\n",
              "        if (!dataTable) return;\n",
              "\n",
              "        const docLinkHtml = 'Like what you see? Visit the ' +\n",
              "          '<a target=\"_blank\" href=https://colab.research.google.com/notebooks/data_table.ipynb>data table notebook</a>'\n",
              "          + ' to learn more about interactive tables.';\n",
              "        element.innerHTML = '';\n",
              "        dataTable['output_type'] = 'display_data';\n",
              "        await google.colab.output.renderOutput(dataTable, element);\n",
              "        const docLink = document.createElement('div');\n",
              "        docLink.innerHTML = docLinkHtml;\n",
              "        element.appendChild(docLink);\n",
              "      }\n",
              "    </script>\n",
              "  </div>\n",
              "\n",
              "\n",
              "<div id=\"df-c2e51b5f-9f1c-44c4-be7a-d475a96d78b4\">\n",
              "  <button class=\"colab-df-quickchart\" onclick=\"quickchart('df-c2e51b5f-9f1c-44c4-be7a-d475a96d78b4')\"\n",
              "            title=\"Suggest charts\"\n",
              "            style=\"display:none;\">\n",
              "\n",
              "<svg xmlns=\"http://www.w3.org/2000/svg\" height=\"24px\"viewBox=\"0 0 24 24\"\n",
              "     width=\"24px\">\n",
              "    <g>\n",
              "        <path d=\"M19 3H5c-1.1 0-2 .9-2 2v14c0 1.1.9 2 2 2h14c1.1 0 2-.9 2-2V5c0-1.1-.9-2-2-2zM9 17H7v-7h2v7zm4 0h-2V7h2v10zm4 0h-2v-4h2v4z\"/>\n",
              "    </g>\n",
              "</svg>\n",
              "  </button>\n",
              "\n",
              "<style>\n",
              "  .colab-df-quickchart {\n",
              "      --bg-color: #E8F0FE;\n",
              "      --fill-color: #1967D2;\n",
              "      --hover-bg-color: #E2EBFA;\n",
              "      --hover-fill-color: #174EA6;\n",
              "      --disabled-fill-color: #AAA;\n",
              "      --disabled-bg-color: #DDD;\n",
              "  }\n",
              "\n",
              "  [theme=dark] .colab-df-quickchart {\n",
              "      --bg-color: #3B4455;\n",
              "      --fill-color: #D2E3FC;\n",
              "      --hover-bg-color: #434B5C;\n",
              "      --hover-fill-color: #FFFFFF;\n",
              "      --disabled-bg-color: #3B4455;\n",
              "      --disabled-fill-color: #666;\n",
              "  }\n",
              "\n",
              "  .colab-df-quickchart {\n",
              "    background-color: var(--bg-color);\n",
              "    border: none;\n",
              "    border-radius: 50%;\n",
              "    cursor: pointer;\n",
              "    display: none;\n",
              "    fill: var(--fill-color);\n",
              "    height: 32px;\n",
              "    padding: 0;\n",
              "    width: 32px;\n",
              "  }\n",
              "\n",
              "  .colab-df-quickchart:hover {\n",
              "    background-color: var(--hover-bg-color);\n",
              "    box-shadow: 0 1px 2px rgba(60, 64, 67, 0.3), 0 1px 3px 1px rgba(60, 64, 67, 0.15);\n",
              "    fill: var(--button-hover-fill-color);\n",
              "  }\n",
              "\n",
              "  .colab-df-quickchart-complete:disabled,\n",
              "  .colab-df-quickchart-complete:disabled:hover {\n",
              "    background-color: var(--disabled-bg-color);\n",
              "    fill: var(--disabled-fill-color);\n",
              "    box-shadow: none;\n",
              "  }\n",
              "\n",
              "  .colab-df-spinner {\n",
              "    border: 2px solid var(--fill-color);\n",
              "    border-color: transparent;\n",
              "    border-bottom-color: var(--fill-color);\n",
              "    animation:\n",
              "      spin 1s steps(1) infinite;\n",
              "  }\n",
              "\n",
              "  @keyframes spin {\n",
              "    0% {\n",
              "      border-color: transparent;\n",
              "      border-bottom-color: var(--fill-color);\n",
              "      border-left-color: var(--fill-color);\n",
              "    }\n",
              "    20% {\n",
              "      border-color: transparent;\n",
              "      border-left-color: var(--fill-color);\n",
              "      border-top-color: var(--fill-color);\n",
              "    }\n",
              "    30% {\n",
              "      border-color: transparent;\n",
              "      border-left-color: var(--fill-color);\n",
              "      border-top-color: var(--fill-color);\n",
              "      border-right-color: var(--fill-color);\n",
              "    }\n",
              "    40% {\n",
              "      border-color: transparent;\n",
              "      border-right-color: var(--fill-color);\n",
              "      border-top-color: var(--fill-color);\n",
              "    }\n",
              "    60% {\n",
              "      border-color: transparent;\n",
              "      border-right-color: var(--fill-color);\n",
              "    }\n",
              "    80% {\n",
              "      border-color: transparent;\n",
              "      border-right-color: var(--fill-color);\n",
              "      border-bottom-color: var(--fill-color);\n",
              "    }\n",
              "    90% {\n",
              "      border-color: transparent;\n",
              "      border-bottom-color: var(--fill-color);\n",
              "    }\n",
              "  }\n",
              "</style>\n",
              "\n",
              "  <script>\n",
              "    async function quickchart(key) {\n",
              "      const quickchartButtonEl =\n",
              "        document.querySelector('#' + key + ' button');\n",
              "      quickchartButtonEl.disabled = true;  // To prevent multiple clicks.\n",
              "      quickchartButtonEl.classList.add('colab-df-spinner');\n",
              "      try {\n",
              "        const charts = await google.colab.kernel.invokeFunction(\n",
              "            'suggestCharts', [key], {});\n",
              "      } catch (error) {\n",
              "        console.error('Error during call to suggestCharts:', error);\n",
              "      }\n",
              "      quickchartButtonEl.classList.remove('colab-df-spinner');\n",
              "      quickchartButtonEl.classList.add('colab-df-quickchart-complete');\n",
              "    }\n",
              "    (() => {\n",
              "      let quickchartButtonEl =\n",
              "        document.querySelector('#df-c2e51b5f-9f1c-44c4-be7a-d475a96d78b4 button');\n",
              "      quickchartButtonEl.style.display =\n",
              "        google.colab.kernel.accessAllowed ? 'block' : 'none';\n",
              "    })();\n",
              "  </script>\n",
              "</div>\n",
              "\n",
              "    </div>\n",
              "  </div>\n"
            ],
            "application/vnd.google.colaboratory.intrinsic+json": {
              "type": "dataframe",
              "variable_name": "df",
              "summary": "{\n  \"name\": \"df\",\n  \"rows\": 15,\n  \"fields\": [\n    {\n      \"column\": \"Data\",\n      \"properties\": {\n        \"dtype\": \"object\",\n        \"num_unique_values\": 8,\n        \"samples\": [\n          \"2024-01-02\",\n          \"2024-01-06\",\n          \"2024-01-01\"\n        ],\n        \"semantic_type\": \"\",\n        \"description\": \"\"\n      }\n    },\n    {\n      \"column\": \"Produto\",\n      \"properties\": {\n        \"dtype\": \"category\",\n        \"num_unique_values\": 3,\n        \"samples\": [\n          \"Camiseta\",\n          \"Cal\\u00e7a\",\n          \"Jaqueta\"\n        ],\n        \"semantic_type\": \"\",\n        \"description\": \"\"\n      }\n    },\n    {\n      \"column\": \"Quantidade\",\n      \"properties\": {\n        \"dtype\": \"number\",\n        \"std\": 2,\n        \"min\": 1,\n        \"max\": 10,\n        \"num_unique_values\": 9,\n        \"samples\": [\n          6,\n          5,\n          8\n        ],\n        \"semantic_type\": \"\",\n        \"description\": \"\"\n      }\n    },\n    {\n      \"column\": \"Pre\\u00e7o Unit\\u00e1rio\",\n      \"properties\": {\n        \"dtype\": \"number\",\n        \"std\": 28.999178970315366,\n        \"min\": 29.9,\n        \"max\": 99.9,\n        \"num_unique_values\": 3,\n        \"samples\": [\n          29.9,\n          59.9,\n          99.9\n        ],\n        \"semantic_type\": \"\",\n        \"description\": \"\"\n      }\n    },\n    {\n      \"column\": \"Total\",\n      \"properties\": {\n        \"dtype\": \"number\",\n        \"std\": 127.42072867174357,\n        \"min\": 29.9,\n        \"max\": 479.2,\n        \"num_unique_values\": 14,\n        \"samples\": [\n          299.70000000000005,\n          59.8,\n          299.0\n        ],\n        \"semantic_type\": \"\",\n        \"description\": \"\"\n      }\n    }\n  ]\n}"
            }
          },
          "metadata": {},
          "execution_count": 8
        }
      ]
    },
    {
      "cell_type": "markdown",
      "source": [
        "4° Analisar Vendas Totais: Calcule o valor total das vendas para cada produto e exiba o resultado."
      ],
      "metadata": {
        "id": "kaQw1OF8un2p"
      }
    },
    {
      "cell_type": "code",
      "source": [
        "vendas_totais = df.groupby('Produto')['Total'].sum()\n",
        "vendas_totais"
      ],
      "metadata": {
        "colab": {
          "base_uri": "https://localhost:8080/",
          "height": 210
        },
        "id": "6jGhfIvLu3UK",
        "outputId": "07ab9eb4-e580-48d2-af81-09b2010cf93f"
      },
      "execution_count": null,
      "outputs": [
        {
          "output_type": "execute_result",
          "data": {
            "text/plain": [
              "Produto\n",
              "Calça       1737.1\n",
              "Camiseta     986.7\n",
              "Jaqueta     1198.8\n",
              "Name: Total, dtype: float64"
            ],
            "text/html": [
              "<div>\n",
              "<style scoped>\n",
              "    .dataframe tbody tr th:only-of-type {\n",
              "        vertical-align: middle;\n",
              "    }\n",
              "\n",
              "    .dataframe tbody tr th {\n",
              "        vertical-align: top;\n",
              "    }\n",
              "\n",
              "    .dataframe thead th {\n",
              "        text-align: right;\n",
              "    }\n",
              "</style>\n",
              "<table border=\"1\" class=\"dataframe\">\n",
              "  <thead>\n",
              "    <tr style=\"text-align: right;\">\n",
              "      <th></th>\n",
              "      <th>Total</th>\n",
              "    </tr>\n",
              "    <tr>\n",
              "      <th>Produto</th>\n",
              "      <th></th>\n",
              "    </tr>\n",
              "  </thead>\n",
              "  <tbody>\n",
              "    <tr>\n",
              "      <th>Calça</th>\n",
              "      <td>1737.1</td>\n",
              "    </tr>\n",
              "    <tr>\n",
              "      <th>Camiseta</th>\n",
              "      <td>986.7</td>\n",
              "    </tr>\n",
              "    <tr>\n",
              "      <th>Jaqueta</th>\n",
              "      <td>1198.8</td>\n",
              "    </tr>\n",
              "  </tbody>\n",
              "</table>\n",
              "</div><br><label><b>dtype:</b> float64</label>"
            ]
          },
          "metadata": {},
          "execution_count": 9
        }
      ]
    },
    {
      "cell_type": "markdown",
      "source": [
        "5° Filtrar Vendas por Data: Filtre os dados para mostrar apenas as vendas realizadas no dia 2024-01-03 e exiba o resultado."
      ],
      "metadata": {
        "id": "8gKrIGDzvCBE"
      }
    },
    {
      "cell_type": "code",
      "source": [
        "vendas_2024_01_03 = df[df['Data'] == '2024-01-03']\n",
        "vendas_2024_01_03"
      ],
      "metadata": {
        "colab": {
          "base_uri": "https://localhost:8080/",
          "height": 125
        },
        "id": "eOvTtY_GvINx",
        "outputId": "d953bdbe-5104-4b99-9da3-167ce5e6a9f2"
      },
      "execution_count": null,
      "outputs": [
        {
          "output_type": "execute_result",
          "data": {
            "text/plain": [
              "         Data   Produto  Quantidade  Preço Unitário  Total\n",
              "4  2024-01-03     Calça           3            59.9  179.7\n",
              "5  2024-01-03  Camiseta           8            29.9  239.2"
            ],
            "text/html": [
              "\n",
              "  <div id=\"df-42b14c79-280b-4383-9f64-8f8c933495ac\" class=\"colab-df-container\">\n",
              "    <div>\n",
              "<style scoped>\n",
              "    .dataframe tbody tr th:only-of-type {\n",
              "        vertical-align: middle;\n",
              "    }\n",
              "\n",
              "    .dataframe tbody tr th {\n",
              "        vertical-align: top;\n",
              "    }\n",
              "\n",
              "    .dataframe thead th {\n",
              "        text-align: right;\n",
              "    }\n",
              "</style>\n",
              "<table border=\"1\" class=\"dataframe\">\n",
              "  <thead>\n",
              "    <tr style=\"text-align: right;\">\n",
              "      <th></th>\n",
              "      <th>Data</th>\n",
              "      <th>Produto</th>\n",
              "      <th>Quantidade</th>\n",
              "      <th>Preço Unitário</th>\n",
              "      <th>Total</th>\n",
              "    </tr>\n",
              "  </thead>\n",
              "  <tbody>\n",
              "    <tr>\n",
              "      <th>4</th>\n",
              "      <td>2024-01-03</td>\n",
              "      <td>Calça</td>\n",
              "      <td>3</td>\n",
              "      <td>59.9</td>\n",
              "      <td>179.7</td>\n",
              "    </tr>\n",
              "    <tr>\n",
              "      <th>5</th>\n",
              "      <td>2024-01-03</td>\n",
              "      <td>Camiseta</td>\n",
              "      <td>8</td>\n",
              "      <td>29.9</td>\n",
              "      <td>239.2</td>\n",
              "    </tr>\n",
              "  </tbody>\n",
              "</table>\n",
              "</div>\n",
              "    <div class=\"colab-df-buttons\">\n",
              "\n",
              "  <div class=\"colab-df-container\">\n",
              "    <button class=\"colab-df-convert\" onclick=\"convertToInteractive('df-42b14c79-280b-4383-9f64-8f8c933495ac')\"\n",
              "            title=\"Convert this dataframe to an interactive table.\"\n",
              "            style=\"display:none;\">\n",
              "\n",
              "  <svg xmlns=\"http://www.w3.org/2000/svg\" height=\"24px\" viewBox=\"0 -960 960 960\">\n",
              "    <path d=\"M120-120v-720h720v720H120Zm60-500h600v-160H180v160Zm220 220h160v-160H400v160Zm0 220h160v-160H400v160ZM180-400h160v-160H180v160Zm440 0h160v-160H620v160ZM180-180h160v-160H180v160Zm440 0h160v-160H620v160Z\"/>\n",
              "  </svg>\n",
              "    </button>\n",
              "\n",
              "  <style>\n",
              "    .colab-df-container {\n",
              "      display:flex;\n",
              "      gap: 12px;\n",
              "    }\n",
              "\n",
              "    .colab-df-convert {\n",
              "      background-color: #E8F0FE;\n",
              "      border: none;\n",
              "      border-radius: 50%;\n",
              "      cursor: pointer;\n",
              "      display: none;\n",
              "      fill: #1967D2;\n",
              "      height: 32px;\n",
              "      padding: 0 0 0 0;\n",
              "      width: 32px;\n",
              "    }\n",
              "\n",
              "    .colab-df-convert:hover {\n",
              "      background-color: #E2EBFA;\n",
              "      box-shadow: 0px 1px 2px rgba(60, 64, 67, 0.3), 0px 1px 3px 1px rgba(60, 64, 67, 0.15);\n",
              "      fill: #174EA6;\n",
              "    }\n",
              "\n",
              "    .colab-df-buttons div {\n",
              "      margin-bottom: 4px;\n",
              "    }\n",
              "\n",
              "    [theme=dark] .colab-df-convert {\n",
              "      background-color: #3B4455;\n",
              "      fill: #D2E3FC;\n",
              "    }\n",
              "\n",
              "    [theme=dark] .colab-df-convert:hover {\n",
              "      background-color: #434B5C;\n",
              "      box-shadow: 0px 1px 3px 1px rgba(0, 0, 0, 0.15);\n",
              "      filter: drop-shadow(0px 1px 2px rgba(0, 0, 0, 0.3));\n",
              "      fill: #FFFFFF;\n",
              "    }\n",
              "  </style>\n",
              "\n",
              "    <script>\n",
              "      const buttonEl =\n",
              "        document.querySelector('#df-42b14c79-280b-4383-9f64-8f8c933495ac button.colab-df-convert');\n",
              "      buttonEl.style.display =\n",
              "        google.colab.kernel.accessAllowed ? 'block' : 'none';\n",
              "\n",
              "      async function convertToInteractive(key) {\n",
              "        const element = document.querySelector('#df-42b14c79-280b-4383-9f64-8f8c933495ac');\n",
              "        const dataTable =\n",
              "          await google.colab.kernel.invokeFunction('convertToInteractive',\n",
              "                                                    [key], {});\n",
              "        if (!dataTable) return;\n",
              "\n",
              "        const docLinkHtml = 'Like what you see? Visit the ' +\n",
              "          '<a target=\"_blank\" href=https://colab.research.google.com/notebooks/data_table.ipynb>data table notebook</a>'\n",
              "          + ' to learn more about interactive tables.';\n",
              "        element.innerHTML = '';\n",
              "        dataTable['output_type'] = 'display_data';\n",
              "        await google.colab.output.renderOutput(dataTable, element);\n",
              "        const docLink = document.createElement('div');\n",
              "        docLink.innerHTML = docLinkHtml;\n",
              "        element.appendChild(docLink);\n",
              "      }\n",
              "    </script>\n",
              "  </div>\n",
              "\n",
              "\n",
              "<div id=\"df-5f212054-8940-418b-8ed0-4263b7f9e60a\">\n",
              "  <button class=\"colab-df-quickchart\" onclick=\"quickchart('df-5f212054-8940-418b-8ed0-4263b7f9e60a')\"\n",
              "            title=\"Suggest charts\"\n",
              "            style=\"display:none;\">\n",
              "\n",
              "<svg xmlns=\"http://www.w3.org/2000/svg\" height=\"24px\"viewBox=\"0 0 24 24\"\n",
              "     width=\"24px\">\n",
              "    <g>\n",
              "        <path d=\"M19 3H5c-1.1 0-2 .9-2 2v14c0 1.1.9 2 2 2h14c1.1 0 2-.9 2-2V5c0-1.1-.9-2-2-2zM9 17H7v-7h2v7zm4 0h-2V7h2v10zm4 0h-2v-4h2v4z\"/>\n",
              "    </g>\n",
              "</svg>\n",
              "  </button>\n",
              "\n",
              "<style>\n",
              "  .colab-df-quickchart {\n",
              "      --bg-color: #E8F0FE;\n",
              "      --fill-color: #1967D2;\n",
              "      --hover-bg-color: #E2EBFA;\n",
              "      --hover-fill-color: #174EA6;\n",
              "      --disabled-fill-color: #AAA;\n",
              "      --disabled-bg-color: #DDD;\n",
              "  }\n",
              "\n",
              "  [theme=dark] .colab-df-quickchart {\n",
              "      --bg-color: #3B4455;\n",
              "      --fill-color: #D2E3FC;\n",
              "      --hover-bg-color: #434B5C;\n",
              "      --hover-fill-color: #FFFFFF;\n",
              "      --disabled-bg-color: #3B4455;\n",
              "      --disabled-fill-color: #666;\n",
              "  }\n",
              "\n",
              "  .colab-df-quickchart {\n",
              "    background-color: var(--bg-color);\n",
              "    border: none;\n",
              "    border-radius: 50%;\n",
              "    cursor: pointer;\n",
              "    display: none;\n",
              "    fill: var(--fill-color);\n",
              "    height: 32px;\n",
              "    padding: 0;\n",
              "    width: 32px;\n",
              "  }\n",
              "\n",
              "  .colab-df-quickchart:hover {\n",
              "    background-color: var(--hover-bg-color);\n",
              "    box-shadow: 0 1px 2px rgba(60, 64, 67, 0.3), 0 1px 3px 1px rgba(60, 64, 67, 0.15);\n",
              "    fill: var(--button-hover-fill-color);\n",
              "  }\n",
              "\n",
              "  .colab-df-quickchart-complete:disabled,\n",
              "  .colab-df-quickchart-complete:disabled:hover {\n",
              "    background-color: var(--disabled-bg-color);\n",
              "    fill: var(--disabled-fill-color);\n",
              "    box-shadow: none;\n",
              "  }\n",
              "\n",
              "  .colab-df-spinner {\n",
              "    border: 2px solid var(--fill-color);\n",
              "    border-color: transparent;\n",
              "    border-bottom-color: var(--fill-color);\n",
              "    animation:\n",
              "      spin 1s steps(1) infinite;\n",
              "  }\n",
              "\n",
              "  @keyframes spin {\n",
              "    0% {\n",
              "      border-color: transparent;\n",
              "      border-bottom-color: var(--fill-color);\n",
              "      border-left-color: var(--fill-color);\n",
              "    }\n",
              "    20% {\n",
              "      border-color: transparent;\n",
              "      border-left-color: var(--fill-color);\n",
              "      border-top-color: var(--fill-color);\n",
              "    }\n",
              "    30% {\n",
              "      border-color: transparent;\n",
              "      border-left-color: var(--fill-color);\n",
              "      border-top-color: var(--fill-color);\n",
              "      border-right-color: var(--fill-color);\n",
              "    }\n",
              "    40% {\n",
              "      border-color: transparent;\n",
              "      border-right-color: var(--fill-color);\n",
              "      border-top-color: var(--fill-color);\n",
              "    }\n",
              "    60% {\n",
              "      border-color: transparent;\n",
              "      border-right-color: var(--fill-color);\n",
              "    }\n",
              "    80% {\n",
              "      border-color: transparent;\n",
              "      border-right-color: var(--fill-color);\n",
              "      border-bottom-color: var(--fill-color);\n",
              "    }\n",
              "    90% {\n",
              "      border-color: transparent;\n",
              "      border-bottom-color: var(--fill-color);\n",
              "    }\n",
              "  }\n",
              "</style>\n",
              "\n",
              "  <script>\n",
              "    async function quickchart(key) {\n",
              "      const quickchartButtonEl =\n",
              "        document.querySelector('#' + key + ' button');\n",
              "      quickchartButtonEl.disabled = true;  // To prevent multiple clicks.\n",
              "      quickchartButtonEl.classList.add('colab-df-spinner');\n",
              "      try {\n",
              "        const charts = await google.colab.kernel.invokeFunction(\n",
              "            'suggestCharts', [key], {});\n",
              "      } catch (error) {\n",
              "        console.error('Error during call to suggestCharts:', error);\n",
              "      }\n",
              "      quickchartButtonEl.classList.remove('colab-df-spinner');\n",
              "      quickchartButtonEl.classList.add('colab-df-quickchart-complete');\n",
              "    }\n",
              "    (() => {\n",
              "      let quickchartButtonEl =\n",
              "        document.querySelector('#df-5f212054-8940-418b-8ed0-4263b7f9e60a button');\n",
              "      quickchartButtonEl.style.display =\n",
              "        google.colab.kernel.accessAllowed ? 'block' : 'none';\n",
              "    })();\n",
              "  </script>\n",
              "</div>\n",
              "\n",
              "  <div id=\"id_60197bfa-c3dd-4557-b4cf-19ebe5a6fbaa\">\n",
              "    <style>\n",
              "      .colab-df-generate {\n",
              "        background-color: #E8F0FE;\n",
              "        border: none;\n",
              "        border-radius: 50%;\n",
              "        cursor: pointer;\n",
              "        display: none;\n",
              "        fill: #1967D2;\n",
              "        height: 32px;\n",
              "        padding: 0 0 0 0;\n",
              "        width: 32px;\n",
              "      }\n",
              "\n",
              "      .colab-df-generate:hover {\n",
              "        background-color: #E2EBFA;\n",
              "        box-shadow: 0px 1px 2px rgba(60, 64, 67, 0.3), 0px 1px 3px 1px rgba(60, 64, 67, 0.15);\n",
              "        fill: #174EA6;\n",
              "      }\n",
              "\n",
              "      [theme=dark] .colab-df-generate {\n",
              "        background-color: #3B4455;\n",
              "        fill: #D2E3FC;\n",
              "      }\n",
              "\n",
              "      [theme=dark] .colab-df-generate:hover {\n",
              "        background-color: #434B5C;\n",
              "        box-shadow: 0px 1px 3px 1px rgba(0, 0, 0, 0.15);\n",
              "        filter: drop-shadow(0px 1px 2px rgba(0, 0, 0, 0.3));\n",
              "        fill: #FFFFFF;\n",
              "      }\n",
              "    </style>\n",
              "    <button class=\"colab-df-generate\" onclick=\"generateWithVariable('vendas_2024_01_03')\"\n",
              "            title=\"Generate code using this dataframe.\"\n",
              "            style=\"display:none;\">\n",
              "\n",
              "  <svg xmlns=\"http://www.w3.org/2000/svg\" height=\"24px\"viewBox=\"0 0 24 24\"\n",
              "       width=\"24px\">\n",
              "    <path d=\"M7,19H8.4L18.45,9,17,7.55,7,17.6ZM5,21V16.75L18.45,3.32a2,2,0,0,1,2.83,0l1.4,1.43a1.91,1.91,0,0,1,.58,1.4,1.91,1.91,0,0,1-.58,1.4L9.25,21ZM18.45,9,17,7.55Zm-12,3A5.31,5.31,0,0,0,4.9,8.1,5.31,5.31,0,0,0,1,6.5,5.31,5.31,0,0,0,4.9,4.9,5.31,5.31,0,0,0,6.5,1,5.31,5.31,0,0,0,8.1,4.9,5.31,5.31,0,0,0,12,6.5,5.46,5.46,0,0,0,6.5,12Z\"/>\n",
              "  </svg>\n",
              "    </button>\n",
              "    <script>\n",
              "      (() => {\n",
              "      const buttonEl =\n",
              "        document.querySelector('#id_60197bfa-c3dd-4557-b4cf-19ebe5a6fbaa button.colab-df-generate');\n",
              "      buttonEl.style.display =\n",
              "        google.colab.kernel.accessAllowed ? 'block' : 'none';\n",
              "\n",
              "      buttonEl.onclick = () => {\n",
              "        google.colab.notebook.generateWithVariable('vendas_2024_01_03');\n",
              "      }\n",
              "      })();\n",
              "    </script>\n",
              "  </div>\n",
              "\n",
              "    </div>\n",
              "  </div>\n"
            ],
            "application/vnd.google.colaboratory.intrinsic+json": {
              "type": "dataframe",
              "variable_name": "vendas_2024_01_03",
              "repr_error": "0"
            }
          },
          "metadata": {},
          "execution_count": 10
        }
      ]
    },
    {
      "cell_type": "markdown",
      "source": [
        "6° Salvar o Resultado: Salve o DataFrame atualizado com a nova coluna Total em um novo arquivo CSV chamado vendas_atualizadas.csv."
      ],
      "metadata": {
        "id": "1-TsH-bjvW9R"
      }
    },
    {
      "cell_type": "code",
      "source": [
        "df.to_csv('vendas_atualizadas.csv', index=False)"
      ],
      "metadata": {
        "id": "Mhlos-mHvq98"
      },
      "execution_count": null,
      "outputs": []
    },
    {
      "cell_type": "markdown",
      "source": [
        "## <font color=lightblue>Matplotlib</font>\n",
        "***"
      ],
      "metadata": {
        "id": "ezWJ4w4H3nLr"
      }
    },
    {
      "cell_type": "markdown",
      "source": [
        "A Matplotlib é a biblioteca Python mais popular para criar plotagens e outras visualizações bidimensionais de dados. Projetada para gerar visualizações adequadas para publicação, a Matplotlib é amplamente utilizada e bem integrada ao ecossistema Python, sendo uma escolha confiável como ferramenta de visualização padrão."
      ],
      "metadata": {
        "id": "pgH7eaquwYqY"
      }
    },
    {
      "cell_type": "code",
      "source": [
        "import matplotlib"
      ],
      "metadata": {
        "id": "9-3qVdam6Bz8"
      },
      "execution_count": null,
      "outputs": []
    },
    {
      "cell_type": "markdown",
      "source": [
        "### <font color=orange> Problemas </font>\n",
        "***"
      ],
      "metadata": {
        "id": "cdQ0k3wQpUez"
      }
    }
  ]
}