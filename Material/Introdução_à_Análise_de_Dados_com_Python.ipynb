{
  "nbformat": 4,
  "nbformat_minor": 0,
  "metadata": {
    "colab": {
      "provenance": [],
      "collapsed_sections": [
        "0nRJbbuwtddx"
      ],
      "toc_visible": true
    },
    "kernelspec": {
      "name": "python3",
      "display_name": "Python 3"
    },
    "language_info": {
      "name": "python"
    }
  },
  "cells": [
    {
      "cell_type": "markdown",
      "source": [
        "***\n",
        "# <font size=10>Introdução à Análise de Dados com Python</font>\n",
        "***"
      ],
      "metadata": {
        "id": "I15OKBddKVg0"
      }
    },
    {
      "cell_type": "markdown",
      "source": [
        "# Sobre o Minicurso\n",
        "\n",
        "Python é uma linguagem de programação de uso geral que está se tornando cada vez mais popular na ciência de dados. Neste minicurso, você explorará conceitos fundamentais da linguagem, incluindo tipos de dados, controle de fluxo e funções. Também aprenderá a usar bibliotecas essenciais para análise e visualização de dados. O curso oferece uma visão geral prática, cobrindo algumas das principais ferramentas e técnicas para começar a trabalhar com dados em Python."
      ],
      "metadata": {
        "id": "B629leJ4fb8v"
      }
    },
    {
      "cell_type": "markdown",
      "source": [
        "# <font>1 Primeiros passos</font>\n",
        "***"
      ],
      "metadata": {
        "id": "bsT4Yn8fauOu"
      }
    },
    {
      "cell_type": "markdown",
      "source": [
        "## <font>1.1. Tipos de dados</font>\n",
        "***"
      ],
      "metadata": {
        "id": "FDn3ixyJzfUj"
      }
    },
    {
      "cell_type": "markdown",
      "source": [
        "### 1.1.1. Int e Float"
      ],
      "metadata": {
        "id": "L570qqwP0DDE"
      }
    },
    {
      "cell_type": "markdown",
      "source": [
        "Em Python, os tipos numéricos mais comuns são:\n",
        "\n",
        " - int: Representa números inteiros, positivos ou negativos, sem casas decimais.\n",
        "\n",
        " - float: Representa números com casas decimais, também chamados de números de ponto flutuante."
      ],
      "metadata": {
        "id": "VLYeFPB6i0Z0"
      }
    },
    {
      "cell_type": "code",
      "source": [
        "# Exemplos de inteiros (int)\n",
        "numero_de_alunos = 25\n",
        "temperatura = -5\n",
        "\n",
        "print(numero_de_alunos)\n",
        "print(temperatura)"
      ],
      "metadata": {
        "id": "e0ABRJ4fjF5F"
      },
      "execution_count": null,
      "outputs": []
    },
    {
      "cell_type": "code",
      "source": [
        "# Exemplos de números com casas decimais (float)\n",
        "preco_do_produto = 19.99\n",
        "altura = 1.75"
      ],
      "metadata": {
        "id": "70LXZHAOjS7M"
      },
      "execution_count": null,
      "outputs": []
    },
    {
      "cell_type": "code",
      "source": [
        "# Exibindo os valores e seus respectivos tipos de dados\n",
        "print(\"Número de alunos:\", numero_de_alunos, type(numero_de_alunos))\n",
        "print(\"Temperatura:\", temperatura, type(temperatura))\n",
        "print(\"Preço do produto:\", preco_do_produto, type(preco_do_produto))\n",
        "print(\"Altura:\", altura, type(altura))"
      ],
      "metadata": {
        "id": "1H_pt6y7jVcY"
      },
      "execution_count": null,
      "outputs": []
    },
    {
      "cell_type": "markdown",
      "source": [
        "No exemplo acima:\n",
        "\n",
        " - Criamos variáveis usando nomes significativos (`numero_de_alunos`, `temperatura`, `preco_do_produto` e `altura`) e atribuímos valores a elas usando o sinal de igual (`=`).\n",
        "\n",
        " - A função `print()` exibe o valor da variável e a função `type()` revela o tipo de dado.\n",
        "\n",
        " - Observe que Python é uma linguagem case-sensitive, ou seja, diferencia letras maiúsculas de minúsculas."
      ],
      "metadata": {
        "id": "6dJ2x7VojibM"
      }
    },
    {
      "cell_type": "markdown",
      "source": [
        "### 1.1.2. String"
      ],
      "metadata": {
        "id": "m9erh2Id0I8g"
      }
    },
    {
      "cell_type": "markdown",
      "source": [
        "O tipo de dado string representa uma sequência de caracteres e é declarada entre aspas simples (`'...'`) ou duplas (`\"...\"`)."
      ],
      "metadata": {
        "id": "cGwEYOjPjzDM"
      }
    },
    {
      "cell_type": "code",
      "source": [
        "# Exemplos de strings\n",
        "nome = \"Maria\"\n",
        "saudacao = 'Olá, mundo!'"
      ],
      "metadata": {
        "id": "UpPjDydkj619"
      },
      "execution_count": null,
      "outputs": []
    },
    {
      "cell_type": "code",
      "source": [
        "# Exibindo as strings\n",
        "print(nome)\n",
        "print(saudacao)"
      ],
      "metadata": {
        "id": "a-jR0xyEj7yF"
      },
      "execution_count": null,
      "outputs": []
    },
    {
      "cell_type": "code",
      "source": [
        "# Concatenando strings\n",
        "frase = saudacao + \" Meu nome é \" + nome + \".\"\n",
        "print(frase)"
      ],
      "metadata": {
        "id": "rMNZsuPLj9j8"
      },
      "execution_count": null,
      "outputs": []
    },
    {
      "cell_type": "markdown",
      "source": [
        " - Declaramos variáveis do tipo string e exibimos seus valores.\n",
        "\n",
        " - O sinal de mais (+) concatena (junta) strings."
      ],
      "metadata": {
        "id": "OVxcQJH6kHu-"
      }
    },
    {
      "cell_type": "markdown",
      "source": [
        "### 1.1.3. Booleano"
      ],
      "metadata": {
        "id": "HJYZYkG-0Nj1"
      }
    },
    {
      "cell_type": "markdown",
      "source": [
        "O tipo bool (booleano) representa valores lógicos True (verdadeiro) ou False (falso)."
      ],
      "metadata": {
        "id": "Dzk4Nw2ckTor"
      }
    },
    {
      "cell_type": "code",
      "source": [
        "# Exemplos de booleanos\n",
        "sol_esta_brilhando = True\n",
        "chovendo = False"
      ],
      "metadata": {
        "id": "YhNZziMNkWrz"
      },
      "execution_count": null,
      "outputs": []
    },
    {
      "cell_type": "code",
      "source": [
        "# Exibindo os valores booleanos\n",
        "print(\"Sol está brilhando?\", sol_esta_brilhando)\n",
        "print(\"Está chovendo?\", chovendo)"
      ],
      "metadata": {
        "id": "Y2N5b7llkXoM"
      },
      "execution_count": null,
      "outputs": []
    },
    {
      "cell_type": "markdown",
      "source": [
        "### Exercício"
      ],
      "metadata": {
        "id": "HFj0zrJBucgy"
      }
    },
    {
      "cell_type": "markdown",
      "source": [
        "Crie um programa que:\n",
        "\n",
        " -  Peça ao usuário para inserir seu nome e idade.\n",
        "\n",
        " -  Armazene essas informações em variáveis com os tipos de dados apropriados.\n",
        "\n",
        " - Exiba uma mensagem personalizada, como `\"Olá, [nome]! Você tem [idade] anos.\"`\n",
        "\n",
        "Dicas:\n",
        "\n",
        " - Utilize a função `input()` para receber dados do usuário.\n",
        "\n",
        " - Lembre-se de converter a idade para o tipo de dado correto acom a função `int()`."
      ],
      "metadata": {
        "id": "2U4iumgKk_d6"
      }
    },
    {
      "cell_type": "code",
      "source": [],
      "metadata": {
        "id": "VP5sp24JoWaK"
      },
      "execution_count": null,
      "outputs": []
    },
    {
      "cell_type": "code",
      "source": [],
      "metadata": {
        "id": "9C5aMeNblYa3"
      },
      "execution_count": null,
      "outputs": []
    },
    {
      "cell_type": "markdown",
      "source": [
        "## Métodos de formatação:"
      ],
      "metadata": {
        "id": "sTOg1jxJp9EV"
      }
    },
    {
      "cell_type": "markdown",
      "source": [
        "F-strings:\n",
        "```python\n",
        " print(f\"Olá, {nome}! Você tem {idade} anos.\")\n",
        " ```\n",
        "\n",
        "Format():\n",
        "```python\n",
        "print(\"Olá, {}! Você tem {} anos.\".format(\"Lucas\", 60))\n",
        "```\n",
        "Operador `%` (antigo):\n",
        "``` python\n",
        "print(\"Olá, %s! Você tem %d anos.\" % (nome, idade))\n",
        "```"
      ],
      "metadata": {
        "id": "-vnX-WlOreo-"
      }
    },
    {
      "cell_type": "markdown",
      "source": [
        "## 1.2. Listas\n",
        "***"
      ],
      "metadata": {
        "id": "CdHfKTYJ0btt"
      }
    },
    {
      "cell_type": "markdown",
      "source": [
        "Até agora, vimos como trabalhar com tipos de dados individuais. Mas e se precisarmos armazenar um conjunto de dados relacionados, como uma lista de compras ou as temperaturas diárias de uma semana? É aí que as listas entram em ação!"
      ],
      "metadata": {
        "id": "Hp49-OFkmZps"
      }
    },
    {
      "cell_type": "markdown",
      "source": [
        "Em Python, uma lista é uma sequência ordenada de elementos. Podemos criar listas utilizando colchetes `[]`, separando os elementos por vírgula."
      ],
      "metadata": {
        "id": "9PpERgvmmfhK"
      }
    },
    {
      "cell_type": "code",
      "source": [
        "# Criando listas\n",
        "lista_de_compras = [\"maçã\", \"banana\", \"leite\", \"pão\"]\n",
        "temperaturas_semana = [25.5, 24.0, 26.8, 23.9, 27.2, 28.1, 25.9]"
      ],
      "metadata": {
        "id": "JLslqCDOmnHs"
      },
      "execution_count": null,
      "outputs": []
    },
    {
      "cell_type": "code",
      "source": [
        "# Exibindo as listas\n",
        "print(\"Lista de Compras:\", lista_de_compras)\n",
        "print(\"Temperaturas da Semana:\", temperaturas_semana)"
      ],
      "metadata": {
        "id": "en6DTUNumodl"
      },
      "execution_count": null,
      "outputs": []
    },
    {
      "cell_type": "markdown",
      "source": [
        "Características Importantes:\n",
        "\n",
        " - Elementos Diversos: Listas podem conter elementos de diferentes tipos de dados, inclusive outras listas!\n",
        "\n",
        " - Elementos Diversos: Listas podem conter elementos de diferentes tipos de dados, inclusive outras listas!\n",
        "\n",
        "```python\n",
        "lista_mista = [10, \"Python\", 3.14, True, [1, 2, 3]]\n",
        "```\n",
        "\n",
        " - Ordenação: As listas mantêm a ordem dos elementos como foram inseridos.\n",
        "\n",
        " - Mutabilidade: Podemos modificar elementos de uma lista após sua criação."
      ],
      "metadata": {
        "id": "eR_H68AtnIk4"
      }
    },
    {
      "cell_type": "markdown",
      "source": [
        "Exemplo de Mutabilidade:"
      ],
      "metadata": {
        "id": "5tVy4jvroeMX"
      }
    },
    {
      "cell_type": "code",
      "source": [
        "# Modificando um elemento da lista\n",
        "lista_de_compras = \"laranja\"\n",
        "print(\"Lista de Compras Atualizada:\", lista_de_compras)"
      ],
      "metadata": {
        "id": "OSjHRM4voiUz"
      },
      "execution_count": null,
      "outputs": []
    },
    {
      "cell_type": "markdown",
      "source": [
        "### 1.2.1. Acessando Elementos pelo Índice\n",
        "***"
      ],
      "metadata": {
        "id": "74o3cPBGpQlL"
      }
    },
    {
      "cell_type": "markdown",
      "source": [
        "Após a criação de uma lista, frequentemente precisamos acessar seus elementos individualmente. Em Python, fazemos isso utilizando o índice de cada elemento, que representa sua posição na lista. É crucial destacar que:\n",
        "\n",
        " - Índices Iniciam em Zero: O primeiro elemento da lista possui índice `0`, o segundo índice `1`, e assim por diante.\n",
        "\n",
        " - Índices Negativos: Podemos usar índices negativos para acessar elementos a partir do final da lista. O último elemento tem índice `-1`, o penúltimo `-2`, etc."
      ],
      "metadata": {
        "id": "oHK2hqvPpiGh"
      }
    },
    {
      "cell_type": "markdown",
      "source": [
        "Exemplo:"
      ],
      "metadata": {
        "id": "1OheO7STqjcY"
      }
    },
    {
      "cell_type": "code",
      "source": [
        "linguagens = [\"Python\", \"R\", \"Java\", \"C++\"]\n",
        "\n",
        "print(\"Primeira Linguagem:\", linguagens[0])\n",
        "print(\"Última Linguagem:\", linguagens[-1])\n",
        "print(\"Terceira Linguagem:\", linguagens[2])"
      ],
      "metadata": {
        "id": "dc8er1UrqQBp"
      },
      "execution_count": null,
      "outputs": []
    },
    {
      "cell_type": "markdown",
      "source": [
        "### 1.2.2. Fatiamento de Listas\n",
        "***"
      ],
      "metadata": {
        "id": "vqKqQx_zqpVe"
      }
    },
    {
      "cell_type": "markdown",
      "source": [
        "O fatiamento permite extrair uma subsequência de elementos de uma lista. Utilizamos a sintaxe `lista[inicio:fim:passo]` para fatiar listas, onde:\n",
        "\n",
        " - **inicio**: Índice do primeiro elemento a ser incluído na fatia.\n",
        "\n",
        " - **fim**: Índice do primeiro elemento a ser excluído da fatia.\n",
        "\n",
        " - **passo**: Define o intervalo entre os elementos incluídos na fatia."
      ],
      "metadata": {
        "id": "akhbz9Q1rFVz"
      }
    },
    {
      "cell_type": "markdown",
      "source": [
        "Exemplos:"
      ],
      "metadata": {
        "id": "31SGEvsEsjvv"
      }
    },
    {
      "cell_type": "code",
      "source": [
        "numeros = list(range(1, 10))\n",
        "\n",
        "print(\"Do início ao quinto elemento:\", numeros[:5])\n",
        "print(\"Do terceiro ao penúltimo elemento:\", numeros[2:-1])\n",
        "print(\"Elementos pares:\", numeros[1::2])\n",
        "print(\"Invertendo a lista:\", numeros[::-1])"
      ],
      "metadata": {
        "id": "p7YKZ3pNsm9_"
      },
      "execution_count": null,
      "outputs": []
    },
    {
      "cell_type": "markdown",
      "source": [
        "### 1.2.3. Métodos de Lista\n",
        "***"
      ],
      "metadata": {
        "id": "ydMmpUGls0Tb"
      }
    },
    {
      "cell_type": "markdown",
      "source": [
        "Python oferece métodos embutidos (funções específicas para listas) que permitem modificar, acessar e manipular listas de diversas maneiras. Alguns métodos importantes:\n",
        "\n",
        " - `append(elemento)`: Adiciona um elemento ao final da lista.\n",
        "\n",
        " - `insert(índice, elemento)`: Insere um elemento em uma posição específica.\n",
        "\n",
        " - `remove(elemento)`: Remove a primeira ocorrência do elemento na lista.\n",
        "\n",
        " - `pop(índice)`: Remove e retorna o elemento no índice especificado (remove o último elemento se o índice não for especificado).\n",
        "\n",
        " - `index(elemento)`: Retorna o índice da primeira ocorrência do elemento.\n",
        "\n",
        " - `count(elemento)`: Conta quantas vezes o elemento aparece na lista.\n",
        "\n",
        " - `sort()`: Ordena a lista em ordem crescente (modifica a lista original).\n",
        "\n",
        " - `reverse()`: Inverte a ordem dos elementos na lista (modifica a lista original)."
      ],
      "metadata": {
        "id": "cDqnpdkKtCJ6"
      }
    },
    {
      "cell_type": "markdown",
      "source": [
        "Exemplos:"
      ],
      "metadata": {
        "id": "UoYO9fcPtdfa"
      }
    },
    {
      "cell_type": "code",
      "source": [
        "cores = [\"vermelho\", \"verde\", \"azul\"]"
      ],
      "metadata": {
        "id": "Bfb9xjVVthsK"
      },
      "execution_count": null,
      "outputs": []
    },
    {
      "cell_type": "code",
      "source": [
        "cores.append(\"amarelo\")\n",
        "print(\"Após append:\", cores)"
      ],
      "metadata": {
        "id": "_Yc7mMkRti3a"
      },
      "execution_count": null,
      "outputs": []
    },
    {
      "cell_type": "code",
      "source": [
        "cores.insert(1, \"roxo\")\n",
        "print(\"Após insert:\", cores)"
      ],
      "metadata": {
        "id": "7ab1jfzEtlIU"
      },
      "execution_count": null,
      "outputs": []
    },
    {
      "cell_type": "code",
      "source": [
        "cores.remove(\"verde\")\n",
        "print(\"Após remove:\", cores)"
      ],
      "metadata": {
        "id": "fg3QK-eMtoHD"
      },
      "execution_count": null,
      "outputs": []
    },
    {
      "cell_type": "code",
      "source": [
        "cor_removida = cores.pop()\n",
        "print(\"Cor removida:\", cor_removida)\n",
        "print(\"Após pop:\", cores)"
      ],
      "metadata": {
        "id": "IZy-cVFhtqJN"
      },
      "execution_count": null,
      "outputs": []
    },
    {
      "cell_type": "code",
      "source": [
        "print(\"Índice do 'azul':\", cores.index(\"azul\"))"
      ],
      "metadata": {
        "id": "eLYTeeIYtshK"
      },
      "execution_count": null,
      "outputs": []
    },
    {
      "cell_type": "markdown",
      "source": [
        "### 1.2.4. Iterando sobre Listas com Laços for"
      ],
      "metadata": {
        "id": "E_vvIfuavGGs"
      }
    },
    {
      "cell_type": "markdown",
      "source": [
        "Laços `for` são estruturas de controle que permitem executar um bloco de código repetidamente para cada elemento de uma sequência (como uma lista)."
      ],
      "metadata": {
        "id": "rYUMrTjkvkE1"
      }
    },
    {
      "cell_type": "markdown",
      "source": [
        "Exemplo:"
      ],
      "metadata": {
        "id": "QKT2pqYrv59_"
      }
    },
    {
      "cell_type": "code",
      "source": [
        "nomes = [\"Alice\", \"Bob\", \"Carol\"]"
      ],
      "metadata": {
        "id": "seU1X1SvwAPT"
      },
      "execution_count": null,
      "outputs": []
    },
    {
      "cell_type": "code",
      "source": [
        "for nome in nomes:\n",
        "    print(\"Olá,\", nome + \"!\")"
      ],
      "metadata": {
        "id": "u5A0WOciv1ep"
      },
      "execution_count": null,
      "outputs": []
    },
    {
      "cell_type": "markdown",
      "source": [
        "### Exercícios"
      ],
      "metadata": {
        "id": "snCo3rYkwEKl"
      }
    },
    {
      "cell_type": "markdown",
      "source": [
        "1° Crie um programa que peça ao usuário para inserir 5 números, armazene-os em uma lista e, em seguida:\n",
        "\n",
        " - Imprima o maior e o menor número da lista.\n",
        "\n",
        " - Calcule a média dos números na lista.\n",
        "\n",
        " - Crie uma nova lista contendo apenas os números pares da lista original."
      ],
      "metadata": {
        "id": "8E4S4q2GwUU6"
      }
    },
    {
      "cell_type": "code",
      "source": [],
      "metadata": {
        "id": "Q25s92SIwnW7"
      },
      "execution_count": null,
      "outputs": []
    },
    {
      "cell_type": "code",
      "source": [],
      "metadata": {
        "id": "NmmpZ_08wob8"
      },
      "execution_count": null,
      "outputs": []
    },
    {
      "cell_type": "code",
      "source": [],
      "metadata": {
        "id": "IGqSCYZgwpch"
      },
      "execution_count": null,
      "outputs": []
    },
    {
      "cell_type": "markdown",
      "source": [
        "2° Crie um programa que peça ao usuário para inserir uma frase e, em seguida:\n",
        "\n",
        " - Crie uma lista de palavras da frase (dica: use o método split()).\n",
        "\n",
        " - Conte quantas palavras existem na frase.\n",
        "\n",
        " - Imprima a frase com as palavras em ordem inversa."
      ],
      "metadata": {
        "id": "hNLZN8eqwkAZ"
      }
    },
    {
      "cell_type": "code",
      "source": [],
      "metadata": {
        "id": "pxS44_EcwsVr"
      },
      "execution_count": null,
      "outputs": []
    },
    {
      "cell_type": "code",
      "source": [],
      "metadata": {
        "id": "L0Cu1g6twrhp"
      },
      "execution_count": null,
      "outputs": []
    },
    {
      "cell_type": "code",
      "source": [],
      "metadata": {
        "id": "3UXipSYxwqlK"
      },
      "execution_count": null,
      "outputs": []
    },
    {
      "cell_type": "markdown",
      "source": [
        "## 1.3. Estruturas de Dados Adicionais em Python\n",
        "***"
      ],
      "metadata": {
        "id": "-JH1d-QjzfbR"
      }
    },
    {
      "cell_type": "markdown",
      "source": [
        "### 1.3.1. Tuplas - Semelhantes, Mas Imutáveis"
      ],
      "metadata": {
        "id": "p5y4hiqO0E7I"
      }
    },
    {
      "cell_type": "markdown",
      "source": [
        "As tuplas são estruturas de dados muito similares às listas, porém com uma diferença crucial: são imutáveis. Isso significa que, após criada, uma tupla não pode ser modificada – não podemos adicionar, remover ou alterar seus elementos."
      ],
      "metadata": {
        "id": "rqh-6lZL0T01"
      }
    },
    {
      "cell_type": "markdown",
      "source": [
        "Criando Tuplas:"
      ],
      "metadata": {
        "id": "sXQ4ZaJq0YeA"
      }
    },
    {
      "cell_type": "code",
      "source": [
        "coordenadas = (10, 20)\n",
        "dias_da_semana = (\"segunda\", \"terça\", \"quarta\", \"quinta\", \"sexta\", \"sábado\", \"domingo\")"
      ],
      "metadata": {
        "id": "AScwo5cu0f2V"
      },
      "execution_count": null,
      "outputs": []
    },
    {
      "cell_type": "code",
      "source": [
        "print(\"Coordenadas:\", coordenadas)\n",
        "print(\"Dias da Semana:\", dias_da_semana)"
      ],
      "metadata": {
        "id": "skZV4IgU0hlr"
      },
      "execution_count": null,
      "outputs": []
    },
    {
      "cell_type": "markdown",
      "source": [
        "Características:\n",
        "\n",
        " - Definidas por Parênteses: Usamos parênteses `()` para criar tuplas, separando os elementos por vírgula.\n",
        "\n",
        " - Imutáveis: A imutabilidade é a principal característica das tuplas, tornando-as úteis em situações onde a integridade dos dados é crucial.\n",
        "\n",
        " - Acessíveis por Índice: Assim como nas listas, acessamos elementos de uma tupla utilizando índices numéricos."
      ],
      "metadata": {
        "id": "Cz8KGk7M0rpJ"
      }
    },
    {
      "cell_type": "markdown",
      "source": [
        "Exemplo de Impossibilidade de Modificação:"
      ],
      "metadata": {
        "id": "UsmEML_K1Nw7"
      }
    },
    {
      "cell_type": "code",
      "source": [
        "coordenadas = (10, 20)"
      ],
      "metadata": {
        "id": "x0qBm-y91Rno"
      },
      "execution_count": null,
      "outputs": []
    },
    {
      "cell_type": "code",
      "source": [
        "coordenadas[0] = 30  # Isso gerará um erro!"
      ],
      "metadata": {
        "id": "srdh2dG81TRZ"
      },
      "execution_count": null,
      "outputs": []
    },
    {
      "cell_type": "code",
      "source": [
        "print(\"Coordenadas:\", coordenadas)  # A tupla permanece inalterada"
      ],
      "metadata": {
        "id": "CMA86tjR22xY"
      },
      "execution_count": null,
      "outputs": []
    },
    {
      "cell_type": "markdown",
      "source": [
        "Quando Usar Tuplas?\n",
        "\n",
        " - Dados Constantes: Quando os dados não precisam ser modificados após a criação, como coordenadas geográficas, constantes físicas, etc.\n",
        "\n",
        " - Segurança: A imutabilidade garante que os dados não sejam alterados acidentalmente durante a execução do programa.\n",
        "\n",
        " - Chaves de Dicionário: Tuplas podem ser usadas como chaves em dicionários (abordado na próxima seção), pois são imutáveis."
      ],
      "metadata": {
        "id": "9iiGHKh93Jq5"
      }
    },
    {
      "cell_type": "markdown",
      "source": [
        "### 1.3.2. Dicionários - Mapeando Dados com Chaves e Valores"
      ],
      "metadata": {
        "id": "FJZEm27_4voK"
      }
    },
    {
      "cell_type": "markdown",
      "source": [
        "Os dicionários são estruturas de dados poderosas que permitem armazenar dados na forma de pares chave-valor. Cada chave em um dicionário é única e está associada a um valor específico."
      ],
      "metadata": {
        "id": "TFk2XEwj433B"
      }
    },
    {
      "cell_type": "markdown",
      "source": [
        "Criando Dicionários:"
      ],
      "metadata": {
        "id": "5bB5fiI34_rA"
      }
    },
    {
      "cell_type": "code",
      "source": [
        "usuario = {\n",
        "    \"nome\": \"Ana\",\n",
        "    \"idade\": 30,\n",
        "    \"cidade\": \"São Paulo\"\n",
        "}"
      ],
      "metadata": {
        "id": "cUDxrPx05E0C"
      },
      "execution_count": null,
      "outputs": []
    },
    {
      "cell_type": "code",
      "source": [
        "print(\"Usuário:\", usuario)"
      ],
      "metadata": {
        "id": "wV_Klgiv5Los"
      },
      "execution_count": null,
      "outputs": []
    },
    {
      "cell_type": "markdown",
      "source": [
        "Características:\n",
        "\n",
        " - Definidos por Chaves: Usamos chaves `{}` para criar dicionários, separando os pares chave-valor por dois pontos :.\n",
        "\n",
        " - Chaves Únicas e Imutáveis: As chaves em um dicionário devem ser únicas e imutáveis, como strings ou tuplas.\n",
        "\n",
        " - Valores Mutáveis: Os valores podem ser de qualquer tipo de dado e podem ser modificados.\n",
        "\n",
        " - Acesso por Chave: Diferente de listas e tuplas, acessamos elementos em um dicionário utilizando suas chaves."
      ],
      "metadata": {
        "id": "e6Bn26HQ5P_S"
      }
    },
    {
      "cell_type": "markdown",
      "source": [
        "Exemplo de Acesso e Modificação:"
      ],
      "metadata": {
        "id": "ITcZISr45a5P"
      }
    },
    {
      "cell_type": "code",
      "source": [
        "print(\"Nome do Usuário:\", usuario[\"nome\"])  # Acessando o valor da chave \"nome\""
      ],
      "metadata": {
        "id": "bvWAmtEh5imx"
      },
      "execution_count": null,
      "outputs": []
    },
    {
      "cell_type": "code",
      "source": [
        "usuario[\"idade\"] = 31  # Modificando o valor da chave \"idade\""
      ],
      "metadata": {
        "id": "xTonu-P65l7R"
      },
      "execution_count": null,
      "outputs": []
    },
    {
      "cell_type": "code",
      "source": [
        "print(\"Usuário Atualizado:\", usuario)"
      ],
      "metadata": {
        "id": "iQQ_Oegr5pkv"
      },
      "execution_count": null,
      "outputs": []
    },
    {
      "cell_type": "markdown",
      "source": [
        "Quando Usar Dicionários?\n",
        "\n",
        " - Armazenamento Estruturado: Quando precisamos armazenar dados relacionados de forma organizada, como informações de um usuário, configurações de um sistema, etc.\n",
        "\n",
        " - Busca Rápida: Os dicionários permitem encontrar valores rapidamente com base em suas chaves, tornando-os eficientes para buscas em grandes conjuntos de dados."
      ],
      "metadata": {
        "id": "n7QQ9duZ6_8y"
      }
    },
    {
      "cell_type": "markdown",
      "source": [
        "### Exercícios:\n",
        "1. Crie um programa que peça ao usuário para inserir o nome de um produto e seu preço, armazenando essas informações em um dicionário. Permita que o usuário adicione múltiplos produtos ao dicionário. Ao final, exiba o nome e o preço de cada produto."
      ],
      "metadata": {
        "id": "V3HO2l7F7KH4"
      }
    },
    {
      "cell_type": "code",
      "source": [],
      "metadata": {
        "id": "g4gwTbLQ7gSI"
      },
      "execution_count": null,
      "outputs": []
    },
    {
      "cell_type": "markdown",
      "source": [
        "2. Crie um programa que simule um dicionário de palavras. O programa deve solicitar ao usuário que insira uma palavra, e então exibir sua definição (você pode definir algumas palavras e definições previamente). Caso a palavra não seja encontrada, exiba uma mensagem informando."
      ],
      "metadata": {
        "id": "dPIe1KbQ7cbg"
      }
    },
    {
      "cell_type": "code",
      "source": [],
      "metadata": {
        "id": "17_vEfCq7iEg"
      },
      "execution_count": null,
      "outputs": []
    },
    {
      "cell_type": "markdown",
      "source": [
        "## 1.4. Substrings\n",
        "***"
      ],
      "metadata": {
        "id": "wm45S9HVqBLr"
      }
    },
    {
      "cell_type": "markdown",
      "source": [
        "### 1.4.1. O Que São Substrings?"
      ],
      "metadata": {
        "id": "YvYZz6_P8gzn"
      }
    },
    {
      "cell_type": "markdown",
      "source": [
        "Uma substring é simplesmente uma sequência contígua de caracteres dentro de uma string. Por exemplo, na string \"Python\", as substrings \"Pyt\", \"thon\" e \"th\" são apenas alguns exemplos. Podemos pensar em uma substring como uma \"fatia\" da string original."
      ],
      "metadata": {
        "id": "M4SDElf-8mJm"
      }
    },
    {
      "cell_type": "markdown",
      "source": [
        "### 1.4.2. Extraindo Substrings - Fatiamento em Ação"
      ],
      "metadata": {
        "id": "tQ_guMeE8-g9"
      }
    },
    {
      "cell_type": "markdown",
      "source": [
        "Em Python, utilizamos a técnica de fatiamento (slicing) para extrair substrings. O fatiamento utiliza a sintaxe `string[inicio:fim:passo]`, onde:\n",
        "\n",
        " - **inicio**: Índice do primeiro caractere a ser incluído na substring (inclusivo).\n",
        "\n",
        " - **fim**: Índice do primeiro caractere a ser excluído da substring (exclusivo).\n",
        "\n",
        " - **passo**: Define o intervalo entre os caracteres incluídos na substring."
      ],
      "metadata": {
        "id": "tDO5j-Y39QZf"
      }
    },
    {
      "cell_type": "markdown",
      "source": [
        "Exemplos:"
      ],
      "metadata": {
        "id": "i3xNunWi--lM"
      }
    },
    {
      "cell_type": "code",
      "source": [
        "linguagem = \"Python\""
      ],
      "metadata": {
        "id": "PU79s_Th_DHX"
      },
      "execution_count": null,
      "outputs": []
    },
    {
      "cell_type": "code",
      "source": [
        "print(linguagem[:3])  # Imprime \"Pyt\""
      ],
      "metadata": {
        "id": "u_eNKN97_E_I"
      },
      "execution_count": null,
      "outputs": []
    },
    {
      "cell_type": "code",
      "source": [
        "print(linguagem[2:5])  # Imprime \"thon\""
      ],
      "metadata": {
        "id": "VAhCKOZC_N6v"
      },
      "execution_count": null,
      "outputs": []
    },
    {
      "cell_type": "code",
      "source": [
        "print(linguagem[4:])  # Imprime \"on\" (do índice 4 até o final)"
      ],
      "metadata": {
        "id": "iDGL94OU_vCY"
      },
      "execution_count": null,
      "outputs": []
    },
    {
      "cell_type": "code",
      "source": [
        "print(linguagem[::2])  # Imprime \"Pto\" (caracteres alternados)"
      ],
      "metadata": {
        "id": "eHWZcLwS_wx8"
      },
      "execution_count": null,
      "outputs": []
    },
    {
      "cell_type": "code",
      "source": [
        "print(linguagem[::-1])  # Imprime \"nohtyP\" (string invertida)"
      ],
      "metadata": {
        "id": "AuFAC_5e_y5f"
      },
      "execution_count": null,
      "outputs": []
    },
    {
      "cell_type": "markdown",
      "source": [
        "### 1.4.3. Substrings e Métodos de String"
      ],
      "metadata": {
        "id": "K1NRbXxeAh52"
      }
    },
    {
      "cell_type": "markdown",
      "source": [
        "Diversos métodos de string em Python retornam ou manipulam substrings. Alguns exemplos relevantes:\n",
        "\n",
        " - `find(substring)`: Retorna o índice da primeira ocorrência da substring na string. Se a substring não for encontrada, retorna -1.\n",
        "\n",
        " - `replace(substring_antiga, substring_nova)`: Retorna uma nova string com todas as ocorrências da substring antiga substituídas pela nova substring.\n",
        "\n",
        " - `split(separador)`: Divide a string em uma lista de substrings, utilizando o separador especificado."
      ],
      "metadata": {
        "id": "k1PRevAoA3XT"
      }
    },
    {
      "cell_type": "markdown",
      "source": [
        "Exemplos:"
      ],
      "metadata": {
        "id": "ajxgWiAgBR-h"
      }
    },
    {
      "cell_type": "code",
      "source": [
        "frase = \"Python é uma linguagem poderosa.\""
      ],
      "metadata": {
        "id": "3phmiZL5BJFu"
      },
      "execution_count": null,
      "outputs": []
    },
    {
      "cell_type": "code",
      "source": [
        "indice = frase.find(\"linguagem\")\n",
        "print(\"Índice da substring 'linguagem':\", indice)"
      ],
      "metadata": {
        "id": "vdXxK728BaKO"
      },
      "execution_count": null,
      "outputs": []
    },
    {
      "cell_type": "code",
      "source": [
        "nova_frase = frase.replace(\"poderosa\", \"incrível\")\n",
        "print(\"Frase modificada:\", nova_frase)"
      ],
      "metadata": {
        "id": "NKcmyt2cBfyC"
      },
      "execution_count": null,
      "outputs": []
    },
    {
      "cell_type": "code",
      "source": [
        "palavras = frase.split()\n",
        "print(\"Lista de palavras:\", palavras)"
      ],
      "metadata": {
        "id": "ZWxqVjFGBjve"
      },
      "execution_count": null,
      "outputs": []
    },
    {
      "cell_type": "markdown",
      "source": [
        "### 1.4.4. Substrings na Análise de Dados"
      ],
      "metadata": {
        "id": "O0Jy-eDmCJTD"
      }
    },
    {
      "cell_type": "markdown",
      "source": [
        "O domínio de substrings é fundamental para diversas tarefas em análise de dados, como:\n",
        "\n",
        " - Limpeza de Dados: Remover espaços em branco extras, caracteres especiais indesejados e formatar strings de forma consistente.\n",
        "\n",
        " - Extração de Informações: Extrair informações específicas de strings, como nomes de arquivos, endereços de email, datas, etc.\n",
        "\n",
        " - Tokenização de Texto: Dividir um texto em palavras individuais (tokens) para análise."
      ],
      "metadata": {
        "id": "Z-D-_puICclV"
      }
    },
    {
      "cell_type": "markdown",
      "source": [
        "Exemplo:"
      ],
      "metadata": {
        "id": "E4sTxqhkCl7v"
      }
    },
    {
      "cell_type": "code",
      "source": [
        "dados_brutos = \"  Arquivo123.csv; Data: 2023-10-27  \""
      ],
      "metadata": {
        "id": "rO_ul-c8CtKh"
      },
      "execution_count": null,
      "outputs": []
    },
    {
      "cell_type": "code",
      "source": [
        "dados_limpos = dados_brutos.strip()  # Remove espaços extras"
      ],
      "metadata": {
        "id": "_i5HGpQLCwKG"
      },
      "execution_count": null,
      "outputs": []
    },
    {
      "cell_type": "code",
      "source": [
        "nome_arquivo = dados_limpos.split(\";\")\n",
        "data = dados_limpos.split(\"Data: \")[-1]"
      ],
      "metadata": {
        "id": "4Y1FgGEmCy5-"
      },
      "execution_count": null,
      "outputs": []
    },
    {
      "cell_type": "code",
      "source": [
        "print(\"Nome do Arquivo:\", nome_arquivo)"
      ],
      "metadata": {
        "id": "b6j6yT41C4HG"
      },
      "execution_count": null,
      "outputs": []
    },
    {
      "cell_type": "code",
      "source": [
        "print(\"Data:\", data)"
      ],
      "metadata": {
        "id": "1G1PrLz8C_Lg"
      },
      "execution_count": null,
      "outputs": []
    },
    {
      "cell_type": "markdown",
      "source": [
        "### Exercícios:"
      ],
      "metadata": {
        "id": "cAYrVcBqDC72"
      }
    },
    {
      "cell_type": "markdown",
      "source": [
        "1. Crie um programa que peça ao usuário para inserir uma frase e, em seguida, imprima apenas as vogais presentes na frase."
      ],
      "metadata": {
        "id": "621WoeOxDhv-"
      }
    },
    {
      "cell_type": "code",
      "source": [],
      "metadata": {
        "id": "BdEswzHODy8f"
      },
      "execution_count": null,
      "outputs": []
    },
    {
      "cell_type": "markdown",
      "source": [
        "2. Crie um programa que solicite ao usuário um endereço de email. Valide se o endereço de email contém o símbolo \"@\" e se possui pelo menos um ponto \".\" após o \"@\". Exiba uma mensagem informando se o endereço é válido ou não."
      ],
      "metadata": {
        "id": "0cSuOSpfDrDI"
      }
    },
    {
      "cell_type": "code",
      "source": [],
      "metadata": {
        "id": "qChWVc3LD1fW"
      },
      "execution_count": null,
      "outputs": []
    },
    {
      "cell_type": "markdown",
      "source": [
        "## <font color=orange> Problema </font>\n",
        "***"
      ],
      "metadata": {
        "id": "mPk89YdVncap"
      }
    },
    {
      "cell_type": "markdown",
      "source": [
        "Análise de Dados de Contatos de Clientes\n",
        "\n",
        "Você foi contratado por uma empresa para analisar uma lista de contatos de clientes e extrair informações úteis. A lista de contatos está armazenada em um arquivo de texto e contém informações sobre cada cliente, como nome, idade, e-mail e cidade. Seu objetivo é processar essas informações e realizar algumas análises.\n",
        "\n",
        "Dados Fornecidos\n",
        "\n",
        "```python\n",
        "João Silva;28;joao.silva@gmail.com;São Paulo\n",
        "Maria Oliveira;35;maria.oliveira@gmail.com;Rio de Janeiro\n",
        "Carlos Pereira;22;carlos.pereira@outlook.com;São Paulo\n",
        "Ana Costa;30;ana.costa@@yahoo.com;Belo Horizonte\n",
        "```\n",
        "Tarefas\n",
        "\n",
        "***\n",
        "1. Processamento de Dados\n",
        "***\n",
        "\n",
        "1° Leitura e Processamento dos dados\n",
        "\n",
        " - Divida cada linha em informações individuais usando `split(';')`.\n",
        "\n",
        "2° Armazenamento das Informações\n",
        "\n",
        " - Armazene as informações de cada contato em uma lista de dicionários. Cada dicionário deve conter as chaves `nome`, `idade`, `email` e `cidade`.\n",
        "\n",
        "***\n",
        "2. Análise de Dados\n",
        "***\n",
        "\n",
        "1° Listagem de Dados\n",
        "\n",
        " - Utilize uma lista para armazenar todos os nomes dos clientes e imprima a lista de nomes.\n",
        "\n",
        "2° Extração de Domínios de E-mail\n",
        "\n",
        " - Extraia o domínio de cada e-mail (a parte após o @) e armazene em um conjunto para encontrar quais domínios são mais comuns.\n",
        "\n",
        "3° Filtragem por Cidade\n",
        "\n",
        " - Crie uma lista com os nomes dos clientes que moram em \"São Paulo\" e imprima essa lista.\n",
        "\n",
        "4° Manipulação de Strings\n",
        "\n",
        " - Crie uma função que receba um e-mail e retorne o nome do cliente e o domínio do e-mail."
      ],
      "metadata": {
        "id": "Ll31zeGo0FxB"
      }
    },
    {
      "cell_type": "code",
      "source": [],
      "metadata": {
        "id": "4aLbFKjl1AC_"
      },
      "execution_count": null,
      "outputs": []
    },
    {
      "cell_type": "markdown",
      "source": [
        "# 2 Controle de fluxo\n",
        "***"
      ],
      "metadata": {
        "id": "uQ5n3CGO15NK"
      }
    },
    {
      "cell_type": "markdown",
      "source": [
        "O controle de fluxo é uma parte essencial da programação que permite direcionar a ordem em que as instruções são executadas em um programa. Em Python, as estruturas de controle de fluxo são usadas para criar programas que podem tomar decisões e executar diferentes blocos de código com base em condições específicas."
      ],
      "metadata": {
        "id": "9LuJgFIUYZbH"
      }
    },
    {
      "cell_type": "markdown",
      "source": [
        "## 2.1. Instruções Condicionais (if, elif, else)"
      ],
      "metadata": {
        "id": "kEfqX-vUXXBP"
      }
    },
    {
      "cell_type": "markdown",
      "source": [
        "As instruções condicionais são a base da tomada de decisão em Python. Elas permitem que você execute diferentes blocos de código com base no valor de uma expressão booleana (verdadeiro ou falso).\n",
        "\n",
        "Sintaxe:\n",
        "```python\n",
        "if condição1:\n",
        "    # Código a ser executado se a condição1 for verdadeira\n",
        "elif condição2:\n",
        "    # Código a ser executado se a condição2 for verdadeira\n",
        "else:\n",
        "    # Código a ser executado se nenhuma das condições anteriores for verdadeira\n",
        "```"
      ],
      "metadata": {
        "id": "n7Vbj4gOYjn2"
      }
    },
    {
      "cell_type": "markdown",
      "source": [
        "Exemplo:"
      ],
      "metadata": {
        "id": "w7wYKoLcYsU0"
      }
    },
    {
      "cell_type": "code",
      "source": [
        "nota = 7"
      ],
      "metadata": {
        "id": "VWHPpnpwYv1l"
      },
      "execution_count": null,
      "outputs": []
    },
    {
      "cell_type": "code",
      "source": [
        "if nota >= 9:\n",
        "    print(\"Conceito A\")\n",
        "elif nota > 7:\n",
        "    print(\"Conceito B\")\n",
        "elif nota >= 5:\n",
        "    print(\"Conceito C\")\n",
        "else:\n",
        "    print(\"Conceito D\")"
      ],
      "metadata": {
        "id": "gld76Yj5Y11d"
      },
      "execution_count": null,
      "outputs": []
    },
    {
      "cell_type": "markdown",
      "source": [
        "Observações:\n",
        "\n",
        " - O bloco elif é opcional e pode haver vários blocos elif em uma instrução if.\n",
        "   \n",
        " - O bloco else também é opcional e é executado apenas se todas as condições anteriores forem falsas.\n"
      ],
      "metadata": {
        "id": "9Q8JI88pY6Vu"
      }
    },
    {
      "cell_type": "markdown",
      "source": [
        "Exercícios:"
      ],
      "metadata": {
        "id": "n4DVUGIxZi0e"
      }
    },
    {
      "cell_type": "markdown",
      "source": [
        "1. Verificação de Número Par/Ímpar: Crie um programa que solicite ao usuário um número inteiro e utilize instruções condicionais (if, else) para determinar se o número é par ou ímpar. Exiba uma mensagem informando o resultado."
      ],
      "metadata": {
        "id": "jKKvH9BfZlNW"
      }
    },
    {
      "cell_type": "code",
      "source": [],
      "metadata": {
        "id": "jQqpXBPgZtsu"
      },
      "execution_count": null,
      "outputs": []
    },
    {
      "cell_type": "markdown",
      "source": [
        "2. Calculadora Simples: Crie uma calculadora que solicite ao usuário dois números e a operação desejada (+, -, *, /). Utilize if, elif e else para realizar a operação correspondente e exibir o resultado."
      ],
      "metadata": {
        "id": "At7KvBSzZuPi"
      }
    },
    {
      "cell_type": "code",
      "source": [],
      "metadata": {
        "id": "XO-ylM3YZxBm"
      },
      "execution_count": null,
      "outputs": []
    },
    {
      "cell_type": "markdown",
      "source": [
        "3. Validação de Idade: Crie um programa que solicite a idade do usuário e utilize instruções condicionais para determinar se ele é menor de idade (idade < 18), adulto (idade >= 18) ou idoso (idade >= 65). Exiba uma mensagem informando a classificação."
      ],
      "metadata": {
        "id": "7-c-6GvAZxmQ"
      }
    },
    {
      "cell_type": "code",
      "source": [],
      "metadata": {
        "id": "21JJQrtAZy_s"
      },
      "execution_count": null,
      "outputs": []
    },
    {
      "cell_type": "markdown",
      "source": [
        "## 2.2. Laços de Repetição (for, while)"
      ],
      "metadata": {
        "id": "EUxkCTNAXdt1"
      }
    },
    {
      "cell_type": "markdown",
      "source": [
        "### 2.2.1. Laço for"
      ],
      "metadata": {
        "id": "_3wq658SbBKF"
      }
    },
    {
      "cell_type": "markdown",
      "source": [
        "O laço `for` é uma estrutura de controle de fluxo utilizada para iterar sobre uma sequência de elementos. Isso significa que o código dentro do laço for será executado para cada elemento presente na sequência, um de cada vez. Esse tipo de laço é muito útil para automatizar tarefas repetitivas que precisam ser realizadas em cada um dos elementos de uma coleção de dados.\n",
        "\n",
        "Sintaxe:\n",
        "```python\n",
        "for <variavel> in <sequencia>:\n",
        "    # Bloco de código a ser repetido\n",
        "```\n",
        "\n",
        "● `<variavel>`: É uma variável que assumirá o valor de cada elemento da sequência a cada iteração do laço.\n",
        "\n",
        "● `<sequencia>`: Representa a sequência de elementos sobre a qual o laço irá iterar. Pode ser uma lista, tupla, string, etc."
      ],
      "metadata": {
        "id": "epHG-Es_fnwA"
      }
    },
    {
      "cell_type": "markdown",
      "source": [
        "Exemplo:"
      ],
      "metadata": {
        "id": "SBbbG8PngN0U"
      }
    },
    {
      "cell_type": "code",
      "source": [
        "# Imprimir cada dia da semana a partir de uma tupla\n",
        "dias_da_semana = (\"segunda\", \"terça\", \"quarta\", \"quinta\", \"sexta\", \"sábado\", \"domingo\")"
      ],
      "metadata": {
        "id": "k_bwB6SngRIO"
      },
      "execution_count": null,
      "outputs": []
    },
    {
      "cell_type": "code",
      "source": [
        "for dia in dias_da_semana:\n",
        "    print(\"Hoje é\", dia)"
      ],
      "metadata": {
        "id": "BS7rtyNYgU7g"
      },
      "execution_count": null,
      "outputs": []
    },
    {
      "cell_type": "markdown",
      "source": [
        "Neste exemplo, o laço for percorre a tupla `dias_da_semana`. A cada iteração, a variável dia recebe o valor do próximo dia da semana na tupla, e a instrução print(\"Hoje é\", dia) imprime esse valor."
      ],
      "metadata": {
        "id": "BeUHunVTgdGs"
      }
    },
    {
      "cell_type": "markdown",
      "source": [
        "Exercício:"
      ],
      "metadata": {
        "id": "rDO3-dUxgkGk"
      }
    },
    {
      "cell_type": "markdown",
      "source": [
        "Crie um programa que utilize um laço `for` para iterar sobre uma lista de números e calcular a soma de todos os elementos da lista."
      ],
      "metadata": {
        "id": "LeF2wP1pgmqc"
      }
    },
    {
      "cell_type": "code",
      "source": [],
      "metadata": {
        "id": "XoE_qCUzgp1g"
      },
      "execution_count": null,
      "outputs": []
    },
    {
      "cell_type": "markdown",
      "source": [
        "Observações:\n",
        "\n",
        " - A legibilidade do código Python, que utiliza indentação em vez de chaves para delimitar blocos de código, é um dos seus pontos fortes.\n",
        "\n",
        " - O uso de laços `for` é fundamental para manipular dados de forma eficiente em Python, especialmente quando se trabalha com grandes conjuntos de dados, como é comum em análise de dados.\n",
        "\n",
        " - O pandas, uma biblioteca essencial para análise de dados em Python, foi projetado para trabalhar com dados tabulares e heterogêneos, e o uso de laços `for` em conjunto com as estruturas de dados do pandas é muito comum."
      ],
      "metadata": {
        "id": "LOZAziEoiYIz"
      }
    },
    {
      "cell_type": "markdown",
      "source": [
        "### 2.2.2. Laço while"
      ],
      "metadata": {
        "id": "sD14R45vbFxW"
      }
    },
    {
      "cell_type": "markdown",
      "source": [
        "O laço `while` é uma estrutura de controle de fluxo em Python que permite executar um bloco de código repetidamente enquanto uma determinada condição for avaliada como verdadeira. Diferentemente do laço `for`, que itera sobre uma sequência predefinida de elementos, o laço `while` oferece mais flexibilidade, pois ele continuará a executar o bloco de código até que a condição se torne falsa, independentemente do número de iterações.\n",
        "\n",
        "Sintaxe:\n",
        "```python\n",
        "while <condicao>:\n",
        "    # Bloco de código a ser repetido\n",
        "```\n",
        "\n",
        " - `<condicao>`: Uma expressão booleana (que retorna True ou False) que determina se o laço deve continuar executando."
      ],
      "metadata": {
        "id": "w0NmjTw9hCCv"
      }
    },
    {
      "cell_type": "markdown",
      "source": [
        "Exemplo:"
      ],
      "metadata": {
        "id": "87DE5Znxhqbs"
      }
    },
    {
      "cell_type": "code",
      "source": [
        "contador = 1"
      ],
      "metadata": {
        "id": "YvvGQU7Ihs5O"
      },
      "execution_count": null,
      "outputs": []
    },
    {
      "cell_type": "code",
      "source": [
        "while contador <= 5:\n",
        "    print(\"Contador:\", contador)\n",
        "    contador = contador + 1"
      ],
      "metadata": {
        "id": "Ig6GxSDdhvfI"
      },
      "execution_count": null,
      "outputs": []
    },
    {
      "cell_type": "markdown",
      "source": [
        "Exercício:"
      ],
      "metadata": {
        "id": "dzaVwjy8hzMl"
      }
    },
    {
      "cell_type": "markdown",
      "source": [
        "Crie um programa que utilize um laço `while` para solicitar que o usuário digite números até que ele digite o número `0`. Em seguida, o programa deve imprimir a soma de todos os números digitados."
      ],
      "metadata": {
        "id": "4ZjdBMe0h189"
      }
    },
    {
      "cell_type": "code",
      "source": [],
      "metadata": {
        "id": "5B5TceV4h8HN"
      },
      "execution_count": null,
      "outputs": []
    },
    {
      "cell_type": "markdown",
      "source": [
        "Observações:\n",
        "\n",
        " - O uso de laços `while` exige atenção especial à condição de parada. É fundamental garantir que a condição se torne falsa em algum momento durante a execução do laço para evitar laços infinitos.\n",
        "\n",
        " - As fontes fornecidas, embora abordem conceitos de programação em Python, não mencionam explicitamente o laço `while`. Esta explicação e os exemplos são baseados em meu conhecimento geral de programação em Python."
      ],
      "metadata": {
        "id": "r7MyXl_ViCB8"
      }
    },
    {
      "cell_type": "markdown",
      "source": [
        "## 2.3. Instruções de Controle de Laço (break, continue)"
      ],
      "metadata": {
        "id": "aQcqN77BXix9"
      }
    },
    {
      "cell_type": "markdown",
      "source": [
        "### 2.3.1 Instrução break"
      ],
      "metadata": {
        "id": "gaXIl5JKjMQ0"
      }
    },
    {
      "cell_type": "markdown",
      "source": [
        "A instrução `break` fornece uma maneira de sair abruptamente de um laço `for` ou `while` antes que ele termine sua iteração normal. Quando `break` é encontrado dentro do bloco de código de um laço, a execução do laço é interrompida imediatamente, e o programa continua a partir da próxima instrução após o laço."
      ],
      "metadata": {
        "id": "FJXsYdnpjpj0"
      }
    },
    {
      "cell_type": "markdown",
      "source": [
        "Exemplo:"
      ],
      "metadata": {
        "id": "igdmalBfj3er"
      }
    },
    {
      "cell_type": "code",
      "source": [
        "numeros = list(range(1, 6)) # Cria uma lista de números de 1 a 5"
      ],
      "metadata": {
        "id": "ep-7iAcPjnvs"
      },
      "execution_count": null,
      "outputs": []
    },
    {
      "cell_type": "code",
      "source": [
        "for numero in numeros:\n",
        "    print(numero)\n",
        "    if numero == 3:\n",
        "        break\n",
        "print(\"Laço interrompido!\")"
      ],
      "metadata": {
        "id": "XSxCNBp-j6Ud"
      },
      "execution_count": null,
      "outputs": []
    },
    {
      "cell_type": "markdown",
      "source": [
        "Neste exemplo, o laço `for` itera sobre a lista numeros. A cada iteração, o valor de numero é impresso. Quando numero atinge o valor `3`, a condição `numero == 3` se torna verdadeira, o que faz com que a instrução `break` seja executada, interrompendo o laço."
      ],
      "metadata": {
        "id": "TFfiGM16mTQ7"
      }
    },
    {
      "cell_type": "markdown",
      "source": [
        "Exercício:"
      ],
      "metadata": {
        "id": "GHz1rBgYmhwT"
      }
    },
    {
      "cell_type": "markdown",
      "source": [
        "Crie um programa que solicite ao usuário que digite uma senha. O programa deve permitir no máximo três tentativas. Utilize a instrução break para sair do laço de tentativas se o usuário digitar a senha correta ou se ele exceder o número de tentativas."
      ],
      "metadata": {
        "id": "H9aPKe7Hmmw2"
      }
    },
    {
      "cell_type": "code",
      "source": [],
      "metadata": {
        "id": "__-48Lr-mp0N"
      },
      "execution_count": null,
      "outputs": []
    },
    {
      "cell_type": "markdown",
      "source": [
        "### 2.3.2 Instrução continue"
      ],
      "metadata": {
        "id": "fci9fw-djRkN"
      }
    },
    {
      "cell_type": "markdown",
      "source": [
        "A instrução `continue`, ao contrário de `break`, não interrompe completamente um laço. Em vez disso, `continue` interrompe a iteração atual do laço e passa imediatamente para a próxima iteração, ignorando qualquer código restante dentro do bloco de código do laço para aquela iteração específica."
      ],
      "metadata": {
        "id": "-y2G5fsZnHOE"
      }
    },
    {
      "cell_type": "markdown",
      "source": [
        "Exemplo:"
      ],
      "metadata": {
        "id": "IzXr3rhknQu8"
      }
    },
    {
      "cell_type": "code",
      "source": [
        "numeros = list(range(1, 6)) # Cria uma lista de números de 1 a 5"
      ],
      "metadata": {
        "id": "qiS6piqinljp"
      },
      "execution_count": null,
      "outputs": []
    },
    {
      "cell_type": "code",
      "source": [
        "for numero in numeros:\n",
        "    if numero == 3:\n",
        "        continue\n",
        "    print(numero)\n",
        "print(\"Laço concluído!\")"
      ],
      "metadata": {
        "id": "8pRJk1WmnoFj"
      },
      "execution_count": null,
      "outputs": []
    },
    {
      "cell_type": "markdown",
      "source": [
        "Neste exemplo, o laço `for` itera sobre a lista numeros. Quando numero é igual a `3`, a condição `numero == 3` se torna verdadeira, e a instrução `continue` é executada. Isso faz com que o programa ignore a instrução `print(numero)` para aquela iteração e passe para a próxima iteração do laço."
      ],
      "metadata": {
        "id": "TwDarwVNoDS1"
      }
    },
    {
      "cell_type": "markdown",
      "source": [
        "Exercício:"
      ],
      "metadata": {
        "id": "DDUpE1rsoPUo"
      }
    },
    {
      "cell_type": "markdown",
      "source": [
        "Crie um programa que leia uma lista de números e imprima apenas os números pares. Utilize a instrução continue para ignorar os números ímpares."
      ],
      "metadata": {
        "id": "0vXdT-pzoRXn"
      }
    },
    {
      "cell_type": "code",
      "source": [],
      "metadata": {
        "id": "gaUxp437oVFa"
      },
      "execution_count": null,
      "outputs": []
    },
    {
      "cell_type": "markdown",
      "source": [
        "Observações:\n",
        "\n",
        " - A instrução `continue` é útil para pular iterações de um laço quando determinadas condições são atendidas, evitando processamentos desnecessários.\n",
        "\n",
        " - Assim como `break`, `continue` afeta apenas o laço em que está contida quando usada em laços aninhados."
      ],
      "metadata": {
        "id": "jJvusp4ToVtS"
      }
    },
    {
      "cell_type": "markdown",
      "source": [
        "## <font color=orange> Problemas </font>\n",
        "***"
      ],
      "metadata": {
        "id": "w9hMWD1epL3M"
      }
    },
    {
      "cell_type": "markdown",
      "source": [
        "Agora que você aprendeu sobre controle de fluxo, é hora de aplicar esse conhecimento para resolver um problema prático. Você foi encarregado de desenvolver um sistema para uma biblioteca que automatize o processo de empréstimo de livros, considerando as diferentes regras para cada tipo de usuário (estudante, professor, visitante).\n",
        "\n",
        "  - Solicite ao usuário que informe seu tipo de usuário (estudante, professor, visitante) e o número de livros já emprestados.\n",
        "\n",
        "  - Utilize estruturas de controle de fluxo (if, elif, else) para determinar se o usuário pode pegar mais livros emprestados ou se atingiu o limite.\n",
        "\n",
        "  - Exiba uma mensagem informando o resultado."
      ],
      "metadata": {
        "id": "O9UHyJe3eumN"
      }
    },
    {
      "cell_type": "code",
      "source": [],
      "metadata": {
        "id": "6udo-A-LuW6v"
      },
      "execution_count": null,
      "outputs": []
    },
    {
      "cell_type": "code",
      "source": [],
      "metadata": {
        "id": "qcOif3Y4uWes"
      },
      "execution_count": null,
      "outputs": []
    },
    {
      "cell_type": "code",
      "source": [],
      "metadata": {
        "id": "FSoPr_0wuV9n"
      },
      "execution_count": null,
      "outputs": []
    },
    {
      "cell_type": "markdown",
      "source": [
        "# 3 Funções\n",
        "***"
      ],
      "metadata": {
        "id": "aJJEhkwa26Hp"
      }
    },
    {
      "cell_type": "markdown",
      "source": [
        "## 3.1 Anatomia de uma Função"
      ],
      "metadata": {
        "id": "_YKvfllypyXU"
      }
    },
    {
      "cell_type": "markdown",
      "source": [
        "### 3.1.1 Definindo uma Função:  A Palavra-Chave def"
      ],
      "metadata": {
        "id": "k8NhpkFKtm6Z"
      }
    },
    {
      "cell_type": "markdown",
      "source": [
        "Em Python, a palavra-chave `def` é usada para indicar o início da definição de uma função. Ela instrui o interpretador Python a criar um novo objeto de função, que pode ser chamado posteriormente pelo seu nome.\n",
        "\n",
        "Sintaxe:\n",
        "```python\n",
        "def nome_da_funcao(parametro1, parametro2, ...):\n",
        "    \"\"\"Docstring da função.\"\"\"\n",
        "    # Corpo da função\n",
        "    # ...\n",
        "    return valor  # Opcional\n",
        "```"
      ],
      "metadata": {
        "id": "z0PvFXOYv4IS"
      }
    },
    {
      "cell_type": "markdown",
      "source": [
        "Exemplo:"
      ],
      "metadata": {
        "id": "amEC2h-owLFZ"
      }
    },
    {
      "cell_type": "code",
      "source": [
        "def calcular_area_retangulo(largura, altura):\n",
        "    \"\"\"Calcula a área de um retângulo.\n",
        "\n",
        "    Args:\n",
        "        largura: A largura do retângulo.\n",
        "        altura: A altura do retângulo.\n",
        "\n",
        "    Returns:\n",
        "        A área do retângulo.\n",
        "    \"\"\"\n",
        "    area = largura * altura\n",
        "    return area"
      ],
      "metadata": {
        "id": "3o6olvm_wT2x"
      },
      "execution_count": null,
      "outputs": []
    },
    {
      "cell_type": "code",
      "source": [
        "calcular_area_retangulo(5, 10)"
      ],
      "metadata": {
        "id": "Dc58DOiOwd3B"
      },
      "execution_count": null,
      "outputs": []
    },
    {
      "cell_type": "markdown",
      "source": [
        "Exercício:"
      ],
      "metadata": {
        "id": "FRN0cSIFw3ur"
      }
    },
    {
      "cell_type": "markdown",
      "source": [
        "Escreva uma função chamada `calcular_media` que recebe uma lista de números como entrada e retorna a média aritmética dos números na lista."
      ],
      "metadata": {
        "id": "ED5NrFLGw6rM"
      }
    },
    {
      "cell_type": "code",
      "source": [],
      "metadata": {
        "id": "4g9DU81Tykaw"
      },
      "execution_count": null,
      "outputs": []
    },
    {
      "cell_type": "markdown",
      "source": [
        "Observações:\n",
        "\n",
        " - É crucial escolher nomes de função descritivos que reflitam claramente o propósito da função.\n",
        "\n",
        " - Os parênteses após o nome da função podem estar vazios ou conter um ou mais parâmetros.\n",
        "\n",
        " - A instrução `return` é opcional; se omitida, a função retornará `None`.\n",
        "\n",
        " - As **docstrings** são altamente recomendadas para documentar o código, explicando o que a função faz, quais parâmetros ela recebe e o que ela retorna.\n",
        "\n",
        " - A indentação é **essencial** em Python para definir blocos de código. O código dentro do corpo da função deve ser indentado para indicar que pertence à função."
      ],
      "metadata": {
        "id": "pxFettyHyleQ"
      }
    },
    {
      "cell_type": "markdown",
      "source": [
        "### 3.1.2  A Instrução return (Opcional)"
      ],
      "metadata": {
        "id": "mzDLKISttuTx"
      }
    },
    {
      "cell_type": "markdown",
      "source": [
        "A instrução `return` em Python é responsável por retornar um valor de uma função para o local onde ela foi chamada. Ela define o resultado da função e, opcionalmente, pode enviar dados de volta para o código que a chamou."
      ],
      "metadata": {
        "id": "4u9UtrywzXvL"
      }
    },
    {
      "cell_type": "markdown",
      "source": [
        "Exemplo:"
      ],
      "metadata": {
        "id": "wMdm_uQbzbYJ"
      }
    },
    {
      "cell_type": "code",
      "source": [
        "def dobrar(x):\n",
        "    \"\"\"Multiplica a entrada por 2.\"\"\"\n",
        "    return x * 2"
      ],
      "metadata": {
        "id": "R0Ii-WbfzetX"
      },
      "execution_count": null,
      "outputs": []
    },
    {
      "cell_type": "code",
      "source": [
        "resultado = dobrar(5)  # Chama a função 'dobrar' com o argumento 5\n",
        "print(resultado)  # Imprime o valor retornado pela função, que é 10"
      ],
      "metadata": {
        "id": "OGAJ_1scziCG"
      },
      "execution_count": null,
      "outputs": []
    },
    {
      "cell_type": "markdown",
      "source": [
        "Casos Especiais:\n",
        "\n",
        " - Múltiplos `return`: Uma função pode ter múltiplas instruções `return`, cada uma retornando um valor diferente com base em condições dentro da função.\n",
        "\n",
        " - Retorno sem valor: Se uma função não tiver uma instrução `return` explícita, ela retornará automaticamente o valor None, indicando que a função não produz nenhum resultado específico."
      ],
      "metadata": {
        "id": "p65l1LrF0Cdm"
      }
    },
    {
      "cell_type": "markdown",
      "source": [
        "Exercício:"
      ],
      "metadata": {
        "id": "z2a5Ds800nyg"
      }
    },
    {
      "cell_type": "markdown",
      "source": [
        "Escreva uma função chamada `eh_par` que recebe um número inteiro como entrada. A função deve retornar `True` se o número for par e `False` caso contrário."
      ],
      "metadata": {
        "id": "AWskIhmB0rA_"
      }
    },
    {
      "cell_type": "code",
      "source": [],
      "metadata": {
        "id": "M9q0zu8R09UV"
      },
      "execution_count": null,
      "outputs": []
    },
    {
      "cell_type": "markdown",
      "source": [
        "Observações:\n",
        "\n",
        " - A instrução return é opcional. No entanto, é uma boa prática incluí-la explicitamente para tornar o código mais legível e compreensível.\n",
        "\n",
        " - O valor retornado por uma função pode ser de qualquer tipo de dado em Python, incluindo números, strings, listas, tuplas, dicionários e até mesmo outras funções."
      ],
      "metadata": {
        "id": "aczcqdtl03EY"
      }
    },
    {
      "cell_type": "markdown",
      "source": [
        "## 3.2 Passagem de Argumentos e Valores de Retorno"
      ],
      "metadata": {
        "id": "03hGV6nLp2Is"
      }
    },
    {
      "cell_type": "markdown",
      "source": [
        "### 3.2.1 Tipos de Argumentos"
      ],
      "metadata": {
        "id": "4qay5zZRkN6c"
      }
    },
    {
      "cell_type": "markdown",
      "source": [
        "Em Python, os argumentos são os valores que você passa para uma função quando a chama. Esses argumentos são então usados pela função para realizar sua tarefa. Existem dois tipos principais de argumentos em Python: argumentos posicionais e argumentos nomeados (keywords)."
      ],
      "metadata": {
        "id": "gBpPRujElGDh"
      }
    },
    {
      "cell_type": "markdown",
      "source": [
        "#### Argumentos Posicionais"
      ],
      "metadata": {
        "id": "w6LmsMcklkwp"
      }
    },
    {
      "cell_type": "markdown",
      "source": [
        "Argumentos posicionais são aqueles cujo significado é determinado pela sua posição na chamada da função. Em outras palavras, a ordem em que você coloca os argumentos na chamada da função é crucial, pois cada posição corresponde a um parâmetro específico na definição da função."
      ],
      "metadata": {
        "id": "xfFmsqXaleLh"
      }
    },
    {
      "cell_type": "markdown",
      "source": [
        "Exemplo:"
      ],
      "metadata": {
        "id": "XdFveomylz9J"
      }
    },
    {
      "cell_type": "code",
      "source": [
        "def saudar(nome, mensagem):\n",
        "  \"\"\"\n",
        "  Esta função recebe um nome e uma mensagem e imprime uma saudação.\n",
        "  \"\"\"\n",
        "  print(f\"{mensagem}, {nome}!\")"
      ],
      "metadata": {
        "id": "DwSeYgful5-R"
      },
      "execution_count": null,
      "outputs": []
    },
    {
      "cell_type": "code",
      "source": [
        "saudar(\"Alice\", \"Olá\")"
      ],
      "metadata": {
        "id": "f7UqTt1bl9sQ"
      },
      "execution_count": null,
      "outputs": []
    },
    {
      "cell_type": "markdown",
      "source": [
        "#### Argumentos Nomeados (Keywords)"
      ],
      "metadata": {
        "id": "pNQ6AhD_lrGq"
      }
    },
    {
      "cell_type": "markdown",
      "source": [
        "Argumentos nomeados (keywords) permitem que você especifique explicitamente a qual parâmetro cada argumento corresponde, usando o nome do parâmetro na chamada da função. Isso oferece maior flexibilidade e legibilidade, especialmente em funções com muitos parâmetros, pois você não precisa se preocupar com a ordem em que os argumentos são passados."
      ],
      "metadata": {
        "id": "PnPFRhWTlvZ3"
      }
    },
    {
      "cell_type": "code",
      "source": [
        "def descrever_pessoa(nome, idade, cidade):\n",
        "  \"\"\"\n",
        "  Esta função imprime uma descrição de uma pessoa.\n",
        "  \"\"\"\n",
        "  print(f\"{nome} tem {idade} anos e mora em {cidade}.\")"
      ],
      "metadata": {
        "id": "-6ODrrHRmXQd"
      },
      "execution_count": null,
      "outputs": []
    },
    {
      "cell_type": "code",
      "source": [
        "descrever_pessoa(\"David\", 24, \"Natal\")"
      ],
      "metadata": {
        "id": "mqQU7J-058Kr"
      },
      "execution_count": null,
      "outputs": []
    },
    {
      "cell_type": "code",
      "source": [
        "descrever_pessoa(nome=\"Bob\", idade=30, cidade=\"São Paulo\")"
      ],
      "metadata": {
        "id": "vhnEpwatmbOq"
      },
      "execution_count": null,
      "outputs": []
    },
    {
      "cell_type": "code",
      "source": [
        "descrever_pessoa(idade=25, cidade=\"Rio de Janeiro\", nome=\"Carol\")"
      ],
      "metadata": {
        "id": "wJJSefhTmeIg"
      },
      "execution_count": null,
      "outputs": []
    },
    {
      "cell_type": "markdown",
      "source": [
        "### 3.2.2 Valores Padrão (Default) para Argumentos"
      ],
      "metadata": {
        "id": "h4Nm5czpkWGZ"
      }
    },
    {
      "cell_type": "markdown",
      "source": [
        "Em Python, você pode definir valores padrão para os argumentos de uma função. Esses valores são usados automaticamente quando a função é chamada sem que o argumento correspondente seja fornecido.\n",
        "\n",
        "Sintaxe:\n",
        "\n",
        "```python\n",
        "def nome_da_funcao(parametro1=valor_padrão1, parametro2=valor_padrão2, ...):\n",
        "    # corpo da função\n",
        "```\n",
        "\n",
        "Valores padrão são definidos na declaração da função, usando o operador de atribuição (=) após o nome do parâmetro."
      ],
      "metadata": {
        "id": "xB1wo9GRnNjf"
      }
    },
    {
      "cell_type": "markdown",
      "source": [
        "Exemplo:"
      ],
      "metadata": {
        "id": "Zb5AT4FGnvW6"
      }
    },
    {
      "cell_type": "code",
      "source": [
        "def saudar(nome=\"Usuário\", lingua=\"Português\"):\n",
        "    \"\"\"\n",
        "    Saúda o usuário com uma mensagem na língua especificada.\n",
        "    \"\"\"\n",
        "    if lingua == \"Português\":\n",
        "        print(f\"Olá, {nome}!\")\n",
        "    elif lingua == \"Inglês\":\n",
        "        print(f\"Hello, {nome}!\")\n",
        "    else:\n",
        "        print(f\"Desculpe, não sei falar '{lingua}'.\")"
      ],
      "metadata": {
        "id": "3Cou21_7nzBA"
      },
      "execution_count": null,
      "outputs": []
    },
    {
      "cell_type": "code",
      "source": [
        "saudar()"
      ],
      "metadata": {
        "id": "vCdUbms2pVjl"
      },
      "execution_count": null,
      "outputs": []
    },
    {
      "cell_type": "code",
      "source": [
        "saudar(\"Alice\")"
      ],
      "metadata": {
        "id": "4inENV1GpYc0"
      },
      "execution_count": null,
      "outputs": []
    },
    {
      "cell_type": "code",
      "source": [
        "saudar(\"Bob\", \"Inglês\")"
      ],
      "metadata": {
        "id": "3cabE_Zepale"
      },
      "execution_count": null,
      "outputs": []
    },
    {
      "cell_type": "code",
      "source": [
        "saudar(lingua=\"Espanhol\")"
      ],
      "metadata": {
        "id": "mvjSHzJlpc26"
      },
      "execution_count": null,
      "outputs": []
    },
    {
      "cell_type": "markdown",
      "source": [
        "## 3.3 Funções Lambda e suas Aplicações"
      ],
      "metadata": {
        "id": "iR_0pHFBqCUq"
      }
    },
    {
      "cell_type": "markdown",
      "source": [
        "### 3.3.1 Introdução às Funções Lambda"
      ],
      "metadata": {
        "id": "m_QjN4TqtNy3"
      }
    },
    {
      "cell_type": "markdown",
      "source": [
        "Uma função `lambda` em Python é uma função anônima, ou seja, uma função que não possui um nome formal. Em vez de usar a palavra-chave `def` para defini-las, usamos a palavra-chave `lambda`. A estrutura básica de uma função `lambda` é a seguinte:\n",
        "\n",
        "Onde:\n",
        " - `lambda`: A palavra-chave que indica a definição de uma função lambda.\n",
        "\n",
        " - argumentos: Uma lista de argumentos separados por vírgula, semelhante aos argumentos de uma função tradicional.\n",
        "\n",
        " - `:` : O operador que separa a lista de argumentos da expressão.\n",
        "\n",
        " - expressão: Uma única expressão que é avaliada e retornada pela função lambda quando ela é chamada.\n",
        "\n",
        "A principal restrição das funções lambda é que elas podem conter apenas uma única expressão. Isso significa que elas são mais adequadas para operações simples e concisas."
      ],
      "metadata": {
        "id": "xYra1gd7t2dS"
      }
    },
    {
      "cell_type": "markdown",
      "source": [
        "Exemplo:"
      ],
      "metadata": {
        "id": "_aZTGcBguej-"
      }
    },
    {
      "cell_type": "code",
      "source": [
        "somar_cinco = lambda x: x + 5\n",
        "somar_cinco(10)"
      ],
      "metadata": {
        "id": "dYFWhtcFul4d"
      },
      "execution_count": null,
      "outputs": []
    },
    {
      "cell_type": "markdown",
      "source": [
        "### 3.3.2 Aplicações Comuns de Funções Lambda"
      ],
      "metadata": {
        "id": "0nRJbbuwtddx"
      }
    },
    {
      "cell_type": "markdown",
      "source": [
        "Funções lambda, devido à sua sintaxe compacta, são particularmente úteis em situações onde uma função é necessária como argumento para outra função. As fontes fornecem diversos exemplos de como as funções lambda podem ser utilizadas em conjunto com funções de alta ordem e para implementar currying."
      ],
      "metadata": {
        "id": "22njX93M0rN2"
      }
    },
    {
      "cell_type": "markdown",
      "source": [
        "Funções Lambda com Funções de Alta Ordem:"
      ],
      "metadata": {
        "id": "u0AXU-ig1M_I"
      }
    },
    {
      "cell_type": "markdown",
      "source": [
        " -  Mapeamento (`map`):  A função map aplica uma função a cada elemento de uma sequência, retornando uma nova sequência com os resultados."
      ],
      "metadata": {
        "id": "bsOREbI_3HT_"
      }
    },
    {
      "cell_type": "code",
      "source": [
        "numeros = [1, 2, 3, 4, 5] # Definir a lista original\n",
        "dobrados = map(lambda x: x * 2, numeros) # Usar map para aplicar uma função que dobra o valor de cada número\n",
        "print(list(dobrados))  # Converter o resultado em uma lista e exibir"
      ],
      "metadata": {
        "id": "OAkA1f6W3gz9"
      },
      "execution_count": null,
      "outputs": []
    },
    {
      "cell_type": "markdown",
      "source": [
        " -  Filtragem (`filter`): A função filter  usa uma função para selecionar elementos de uma sequência que satisfazem uma determinada condição, retornando uma nova sequência apenas com esses elementos."
      ],
      "metadata": {
        "id": "4T7Yjx833Ram"
      }
    },
    {
      "cell_type": "code",
      "source": [
        "numeros = [1, 2, 3, 4, 5, 6, 7, 8, 9, 10] # Definir a lista original\n",
        "pares = filter(lambda x: x % 2 == 0, numeros) # Usar filter para selecionar apenas os números pares\n",
        "print(list(pares))  # Converter o resultado em uma lista e exibir"
      ],
      "metadata": {
        "id": "pL5DKuQP3-HW"
      },
      "execution_count": null,
      "outputs": []
    },
    {
      "cell_type": "markdown",
      "source": [
        " - Ordenação (`sort`): A função sort, aplicada a listas, pode usar uma função como chave para determinar a ordem de classificação."
      ],
      "metadata": {
        "id": "U7pDIYG93bCe"
      }
    },
    {
      "cell_type": "code",
      "source": [
        "palavras = ['maçã', 'banana', 'kiwi', 'abacaxi', 'uva'] # Definir a lista de strings\n",
        "palavras.sort(key=len) # Usar sort com a função len como chave para ordenar pelo comprimento das strings\n",
        "print(palavras)  # Exibir a lista ordenada"
      ],
      "metadata": {
        "id": "KwcUw3PS4S8F"
      },
      "execution_count": null,
      "outputs": []
    },
    {
      "cell_type": "markdown",
      "source": [
        "### 3.3.3 Vantagens do Uso de Funções Lambda"
      ],
      "metadata": {
        "id": "DrL16ZtgtZYT"
      }
    },
    {
      "cell_type": "markdown",
      "source": [
        "Funções lambda, como destacado em nossa conversa anterior, oferecem vantagens significativas em termos de concisão e flexibilidade na programação Python, especialmente em cenários onde a criação de uma função nomeada tradicional com a palavra-chave `def` seria excessivamente verbosa.\n",
        "\n",
        "Vantagens:\n",
        "\n",
        " - Concisão: Funções lambda permitem expressar operações simples de forma muito mais compacta em comparação com funções definidas com def. Essa concisão pode melhorar significativamente a legibilidade do código, tornando-o mais fácil de entender e manter, especialmente quando se trata de operações simples aplicadas em contextos específicos.\n",
        "\n",
        " - Flexibilidade: A natureza anônima das funções lambda oferece grande flexibilidade em sua aplicação. Elas podem ser usadas diretamente como argumentos para funções de alta ordem, como `map()`, `filter()` e `sort()`, sem a necessidade de definir uma função nomeada separadamente. Essa capacidade de definir funções \"on-the-fly\" torna o código mais fluido e adaptável a diferentes situações, especialmente ao lidar com operações em coleções de dados."
      ],
      "metadata": {
        "id": "MBdNXZ9QvrYv"
      }
    },
    {
      "cell_type": "markdown",
      "source": [
        "Exemplo Ilustrativo:"
      ],
      "metadata": {
        "id": "wsFE8PMKwCGJ"
      }
    },
    {
      "cell_type": "markdown",
      "source": [
        "Considere a tarefa de calcular o quadrado de cada número em uma lista. Sem funções lambda, poderíamos escrever:"
      ],
      "metadata": {
        "id": "drsDVFfFwKW5"
      }
    },
    {
      "cell_type": "code",
      "source": [
        "def quadrado(x):\n",
        "    return x * x\n",
        "\n",
        "numeros = list(range(8, 13))\n",
        "quadrados = list(map(quadrado, numeros))\n",
        "print(quadrados)"
      ],
      "metadata": {
        "id": "2Qz-pddlwNgo"
      },
      "execution_count": null,
      "outputs": []
    },
    {
      "cell_type": "markdown",
      "source": [
        "Com uma função lambda, a mesma operação se torna muito mais concisa:"
      ],
      "metadata": {
        "id": "y2Qlu0aRwQmH"
      }
    },
    {
      "cell_type": "code",
      "source": [
        "numeros = list(range(8, 13))\n",
        "quadrados = list(map(lambda x: x * x, numeros))\n",
        "print(quadrados)"
      ],
      "metadata": {
        "id": "Cfi2ZxeXwT4B"
      },
      "execution_count": null,
      "outputs": []
    },
    {
      "cell_type": "markdown",
      "source": [
        "## <font color=orange> Problemas </font>\n",
        "***"
      ],
      "metadata": {
        "id": "UehlYd3npQoz"
      }
    },
    {
      "cell_type": "markdown",
      "source": [
        "Você foi contratado para desenvolver uma calculadora de descontos para uma loja online. A loja oferece descontos personalizados para diferentes clientes, dependendo do valor total da compra e do código de desconto inserido. Sua tarefa é escrever uma função que recebe o valor total da compra, o percentual de desconto, e opcionalmente o código de desconto. O código de desconto aplica um desconto adicional ao total final.\n",
        "Requisitos:\n",
        "\n",
        "1° Defina uma função chamada `calcular_preco_final()` que receba os seguintes argumentos:\n",
        "\n",
        " - `valor_total`: o valor total da compra (posicional).\n",
        "\n",
        " - `percentual_desconto`: o percentual de desconto aplicado à compra (posicional).\n",
        "\n",
        " - `codigo_desconto`: um código opcional que, se informado, aplica um desconto adicional de 10% no total final (default: `None`).\n",
        "\n",
        "2° Retorne o preço final da compra após aplicar o desconto. Se o código de desconto for informado, aplique um desconto adicional de 10% sobre o valor já com desconto.\n",
        "\n",
        " - A função deve utilizar: Argumentos posicionais (`valor_total` e `percentual_desconto`). Um argumento com valor padrão (`codigo_desconto`).\n",
        "\n",
        "Dicas:\n",
        "\n",
        " - O desconto deve ser calculado sobre o valor total da compra: `valor_total - (valor_total * percentual_desconto / 100)`.\n",
        "\n",
        " - Se o código de desconto for fornecido, aplique um desconto adicional de 10% sobre o valor final."
      ],
      "metadata": {
        "id": "nQXJBdKjASnU"
      }
    },
    {
      "cell_type": "code",
      "source": [],
      "metadata": {
        "id": "ycXRqZP5Clv4"
      },
      "execution_count": null,
      "outputs": []
    },
    {
      "cell_type": "code",
      "source": [],
      "metadata": {
        "id": "Xl6eSIxmCnOq"
      },
      "execution_count": null,
      "outputs": []
    },
    {
      "cell_type": "code",
      "source": [],
      "metadata": {
        "id": "AxUX_bDwCoj3"
      },
      "execution_count": null,
      "outputs": []
    },
    {
      "cell_type": "markdown",
      "source": [
        "# <font color=lightblue>4 Bibliotecas para data science</font>\n",
        "***"
      ],
      "metadata": {
        "id": "LoOmyZi1QPTl"
      }
    },
    {
      "cell_type": "markdown",
      "source": [
        "## 4.1. Numpy</font>\n",
        "***"
      ],
      "metadata": {
        "id": "s341md9p3k3q"
      }
    },
    {
      "cell_type": "markdown",
      "source": [
        "A NumPy é uma biblioteca fundamental para quem trabalha com dados numéricos em Python. Ela oferece um array multidimensional rápido e eficiente, permitindo a realização de operações matemáticas em grandes conjuntos de dados de forma simples e eficaz. Além disso, a NumPy facilita a leitura e gravação de dados e fornece funções básicas para álgebra linear e geração de números aleatórios, tornando-se uma ferramenta indispensável para manipulação de dados numéricos no Python."
      ],
      "metadata": {
        "id": "BgPYj6aCvwAF"
      }
    },
    {
      "cell_type": "markdown",
      "source": [
        "Importando numpy"
      ],
      "metadata": {
        "id": "1Rqus83Vv6zM"
      }
    },
    {
      "cell_type": "code",
      "source": [
        "import numpy as np"
      ],
      "metadata": {
        "id": "vOj5adi15-cP"
      },
      "execution_count": null,
      "outputs": []
    },
    {
      "cell_type": "markdown",
      "source": [
        "### 4.1.1. Criando Arrays"
      ],
      "metadata": {
        "id": "sUQ2_USnLYBY"
      }
    },
    {
      "cell_type": "markdown",
      "source": [
        "Arrays NumPy são estruturas de dados fundamentais para trabalhar com dados numéricos em Python. Eles são objetos multidimensionais de alto desempenho que permitem operações matemáticas eficientes e rápidas em grandes conjuntos de dados."
      ],
      "metadata": {
        "id": "-KhBrQnoMoxz"
      }
    },
    {
      "cell_type": "markdown",
      "source": [
        "1. **Criando um array a partir de uma lista**"
      ],
      "metadata": {
        "id": "zpmhUC5vM_XW"
      }
    },
    {
      "cell_type": "code",
      "source": [
        "array_1d = np.array([1, 2, 3, 4, 5]) # Array unidimensional a partir de uma lista\n",
        "array_1d"
      ],
      "metadata": {
        "id": "GSauZBRYNZJj"
      },
      "execution_count": null,
      "outputs": []
    },
    {
      "cell_type": "code",
      "source": [
        "array_2d = np.array([[1, 2, 3], [4, 5, 6]]) # Array bidimensional a partir de uma lista de listas\n",
        "array_2d"
      ],
      "metadata": {
        "id": "MiBOUGlzNejP"
      },
      "execution_count": null,
      "outputs": []
    },
    {
      "cell_type": "markdown",
      "source": [
        "2. **Criando um array preenchido com zeros ou uns**"
      ],
      "metadata": {
        "id": "E7UmXAXXOHIJ"
      }
    },
    {
      "cell_type": "code",
      "source": [
        "zeros_array = np.zeros((3, 4)) # Array de zeros com dimensões 3x4\n",
        "zeros_array"
      ],
      "metadata": {
        "id": "QpqHDag2OPch"
      },
      "execution_count": null,
      "outputs": []
    },
    {
      "cell_type": "code",
      "source": [
        "ones_array = np.ones((2, 3)) # Array de uns com dimensões 2x3\n",
        "ones_array"
      ],
      "metadata": {
        "id": "upTrGNwzOkdd"
      },
      "execution_count": null,
      "outputs": []
    },
    {
      "cell_type": "markdown",
      "source": [
        "3. **Criando um array com valores igualmente espaçados**"
      ],
      "metadata": {
        "id": "sL4f3LyeOw4K"
      }
    },
    {
      "cell_type": "code",
      "source": [
        "array_range = np.arange(0, 11, 2) # Array com valores de 0 a 10, com espaçamento de 2\n",
        "array_range"
      ],
      "metadata": {
        "id": "U-SeDZ-IO4In"
      },
      "execution_count": null,
      "outputs": []
    },
    {
      "cell_type": "code",
      "source": [
        "array_linspace = np.linspace(0, 1, 10) # Array com 10 valores igualmente espaçados entre 0 e 1\n",
        "array_linspace"
      ],
      "metadata": {
        "id": "zNmWWX3lPDJW"
      },
      "execution_count": null,
      "outputs": []
    },
    {
      "cell_type": "markdown",
      "source": [
        "4. **Criando um array com números aleatórios**"
      ],
      "metadata": {
        "id": "Z14ImSFhPc70"
      }
    },
    {
      "cell_type": "code",
      "source": [
        "random_array = np.random.rand(5) # Array com 5 números aleatórios entre 0 e 1\n",
        "random_array"
      ],
      "metadata": {
        "id": "-Bc_ex1vP29e"
      },
      "execution_count": null,
      "outputs": []
    },
    {
      "cell_type": "code",
      "source": [
        "normal_array = np.random.randn(3) # Array com 3 números aleatórios com distribuição normal\n",
        "normal_array"
      ],
      "metadata": {
        "id": "i7MUL_5TP9t_"
      },
      "execution_count": null,
      "outputs": []
    },
    {
      "cell_type": "markdown",
      "source": [
        " - Existem diversas outras funções disponíveis no NumPy para criar arrays, como `empty()`, `full()`, `eye()`, etc. Explore a documentação do [NumPy](https://numpy.org/doc/) para obter mais informações."
      ],
      "metadata": {
        "id": "kXYy_mzKQgMh"
      }
    },
    {
      "cell_type": "markdown",
      "source": [
        "### 4.1.2. Operações com Arrays"
      ],
      "metadata": {
        "id": "gq7iHxhHLdiW"
      }
    },
    {
      "cell_type": "markdown",
      "source": [
        "O NumPy permite a realização de operações matemáticas e lógicas diretamente em arrays. Essas operações são vetorizadas, o que significa que são aplicadas a cada elemento do array de forma eficiente, sem a necessidade de laços explícitos em Python. Isso resulta em um código mais conciso, rápido e legível."
      ],
      "metadata": {
        "id": "fpGO17OvSCJg"
      }
    },
    {
      "cell_type": "markdown",
      "source": [
        "1. **Operações Aritméticas**"
      ],
      "metadata": {
        "id": "H6MuDsrJSozF"
      }
    },
    {
      "cell_type": "code",
      "source": [
        "array1 = np.array([1, 2, 3, 4])\n",
        "array2 = np.array([5, 6, 7, 8])"
      ],
      "metadata": {
        "id": "ihF_vchdS30V"
      },
      "execution_count": null,
      "outputs": []
    },
    {
      "cell_type": "code",
      "source": [
        "soma = array1 + array2\n",
        "subtracao = array1 - array2\n",
        "multiplicacao = array1 * array2\n",
        "divisao = array1 / array2"
      ],
      "metadata": {
        "id": "pymD3_AOS7yN"
      },
      "execution_count": null,
      "outputs": []
    },
    {
      "cell_type": "code",
      "source": [
        "print(\"Soma:\", soma)\n",
        "print(\"Subtração:\", subtracao)\n",
        "print(\"Multiplicação:\", multiplicacao)\n",
        "print(\"Divisão:\", divisao)"
      ],
      "metadata": {
        "id": "NXEGS8tLTDwY"
      },
      "execution_count": null,
      "outputs": []
    },
    {
      "cell_type": "markdown",
      "source": [
        "2. **Operações com Arrays e Escalares**"
      ],
      "metadata": {
        "id": "IHD5Ty8MTS8_"
      }
    },
    {
      "cell_type": "code",
      "source": [
        "array = np.array([1, 2, 3, 4])"
      ],
      "metadata": {
        "id": "SFft11ZCTrg3"
      },
      "execution_count": null,
      "outputs": []
    },
    {
      "cell_type": "code",
      "source": [
        "soma_escalares = array + 10\n",
        "multiplicacao_escalares = array * 2"
      ],
      "metadata": {
        "id": "gtx_D8qSTv0y"
      },
      "execution_count": null,
      "outputs": []
    },
    {
      "cell_type": "code",
      "source": [
        "print(\"Soma com escalar:\", soma_escalares)\n",
        "print(\"Multiplicação com escalar:\", multiplicacao_escalares)"
      ],
      "metadata": {
        "id": "p7dCT4b8Tzc2"
      },
      "execution_count": null,
      "outputs": []
    },
    {
      "cell_type": "markdown",
      "source": [
        "3. **Comparação e Operações Lógicas**"
      ],
      "metadata": {
        "id": "JtFGmUaNUHOt"
      }
    },
    {
      "cell_type": "code",
      "source": [
        "array1 = np.array([1, 2, 3, 4])\n",
        "array2 = np.array([2, 2, 4, 4])"
      ],
      "metadata": {
        "id": "sehsXvdXUQ0P"
      },
      "execution_count": null,
      "outputs": []
    },
    {
      "cell_type": "code",
      "source": [
        "igualdade = array1 == array2\n",
        "maior_que = array1 > array2\n",
        "menor_que = array1 < array2"
      ],
      "metadata": {
        "id": "YOq5QS20UUdR"
      },
      "execution_count": null,
      "outputs": []
    },
    {
      "cell_type": "code",
      "source": [
        "print(\"Igualdade:\", igualdade)\n",
        "print(\"Maior que:\", maior_que)\n",
        "print(\"Menor que:\", menor_que)"
      ],
      "metadata": {
        "id": "y1GIfS-LUX4C"
      },
      "execution_count": null,
      "outputs": []
    },
    {
      "cell_type": "markdown",
      "source": [
        "### 4.1.3. Indexação e Slicing em Arrays"
      ],
      "metadata": {
        "id": "qtZ1Mfj-Lkze"
      }
    },
    {
      "cell_type": "markdown",
      "source": [
        "Indexação e Slicing em Arrays NumPy permitem que você acesse e manipule elementos específicos ou subconjuntos de um array de forma eficiente e flexível. A indexação é a forma de selecionar elementos individuais, enquanto o Slicing extrai uma sequência de elementos."
      ],
      "metadata": {
        "id": "N447yWVwVZeV"
      }
    },
    {
      "cell_type": "markdown",
      "source": [
        "1. **Indexação Básica**"
      ],
      "metadata": {
        "id": "2_8aiCwXXm-d"
      }
    },
    {
      "cell_type": "code",
      "source": [
        "array_1d = np.array([10, 20, 30, 40, 50])"
      ],
      "metadata": {
        "id": "D5GiW7tUXxYn"
      },
      "execution_count": null,
      "outputs": []
    },
    {
      "cell_type": "code",
      "source": [
        "array_1d[0]  # Primeiro elemento"
      ],
      "metadata": {
        "id": "_7hUAE_wX2aP"
      },
      "execution_count": null,
      "outputs": []
    },
    {
      "cell_type": "code",
      "source": [
        "array_1d[3]  # Quarto elemento"
      ],
      "metadata": {
        "id": "5wXgiEb0YJVF"
      },
      "execution_count": null,
      "outputs": []
    },
    {
      "cell_type": "markdown",
      "source": [
        "2. **Slicing**"
      ],
      "metadata": {
        "id": "T2zHER4aYWe0"
      }
    },
    {
      "cell_type": "code",
      "source": [
        "array_1d = np.array([10, 20, 30, 40, 50])"
      ],
      "metadata": {
        "id": "2UqGMqegYd9n"
      },
      "execution_count": null,
      "outputs": []
    },
    {
      "cell_type": "code",
      "source": [
        "fatia_1 = array_1d[1:4]  # Elementos do índice 1 ao 3\n",
        "fatia_2 = array_1d[:3]   # Elementos do início até o índice 2\n",
        "fatia_3 = array_1d[2:]   # Elementos do índice 2 até o final"
      ],
      "metadata": {
        "id": "Xvx0_gQOYizt"
      },
      "execution_count": null,
      "outputs": []
    },
    {
      "cell_type": "code",
      "source": [
        "print(\"Fatia do índice 1 ao 3:\", fatia_1)\n",
        "print(\"Fatia do início até o índice 2:\", fatia_2)\n",
        "print(\"Fatia do índice 2 até o final:\", fatia_3)"
      ],
      "metadata": {
        "id": "MoebUB2EYpoF"
      },
      "execution_count": null,
      "outputs": []
    },
    {
      "cell_type": "markdown",
      "source": [
        "3. **Indexação com Arrays**"
      ],
      "metadata": {
        "id": "9CjXAHF3Y68B"
      }
    },
    {
      "cell_type": "code",
      "source": [
        "array_1d = np.array([10, 20, 30, 40, 50])"
      ],
      "metadata": {
        "id": "AMd1BUaRZDiU"
      },
      "execution_count": null,
      "outputs": []
    },
    {
      "cell_type": "code",
      "source": [
        "indices = np.array([1, 3, 4])  # Índices que queremos acessar\n",
        "elementos = array_1d[indices]"
      ],
      "metadata": {
        "id": "YCKBhJYWZMyK"
      },
      "execution_count": null,
      "outputs": []
    },
    {
      "cell_type": "code",
      "source": [
        "print(\"Elementos nos índices [1, 3, 4]:\", elementos)"
      ],
      "metadata": {
        "id": "hkuadlVGZSjv"
      },
      "execution_count": null,
      "outputs": []
    },
    {
      "cell_type": "markdown",
      "source": [
        "4. **Slicing Multidimensional**"
      ],
      "metadata": {
        "id": "06QkRUyrZn20"
      }
    },
    {
      "cell_type": "code",
      "source": [
        "array_2d = np.array([[1, 2, 3], [4, 5, 6]])"
      ],
      "metadata": {
        "id": "wOlKZmNiZwbk"
      },
      "execution_count": null,
      "outputs": []
    },
    {
      "cell_type": "code",
      "source": [
        "fatia_2d = array_2d[0:2, 1:3]  # Seleciona todas as linhas e as colunas 1 e 2\n",
        "fatia_2d"
      ],
      "metadata": {
        "id": "tkwoj9JVZ2FB"
      },
      "execution_count": null,
      "outputs": []
    },
    {
      "cell_type": "markdown",
      "source": [
        "### 4.1.4. Gerando Dados Aleatórios"
      ],
      "metadata": {
        "id": "SRwjO79gLx0v"
      }
    },
    {
      "cell_type": "markdown",
      "source": [
        "O NumPy oferece um módulo robusto para geração de números pseudoaleatórios, permitindo criar arrays com valores aleatórios provenientes de diversas distribuições estatísticas. Esse recurso é fundamental para tarefas como simulação de dados, amostragem aleatória, inicialização de parâmetros em aprendizado de máquina e muito mais."
      ],
      "metadata": {
        "id": "KCTQZYB1fOFE"
      }
    },
    {
      "cell_type": "markdown",
      "source": [
        "1. **Gerando Números Aleatórios Uniformemente Distribuídos**"
      ],
      "metadata": {
        "id": "oK8Klx6Tf0q7"
      }
    },
    {
      "cell_type": "code",
      "source": [
        "np.random.uniform(0, 1, 5) # 5 números aleatórios uniformemente distribuídos entre 0 e 1"
      ],
      "metadata": {
        "id": "GK2YfaUpgFhv"
      },
      "execution_count": null,
      "outputs": []
    },
    {
      "cell_type": "code",
      "source": [
        "np.random.uniform(10, 20, 3) # 3 números aleatórios uniformemente distribuídos entre 10 e 20"
      ],
      "metadata": {
        "id": "fB58QjOmgOAS"
      },
      "execution_count": null,
      "outputs": []
    },
    {
      "cell_type": "markdown",
      "source": [
        "2. **Gerando Inteiros Aleatórios**"
      ],
      "metadata": {
        "id": "KnIS9Jl1gUyq"
      }
    },
    {
      "cell_type": "code",
      "source": [
        "np.random.randint(1, 10, 5) # 5 inteiros aleatórios entre 1 e 10"
      ],
      "metadata": {
        "id": "XrHYQbhegZX5"
      },
      "execution_count": null,
      "outputs": []
    },
    {
      "cell_type": "code",
      "source": [
        "np.random.randint(0, 100, (2, 3)) # Matriz 2x3 de inteiros aleatórios entre 0 e 100"
      ],
      "metadata": {
        "id": "T1IMlf1jgeTM"
      },
      "execution_count": null,
      "outputs": []
    },
    {
      "cell_type": "markdown",
      "source": [
        "3. **Amostragem Aleatória de um Array**"
      ],
      "metadata": {
        "id": "spT4b4_IguRa"
      }
    },
    {
      "cell_type": "code",
      "source": [
        "array = np.array([10, 20, 30, 40, 50])"
      ],
      "metadata": {
        "id": "YYMFO-hSgyOP"
      },
      "execution_count": null,
      "outputs": []
    },
    {
      "cell_type": "code",
      "source": [
        "# Amostragem aleatória de 3 elementos do array com substituição\n",
        "amostra = np.random.choice(array, 3, replace=True)\n",
        "print(\"Amostra aleatória com substituição:\", amostra)"
      ],
      "metadata": {
        "id": "y1d9AVaIg1jn"
      },
      "execution_count": null,
      "outputs": []
    },
    {
      "cell_type": "code",
      "source": [
        "# Amostragem aleatória de 3 elementos do array sem substituição\n",
        "amostra_sem_substituicao = np.random.choice(array, 3, replace=False)\n",
        "print(\"Amostra aleatória sem substituição:\", amostra_sem_substituicao)"
      ],
      "metadata": {
        "id": "3xDNcyLvhIXD"
      },
      "execution_count": null,
      "outputs": []
    },
    {
      "cell_type": "markdown",
      "source": [
        "1. Amostragem com Substituição (`replace=True`)\n",
        "\n",
        "Quando Usar:\n",
        "\n",
        " - Simulação de Eventos Repetitivos: Em situações onde você está simulando eventos que podem ocorrer várias vezes, como o lançamento de uma moeda, onde o mesmo resultado (cara ou coroa) pode ocorrer várias vezes.\n",
        "    \n",
        " - Distribuição de Recursos: Quando você está simulando a alocação de recursos onde a reposição é possível, como a escolha repetida de produtos de um estoque para diferentes clientes.\n",
        "\n",
        " 2. Amostragem sem Substituição (`replace=False`)\n",
        "\n",
        "Quando Usar:\n",
        "\n",
        " - Seleção de Amostras Únicas: Quando você precisa de uma amostra onde cada item é único, como selecionar alunos para uma pesquisa onde cada aluno deve ser selecionado apenas uma vez.\n",
        "\n",
        " - Experimentos Sem Reposição: Em situações onde você está simulando um processo onde uma vez que um item é escolhido, ele não pode ser escolhido novamente, como na escolha de cartas de um baralho sem reposição."
      ],
      "metadata": {
        "id": "QMGqICfQh0rN"
      }
    },
    {
      "cell_type": "markdown",
      "source": [
        "4. **Gerando Dados Aleatórios de Distribuições Específicas**"
      ],
      "metadata": {
        "id": "Wxu6moBcjDfx"
      }
    },
    {
      "cell_type": "code",
      "source": [
        "np.random.normal(0, 1, 5) # 5 números aleatórios com distribuição normal (média=0, desvio padrão=1)"
      ],
      "metadata": {
        "id": "p_RcMauDjWDL"
      },
      "execution_count": null,
      "outputs": []
    },
    {
      "cell_type": "code",
      "source": [
        "np.random.binomial(10, 0.5, 5) # 5 números aleatórios com distribuição binomial (n=10, p=0.5)"
      ],
      "metadata": {
        "id": "_SVr8s8ijqda"
      },
      "execution_count": null,
      "outputs": []
    },
    {
      "cell_type": "code",
      "source": [
        "np.random.poisson(3, 5) # 5 números aleatórios com distribuição de Poisson (lambda=3)"
      ],
      "metadata": {
        "id": "SEVk1Ourj108"
      },
      "execution_count": null,
      "outputs": []
    },
    {
      "cell_type": "code",
      "source": [
        "np.random.exponential(1.0, 5) # 5 números aleatórios com distribuição exponencial (scale=1.0)"
      ],
      "metadata": {
        "id": "GZl-LlBNj7Ag"
      },
      "execution_count": null,
      "outputs": []
    },
    {
      "cell_type": "code",
      "source": [
        "np.random.randint(1, 10, 5) # 5 números inteiros aleatórios entre 1 e 10"
      ],
      "metadata": {
        "id": "Oj0_0xddkCR5"
      },
      "execution_count": null,
      "outputs": []
    },
    {
      "cell_type": "markdown",
      "source": [
        "### <font color=orange> Problemas </font>"
      ],
      "metadata": {
        "id": "kdp0H8ASlARX"
      }
    },
    {
      "cell_type": "markdown",
      "source": [
        "Crie um programa em Python que utilize a biblioteca NumPy para realizar as seguintes tarefas:\n",
        "\n",
        "1. Geração de Dados: Crie um array unidimensional chamado temperaturas com 10 valores aleatórios representando temperaturas diárias em graus Celsius. Os valores devem estar dentro do intervalo de -10°C a 35°C.\n",
        "\n",
        "2. Conversão de Unidades: Crie um novo array chamado temperaturas_fahrenheit que contenha as temperaturas em graus Fahrenheit. Utilize a fórmula de conversão: `F = (C * 9/5) + 32`.\n",
        "\n",
        "3. Estatísticas Descritivas: Calcule e imprima as seguintes estatísticas descritivas para as temperaturas em graus Celsius:\n",
        "\n",
        " - Média\n",
        "\n",
        " - Mediana\n",
        "\n",
        " - Desvio padrão\n",
        "\n",
        " - Temperatura máxima\n",
        "\n",
        " - Temperatura mínima\n",
        "4. Indexação e Filtragem:\n",
        "\n",
        " - Selecione e imprima as temperaturas acima de 25°C.\n",
        "\n",
        " - Crie um novo array contendo apenas as temperaturas abaixo de 0°C.\n",
        "\n",
        " Dicas:\n",
        "\n",
        " - Utilize as funções do NumPy para geração de dados aleatórios (`np.random.uniform()` ou `np.random.randint()`), operações matemáticas vetorizadas, funções estatísticas (`np.mean()`, `np.median()`, `np.std()`, `np.max()`, `np.min()`) e indexação booleana."
      ],
      "metadata": {
        "id": "4HfownM-lLL5"
      }
    },
    {
      "cell_type": "code",
      "source": [],
      "metadata": {
        "id": "2LI-ZJkzVZdS"
      },
      "execution_count": null,
      "outputs": []
    },
    {
      "cell_type": "markdown",
      "source": [
        "## 4.2. Pandas\n",
        "***"
      ],
      "metadata": {
        "id": "sR-D7cDn3uMN"
      }
    },
    {
      "cell_type": "markdown",
      "source": [
        "O Pandas é uma biblioteca essencial em Python para análise de dados, especialmente para lidar com dados estruturados, como dados tabulares. Ele fornece estruturas de dados eficientes e flexíveis, como DataFrames e Series, que facilitam a manipulação, limpeza, análise e transformação de dados."
      ],
      "metadata": {
        "id": "aruY8o0PoRRx"
      }
    },
    {
      "cell_type": "markdown",
      "source": [
        "Importando pandas"
      ],
      "metadata": {
        "id": "R43cwNQuoWKD"
      }
    },
    {
      "cell_type": "code",
      "source": [
        "import pandas as pd"
      ],
      "metadata": {
        "id": "OuNuJdg-6E7E"
      },
      "execution_count": null,
      "outputs": []
    },
    {
      "cell_type": "markdown",
      "source": [
        "### 4.2.1. Introdução ao Pandas e suas principais funções"
      ],
      "metadata": {
        "id": "zLYQQs0hyQso"
      }
    },
    {
      "cell_type": "markdown",
      "source": [
        "#### 4.2.1.1. O que é um DataFrame?"
      ],
      "metadata": {
        "id": "F6cPrWSby8mT"
      }
    },
    {
      "cell_type": "markdown",
      "source": [
        "Um DataFrame é uma estrutura de dados tabular bidimensional provida pela biblioteca Pandas. Imagine uma tabela com linhas e colunas, onde cada coluna pode conter um tipo diferente de dado, como números, texto ou datas. É como uma versão mais poderosa e flexível de uma planilha do Excel ou uma tabela de um banco de dados.\n",
        "\n",
        "Características Principais:\n",
        "\n",
        " - **Dados Organizados em Linhas e Colunas**: Pense em um DataFrame como uma tabela com linhas e colunas. Cada linha representa uma observação (ex: um cliente, uma transação) e cada coluna representa uma característica dessa observação (ex: nome do cliente, idade, cidade).\n",
        "\n",
        " - **Rótulos para Linhas e Colunas**:  Tanto as linhas quanto as colunas em um DataFrame têm rótulos. Os rótulos das colunas são como os cabeçalhos das colunas em uma planilha, e os rótulos das linhas permitem a identificação única de cada linha.\n",
        "\n",
        " - **Tipos de Dados Flexíveis**:  Cada coluna em um DataFrame pode armazenar um tipo de dados diferente, como números inteiros, números de ponto flutuante (decimais), strings (texto) ou datas.\n",
        "\n",
        " - **Base para Análise de Dados**: DataFrames são a base para muitas operações de análise de dados em Pandas, como filtragem, agrupamento, junção com outros DataFrames, estatísticas descritivas, e muito mais."
      ],
      "metadata": {
        "id": "36PYUIRWzxna"
      }
    },
    {
      "cell_type": "markdown",
      "source": [
        "Exemplo:"
      ],
      "metadata": {
        "id": "SRSDzpjZ0iCb"
      }
    },
    {
      "cell_type": "code",
      "source": [
        "dados = {\n",
        "    'Nome': ['Alice', 'Bob', 'Charlie'],\n",
        "    'Idade': [5, 6, 7],\n",
        "    'Cidade': ['Nova York', 'São Paulo', 'Londres']\n",
        "}\n",
        "\n",
        "df = pd.DataFrame(dados)\n",
        "df"
      ],
      "metadata": {
        "id": "ytF_7pVN0zrl"
      },
      "execution_count": null,
      "outputs": []
    },
    {
      "cell_type": "markdown",
      "source": [
        "**Por Que DataFrames são Importantes?**\n",
        "\n",
        "DataFrames são essenciais em análise de dados porque permitem:\n",
        "\n",
        " - Organizar Dados de Forma Estruturada:  Facilitando a manipulação e análise.\n",
        "\n",
        " - Lidar com Dados Complexos: Com múltiplos tipos de dados em uma única estrutura.\n",
        "\n",
        " - Aplicar Operações em Lotes:  Em vez de trabalhar linha por linha, você pode aplicar operações a colunas inteiras ou ao DataFrame como um todo, tornando a análise muito mais eficiente.\n",
        "\n",
        "O DataFrame é uma das estruturas de dados mais importantes do Pandas e serve como base para a maioria das tarefas de análise de dados realizadas com essa biblioteca."
      ],
      "metadata": {
        "id": "Ac4AQt-j1dAL"
      }
    },
    {
      "cell_type": "markdown",
      "source": [
        "#### 4.2.1.2. O que é uma Series?"
      ],
      "metadata": {
        "id": "B711mEcGzIcj"
      }
    },
    {
      "cell_type": "markdown",
      "source": [
        "Uma Series é uma estrutura de dados unidimensional do Pandas que pode ser pensada como uma coluna em um DataFrame ou uma lista com rótulos. Ela é capaz de armazenar dados de tipos variados, como inteiros, strings e valores booleanos, e cada elemento na Series é associado a um rótulo de índice.\n",
        "\n",
        "Pense em uma Series como uma lista onde cada elemento tem um nome (rótulo) associado a ele. Isso a torna muito mais poderosa do que uma lista comum, pois você pode acessar e manipular os dados usando os rótulos, e não apenas a posição numérica."
      ],
      "metadata": {
        "id": "bkCd7K2E2FId"
      }
    },
    {
      "cell_type": "markdown",
      "source": [
        "**Exemplo**:"
      ],
      "metadata": {
        "id": "Ek4Kz3hN2Nzd"
      }
    },
    {
      "cell_type": "code",
      "source": [
        "alturas = pd.Series([1.75, 1.80, 1.65], index=['Alice', 'Bob', 'Charlie'])"
      ],
      "metadata": {
        "id": "QQkY5e0Q2gTS"
      },
      "execution_count": null,
      "outputs": []
    },
    {
      "cell_type": "markdown",
      "source": [
        " - Você pode usar os rótulos de índice para acessar os dados em uma Series"
      ],
      "metadata": {
        "id": "C270mfZS4fLx"
      }
    },
    {
      "cell_type": "code",
      "source": [
        "altura_do_bob = alturas['Bob']"
      ],
      "metadata": {
        "id": "SwhzN73Q4Uz7"
      },
      "execution_count": null,
      "outputs": []
    },
    {
      "cell_type": "markdown",
      "source": [
        "Neste exemplo:\n",
        "\n",
        " - `alturas` é o nome da sua Series.\n",
        "\n",
        " - `[1.75, 1.80, 1.65]` são os dados da Series, representando as alturas.\n",
        "\n",
        " - `['Alice', 'Bob', 'Charlie']` são os rótulos de índice, associando cada altura a uma pessoa."
      ],
      "metadata": {
        "id": "LhOtVlSt2rmO"
      }
    },
    {
      "cell_type": "markdown",
      "source": [
        "Você pode criar uma Series do Pandas de diversas maneiras, como:\n",
        "\n",
        " - A partir de uma lista:\n",
        "```python\n",
        "dados = [10, 20, 30, 40]\n",
        "s = pd.Series(dados)\n",
        "```\n",
        "\n",
        " - A partir de um dicionário:\n",
        "```python\n",
        "dados = {'Ohio': 35000, 'Texas': 71000, 'Oregon': 16000, 'Utah': 5000}\n",
        "obj3 = pd.Series(dados)\n",
        "```\n"
      ],
      "metadata": {
        "id": "GQzCIbDK3YiU"
      }
    },
    {
      "cell_type": "markdown",
      "source": [
        "Por Que Series são Úteis?\n",
        "\n",
        " - Armazenamento de Dados com Rótulos: A capacidade de associar rótulos aos dados torna a Series muito útil para armazenar e manipular dados que possuem um significado associado a cada valor.\n",
        "\n",
        " - Base para DataFrames: Series são os blocos de construção de DataFrames. Cada coluna em um DataFrame é essencialmente uma Series.\n",
        "\n",
        " - Operações Eficientes: Assim como os DataFrames, as Series permitem realizar operações eficientes em grandes conjuntos de dados.\n",
        "\n",
        "Compreender as Series é fundamental para trabalhar com a biblioteca Pandas, pois elas formam a base para a estrutura de dados mais poderosa do Pandas, o DataFrame."
      ],
      "metadata": {
        "id": "jTgPmQX94qr7"
      }
    },
    {
      "cell_type": "markdown",
      "source": [
        "#### 4.2.1.3. Criando um DataFrame"
      ],
      "metadata": {
        "id": "S0N4iUzVzQop"
      }
    },
    {
      "cell_type": "markdown",
      "source": [
        "Um DataFrame, a estrutura de dados tabular do Pandas, pode ser criado de várias maneiras. Aqui estão alguns métodos comuns."
      ],
      "metadata": {
        "id": "Wxm00teV6tUP"
      }
    },
    {
      "cell_type": "markdown",
      "source": [
        "**A partir de um dicionário de listas de mesmo tamanho:**"
      ],
      "metadata": {
        "id": "wNiqwkPU8-De"
      }
    },
    {
      "cell_type": "code",
      "source": [
        "data = {'state': ['Ohio', 'Ohio', 'Ohio', 'Nevada', 'Nevada', 'Nevada'],\n",
        "        'year': [2000, 2001, 2002, 2000, 2001, 2002],\n",
        "        'pop': [1.5, 1.7, 3.6, 2.4, 2.9, 3.2]}\n",
        "df = pd.DataFrame(data)\n",
        "df"
      ],
      "metadata": {
        "id": "sFC950b89RYT"
      },
      "execution_count": null,
      "outputs": []
    },
    {
      "cell_type": "markdown",
      "source": [
        "Você pode especificar a ordem desejada das colunas ao criar um DataFrame a partir de um dicionário."
      ],
      "metadata": {
        "id": "MRti49n29Wjw"
      }
    },
    {
      "cell_type": "code",
      "source": [
        "pd.DataFrame(data, columns=['year', 'state', 'pop'])"
      ],
      "metadata": {
        "id": "f6P84L8v9mgZ"
      },
      "execution_count": null,
      "outputs": []
    },
    {
      "cell_type": "markdown",
      "source": [
        "**A partir de um dicionário de dicionários aninhados:**"
      ],
      "metadata": {
        "id": "NDJ6BfFe-J2W"
      }
    },
    {
      "cell_type": "markdown",
      "source": [
        "Se você tiver um dicionário onde cada chave está associada a outro dicionário, pode criar um DataFrame onde:\n",
        "\n",
        " - As chaves externas se tornam nomes de colunas.\n",
        "\n",
        " - As chaves internas se tornam índices de linha."
      ],
      "metadata": {
        "id": "nIj0vDSF-Wlh"
      }
    },
    {
      "cell_type": "code",
      "source": [
        "pop = {'Nevada': {2001: 2.4, 2002: 2.9},\n",
        "       'Ohio': {2000: 1.5, 2001: 1.7, 2002: 3.6}}\n",
        "df = pd.DataFrame(pop)\n",
        "df"
      ],
      "metadata": {
        "id": "azMgZV_J-fwB"
      },
      "execution_count": null,
      "outputs": []
    },
    {
      "cell_type": "markdown",
      "source": [
        "**A partir de uma lista de dicionários:**"
      ],
      "metadata": {
        "id": "FVHiv1S_AjPc"
      }
    },
    {
      "cell_type": "markdown",
      "source": [
        "Cada dicionário na lista pode representar uma linha de dados no DataFrame resultante. As chaves dos dicionários se tornam os nomes das colunas."
      ],
      "metadata": {
        "id": "dvftII3pA3x8"
      }
    },
    {
      "cell_type": "code",
      "source": [
        "data = [{'a': 1, 'b': 2}, {'a': 5, 'b': 10, 'c': 20}]\n",
        "df = pd.DataFrame(data)\n",
        "df"
      ],
      "metadata": {
        "id": "7rqNmJ8aAykw"
      },
      "execution_count": null,
      "outputs": []
    },
    {
      "cell_type": "markdown",
      "source": [
        "#### 4.2.1.4. Manipulando Dados em um DataFrame"
      ],
      "metadata": {
        "id": "JycqdDUUzWtw"
      }
    },
    {
      "cell_type": "markdown",
      "source": [
        "Agora abordaremos os métodos essenciais para manipular dados em um DataFrame. Exploraremos técnicas para selecionar, filtrar, e transformar dados, além de gerenciar índices e trabalhar com diferentes tipos de dados. O objetivo é fornecer ferramentas práticas para que você possa organizar e analisar os dados de forma eficiente."
      ],
      "metadata": {
        "id": "EzRfV_WWCAoy"
      }
    },
    {
      "cell_type": "markdown",
      "source": [
        "**Criando um DataFrame de exemplo:**"
      ],
      "metadata": {
        "id": "ty8Lv96lCPk5"
      }
    },
    {
      "cell_type": "code",
      "source": [
        "data = {'Nome': ['Ana', 'Bruno', 'Carlos', 'Diana'],\n",
        "        'Idade': [19, 25, 33, 41],\n",
        "        'Cidade': ['São Paulo', 'Rio de Janeiro', 'Belo Horizonte', 'Curitiba']}\n",
        "df = pd.DataFrame(data)"
      ],
      "metadata": {
        "id": "rJ1R2MpmCV-K"
      },
      "execution_count": null,
      "outputs": []
    },
    {
      "cell_type": "markdown",
      "source": [
        "1. Selecionando Dados"
      ],
      "metadata": {
        "id": "WGbPdL5tCgTl"
      }
    },
    {
      "cell_type": "code",
      "source": [
        "df['Nome']"
      ],
      "metadata": {
        "id": "IeY14EwgCqG2"
      },
      "execution_count": null,
      "outputs": []
    },
    {
      "cell_type": "code",
      "source": [
        "df.loc[1:2, ['Idade', 'Cidade']]"
      ],
      "metadata": {
        "id": "FPSgynByCyr-"
      },
      "execution_count": null,
      "outputs": []
    },
    {
      "cell_type": "code",
      "source": [
        "df[df['Idade'] > 25]"
      ],
      "metadata": {
        "id": "_7t-Dhi8DTlv"
      },
      "execution_count": null,
      "outputs": []
    },
    {
      "cell_type": "markdown",
      "source": [
        "2. Adicionando e Removendo Colunas"
      ],
      "metadata": {
        "id": "BVP2Vd5oEPGS"
      }
    },
    {
      "cell_type": "code",
      "source": [
        "df['Profissão'] = ['Engenheiro', 'Médico', 'Professor', 'Analista']\n",
        "df"
      ],
      "metadata": {
        "id": "FInCK274EVRq"
      },
      "execution_count": null,
      "outputs": []
    },
    {
      "cell_type": "code",
      "source": [
        "df.drop('Cidade', axis=1, inplace=True)\n",
        "df"
      ],
      "metadata": {
        "id": "eyzdK8-JEX4a"
      },
      "execution_count": null,
      "outputs": []
    },
    {
      "cell_type": "markdown",
      "source": [
        " - `axis`: Especifica se a remoção deve ser feita ao longo das linhas ou colunas.\n",
        " - `inplace`: Controla se a operação deve modificar o DataFrame original ou retornar uma nova cópia."
      ],
      "metadata": {
        "id": "CUliuF5tFzLW"
      }
    },
    {
      "cell_type": "markdown",
      "source": [
        "3. Lidando com Dados Ausentes"
      ],
      "metadata": {
        "id": "gOTBJJ5sGEcF"
      }
    },
    {
      "cell_type": "code",
      "source": [
        "df.loc[2, 'Profissão'] = None\n",
        "df"
      ],
      "metadata": {
        "id": "WH2m2zSDGM-a"
      },
      "execution_count": null,
      "outputs": []
    },
    {
      "cell_type": "code",
      "source": [
        "df.fillna('Desconhecido', inplace=True)\n",
        "df"
      ],
      "metadata": {
        "id": "L56Or9WzGUrR"
      },
      "execution_count": null,
      "outputs": []
    },
    {
      "cell_type": "markdown",
      "source": [
        "4. Aplicando Funções e Transformações"
      ],
      "metadata": {
        "id": "VfjK0b18GyTR"
      }
    },
    {
      "cell_type": "code",
      "source": [
        "df['Idade em 5 anos'] = df['Idade'].apply(lambda x: x + 5)\n",
        "df"
      ],
      "metadata": {
        "id": "d2LAk9IlG6ue"
      },
      "execution_count": null,
      "outputs": []
    },
    {
      "cell_type": "markdown",
      "source": [
        "5. Ordenando Dados"
      ],
      "metadata": {
        "id": "WtFsbRXjHRA_"
      }
    },
    {
      "cell_type": "code",
      "source": [
        "df.sort_values('Idade', ascending=False, inplace=True)\n",
        "df"
      ],
      "metadata": {
        "id": "-7qtTARBHZje"
      },
      "execution_count": null,
      "outputs": []
    },
    {
      "cell_type": "markdown",
      "source": [
        "### Exercício:\n",
        "1. Crie um DataFrame com pelo menos 5 linhas e 4 colunas, com dados numéricos e de texto.\n",
        "2. Selecione as linhas onde o valor de uma coluna específica atenda a uma determinada condição.\n",
        "3. Crie uma nova coluna que seja o resultado de uma operação matemática em duas colunas existentes.\n",
        "4. Ordene o DataFrame por duas colunas, em ordem crescente e decrescente."
      ],
      "metadata": {
        "id": "ajW5O3BSHsV1"
      }
    },
    {
      "cell_type": "code",
      "source": [],
      "metadata": {
        "id": "NOjwKdUCH9Kv"
      },
      "execution_count": null,
      "outputs": []
    },
    {
      "cell_type": "markdown",
      "source": [
        "### 4.2.2. Leitura e Escrita de Dados com Pandas"
      ],
      "metadata": {
        "id": "zCP1MUoxyjuo"
      }
    },
    {
      "cell_type": "markdown",
      "source": [
        "O Pandas simplifica a leitura e escrita de dados de diversas fontes, incluindo arquivos, bancos de dados e APIs web. As funções `read_csv`, `read_excel`, `read_sql` e `to_csv` são algumas das ferramentas disponíveis para estas operações."
      ],
      "metadata": {
        "id": "RhHVZetZ9iNs"
      }
    },
    {
      "cell_type": "markdown",
      "source": [
        "Exemplos:"
      ],
      "metadata": {
        "id": "Nv8ZzJQL9q81"
      }
    },
    {
      "cell_type": "markdown",
      "source": [
        "1. Escrevendo dados para um arquivo CSV"
      ],
      "metadata": {
        "id": "WuB-kDvf-BQ9"
      }
    },
    {
      "cell_type": "code",
      "source": [
        "dados = {'coluna1': [2, 3, 4], 'coluna2': [5, 6, 7]}\n",
        "df = pd.DataFrame(dados)\n",
        "df.to_csv('dados.csv')"
      ],
      "metadata": {
        "id": "NsNA3gyF-Goh"
      },
      "execution_count": null,
      "outputs": []
    },
    {
      "cell_type": "markdown",
      "source": [
        "2. Lendo dados de um arquivo CSV"
      ],
      "metadata": {
        "id": "me7xvXLV9v46"
      }
    },
    {
      "cell_type": "code",
      "source": [
        "df = pd.read_csv('dados.csv')"
      ],
      "metadata": {
        "id": "DKIYaI_893j5"
      },
      "execution_count": null,
      "outputs": []
    },
    {
      "cell_type": "markdown",
      "source": [
        "3. Escrevendo dados para um arquivo XLSX"
      ],
      "metadata": {
        "id": "XlC14Coy-4y7"
      }
    },
    {
      "cell_type": "code",
      "source": [
        "dados = {'Nome': [\"João\", \"Paulo\", \"Matheus\"], 'Altura': [1.2, 1.9, 2]}\n",
        "df = pd.DataFrame(dados)\n",
        "df.to_excel(\"dados.xlsx\", index=False)"
      ],
      "metadata": {
        "id": "Zl8r4iAf_Bcn"
      },
      "execution_count": null,
      "outputs": []
    },
    {
      "cell_type": "markdown",
      "source": [
        "4. Lendo dados de um arquivo XLSX"
      ],
      "metadata": {
        "id": "iCVPhs8YAP9a"
      }
    },
    {
      "cell_type": "code",
      "source": [
        "df = pd.read_excel('dados.xlsx')\n",
        "df"
      ],
      "metadata": {
        "id": "pbgtH2KAAVm5"
      },
      "execution_count": null,
      "outputs": []
    },
    {
      "cell_type": "markdown",
      "source": [
        "### 4.2.3. Limpeza e Preparação de Dados"
      ],
      "metadata": {
        "id": "8yIPYpZEypNK"
      }
    },
    {
      "cell_type": "markdown",
      "source": [
        "A limpeza e preparação de dados são etapas cruciais em qualquer projeto de análise de dados. Elas envolvem identificar e lidar com dados ausentes, inconsistentes, inválidos ou irrelevantes para garantir a qualidade, a precisão e a confiabilidade dos resultados da análise."
      ],
      "metadata": {
        "id": "8c2ToJ-_BCYj"
      }
    },
    {
      "cell_type": "markdown",
      "source": [
        "**Cria um DataFrame com dados ausentes:**"
      ],
      "metadata": {
        "id": "kpXpE2MwC_sz"
      }
    },
    {
      "cell_type": "code",
      "source": [
        "dados = {'Nome': ['Ana', 'Bruno', 'Carlos', 'Ana', 'Bruno', 'Carlos'],\n",
        "         'Departamento': ['RH', 'TI', 'TI', 'RH', 'TI', 'RH'],\n",
        "         'Salário': [3000, None, 5000, 3500, 4500, None]}\n",
        "\n",
        "df = pd.DataFrame(dados)\n",
        "df"
      ],
      "metadata": {
        "id": "2KPrvd7uDH80"
      },
      "execution_count": null,
      "outputs": []
    },
    {
      "cell_type": "markdown",
      "source": [
        "1. Verifica a existência de dados ausentes"
      ],
      "metadata": {
        "id": "hfyckDkCDMn3"
      }
    },
    {
      "cell_type": "code",
      "source": [
        "df.isnull()"
      ],
      "metadata": {
        "id": "8e0CQ0FtDe8B"
      },
      "execution_count": null,
      "outputs": []
    },
    {
      "cell_type": "markdown",
      "source": [
        "2. Remove linhas com dados ausentes"
      ],
      "metadata": {
        "id": "0_fJ39EjDRqX"
      }
    },
    {
      "cell_type": "code",
      "source": [
        "df_sem_nulos = df.dropna()\n",
        "df_sem_nulos"
      ],
      "metadata": {
        "id": "F_lvi8TtDnC7"
      },
      "execution_count": null,
      "outputs": []
    },
    {
      "cell_type": "markdown",
      "source": [
        "3. Preenche dados ausentes com a média da coluna"
      ],
      "metadata": {
        "id": "pAaxsylFDV_E"
      }
    },
    {
      "cell_type": "code",
      "source": [
        "df_preenchido = df.fillna(df[\"Salário\"].mean())\n",
        "df_preenchido"
      ],
      "metadata": {
        "id": "K9P3gDGKDutD"
      },
      "execution_count": null,
      "outputs": []
    },
    {
      "cell_type": "markdown",
      "source": [
        "4. Agrupando os dados pelo valor da coluna `Departamento`"
      ],
      "metadata": {
        "id": "sWhagqf2IcDw"
      }
    },
    {
      "cell_type": "code",
      "source": [
        "soma_salarial = df.groupby('Departamento')['Salário'].sum()\n",
        "soma_salarial"
      ],
      "metadata": {
        "id": "4cwh_QEVI7N4"
      },
      "execution_count": null,
      "outputs": []
    },
    {
      "cell_type": "markdown",
      "source": [
        "Outros métodos comuns com groupby:\n",
        "\n",
        " - `sum()`: Soma os valores dentro de cada grupo.\n",
        " - `count()`: Conta o número de elementos em cada grupo.\n",
        " - `min()` e `max()`: Encontra o menor e maior valor em cada grupo."
      ],
      "metadata": {
        "id": "_KT4uD0sJDPI"
      }
    },
    {
      "cell_type": "markdown",
      "source": [
        "### <font color=orange> Problemas </font>"
      ],
      "metadata": {
        "id": "tqRSFrFHsecp"
      }
    },
    {
      "cell_type": "markdown",
      "source": [
        "Você recebeu um conjunto de dados contendo informações sobre vendas de produtos em uma loja. Utilize o Pandas para carregar, manipular e analisar esses dados.\n",
        "\n",
        "Dados do Arquivo CSV (vendas.csv):\n",
        "\n",
        "Data       | Produto   | Quantidade | Preço Unitário\n",
        "-----------|-----------|------------|----------------\n",
        "2024-01-01 | Camiseta  | 10         | 29.90          \n",
        "2024-01-01 | Calça     | 5          | 59.90          \n",
        "2024-01-02 | Jaqueta   | 2          | 99.90          \n",
        "2024-01-03 | Camiseta  | 7          | 29.90          \n",
        "2024-01-03 | Calça     | 3          | 59.90      \n",
        "\n",
        "\n",
        "\n",
        "1° Utilize o Pandas para carregar o arquivo CSV (vendas.csv) em um DataFrame.\n",
        "\n",
        "2° Exiba as primeiras linhas do DataFrame para verificar o conteúdo.\n",
        "\n",
        "3° Crie uma nova coluna no DataFrame chamada Total, que será o resultado da multiplicação da Quantidade pelo Preço Unitário.\n",
        "\n",
        "4° Calcule o valor total das vendas para cada produto e exiba o resultado.\n",
        "\n",
        "5° Filtre os dados para mostrar apenas as vendas realizadas no dia 2024-01-03 e exiba o resultado.\n",
        "\n",
        "6° Salve o DataFrame atualizado com a nova coluna Total em um novo arquivo CSV chamado vendas_atualizadas.csv.\n"
      ],
      "metadata": {
        "id": "LJvcgtdbsnP6"
      }
    },
    {
      "cell_type": "code",
      "source": [],
      "metadata": {
        "id": "ebw3SRXeGupN"
      },
      "execution_count": null,
      "outputs": []
    },
    {
      "cell_type": "code",
      "source": [],
      "metadata": {
        "id": "BsIG-1fEGtgk"
      },
      "execution_count": null,
      "outputs": []
    },
    {
      "cell_type": "code",
      "source": [],
      "metadata": {
        "id": "McOEK16MGsXc"
      },
      "execution_count": null,
      "outputs": []
    },
    {
      "cell_type": "code",
      "source": [],
      "metadata": {
        "id": "aBE-VCDDGrMp"
      },
      "execution_count": null,
      "outputs": []
    },
    {
      "cell_type": "code",
      "source": [],
      "metadata": {
        "id": "a-4ICVsgGqN0"
      },
      "execution_count": null,
      "outputs": []
    },
    {
      "cell_type": "code",
      "source": [],
      "metadata": {
        "id": "Dlznr0AzGpLh"
      },
      "execution_count": null,
      "outputs": []
    },
    {
      "cell_type": "markdown",
      "source": [
        "## 4.3. Matplotlib\n",
        "***"
      ],
      "metadata": {
        "id": "ezWJ4w4H3nLr"
      }
    },
    {
      "cell_type": "markdown",
      "source": [
        "A Matplotlib é a biblioteca Python mais popular para criar plotagens e outras visualizações bidimensionais de dados. Projetada para gerar visualizações adequadas para publicação, a Matplotlib é amplamente utilizada e bem integrada ao ecossistema Python, sendo uma escolha confiável como ferramenta de visualização padrão."
      ],
      "metadata": {
        "id": "pgH7eaquwYqY"
      }
    },
    {
      "cell_type": "code",
      "source": [
        "import matplotlib.pyplot as plt\n",
        "import numpy as np"
      ],
      "metadata": {
        "id": "d5NOlYAQbEer"
      },
      "execution_count": null,
      "outputs": []
    },
    {
      "cell_type": "markdown",
      "source": [
        "### 4.3.1. Introdução à Matplotlib"
      ],
      "metadata": {
        "id": "P5Z2hV0zXili"
      }
    },
    {
      "cell_type": "markdown",
      "source": [
        "Vamos criar um gráfico de linha simples para ilustrar o uso básico da Matplotlib. Neste exemplo, visualizamos a função seno ao longo de um intervalo:"
      ],
      "metadata": {
        "id": "uE6iW6Una5ev"
      }
    },
    {
      "cell_type": "code",
      "source": [
        "x = np.linspace(0, 10, 100)  # 100 pontos igualmente espaçados entre 0 e 10\n",
        "y = np.sin(x)  # Função seno para os dados y"
      ],
      "metadata": {
        "id": "-64ioWKabH8O"
      },
      "execution_count": null,
      "outputs": []
    },
    {
      "cell_type": "code",
      "source": [
        "plt.plot(x, y, color='blue', linestyle='-', marker='o') # Gráfico de linha\n",
        "\n",
        "# Título e rótulos aos eixos\n",
        "plt.title('Gráfico de Linha da Função Seno')\n",
        "plt.xlabel('Eixo X')\n",
        "plt.ylabel('Eixo Y')\n",
        "\n",
        "plt.show()"
      ],
      "metadata": {
        "id": "iueLyFSfbNfh"
      },
      "execution_count": null,
      "outputs": []
    },
    {
      "cell_type": "markdown",
      "source": [
        "### 4.3.2. Tipos de Gráficos"
      ],
      "metadata": {
        "id": "Diw_UnsYXrim"
      }
    },
    {
      "cell_type": "markdown",
      "source": [
        "Matplotlib oferece uma ampla gama de tipos de gráficos que são essenciais para diferentes formas de visualização de dados. Cada tipo de gráfico tem uma aplicação específica dependendo da natureza dos dados e das informações que você deseja destacar. Neste subtópico, vamos explorar alguns dos tipos de gráficos mais comuns e suas aplicações."
      ],
      "metadata": {
        "id": "WAzqn3P8dzNb"
      }
    },
    {
      "cell_type": "markdown",
      "source": [
        "1. Gráfico de Linha\n",
        "\n",
        " - Os gráficos de linha são usados para mostrar tendências ao longo do tempo. Eles são úteis para visualizar mudanças contínuas e comparações entre diferentes séries temporais."
      ],
      "metadata": {
        "id": "OMlw0hwEd3go"
      }
    },
    {
      "cell_type": "code",
      "source": [
        "# Dados\n",
        "x = np.arange(10)\n",
        "y1 = np.sin(x)\n",
        "y2 = np.cos(x)"
      ],
      "metadata": {
        "id": "CF43J8D2eLzb"
      },
      "execution_count": null,
      "outputs": []
    },
    {
      "cell_type": "code",
      "source": [
        "# Gráfico de linha\n",
        "plt.plot(x, y1, label='Seno', color='blue')\n",
        "plt.plot(x, y2, label='Cosseno', color='red')\n",
        "\n",
        "# Título e rótulos\n",
        "plt.title('Gráfico de Linha')\n",
        "plt.xlabel('X')\n",
        "plt.ylabel('Y')\n",
        "plt.legend()\n",
        "\n",
        "plt.show()"
      ],
      "metadata": {
        "id": "wHE_Y1jzePkD"
      },
      "execution_count": null,
      "outputs": []
    },
    {
      "cell_type": "markdown",
      "source": [
        "2. Gráfico de Barras\n",
        "\n",
        " - Os gráficos de barras são usados para comparar valores em diferentes categorias. Eles são úteis para mostrar a distribuição de dados em diferentes grupos."
      ],
      "metadata": {
        "id": "HRS7YWSDd68m"
      }
    },
    {
      "cell_type": "code",
      "source": [
        "# Dados\n",
        "categorias = ['A', 'B', 'C', 'D']\n",
        "valores = [4, 7, 2, 5]"
      ],
      "metadata": {
        "id": "Vyg5weG3eoLD"
      },
      "execution_count": null,
      "outputs": []
    },
    {
      "cell_type": "code",
      "source": [
        "# Gráfico de barras\n",
        "plt.bar(categorias, valores, color='green')\n",
        "\n",
        "# Título e rótulos\n",
        "plt.title('Gráfico de Barras')\n",
        "plt.xlabel('Categorias')\n",
        "plt.ylabel('Valores')\n",
        "\n",
        "plt.show()"
      ],
      "metadata": {
        "id": "V0-wy0R5eqPb"
      },
      "execution_count": null,
      "outputs": []
    },
    {
      "cell_type": "markdown",
      "source": [
        "3. Gráfico de Dispersão\n",
        "\n",
        " - Os gráficos de dispersão são usados para mostrar a relação entre duas variáveis numéricas. Eles são úteis para identificar padrões, correlações e outliers."
      ],
      "metadata": {
        "id": "6iT82mFSd9zk"
      }
    },
    {
      "cell_type": "code",
      "source": [
        "# Dados\n",
        "x = np.random.rand(50)\n",
        "y = np.random.rand(50)"
      ],
      "metadata": {
        "id": "UV6sIi5ae5ws"
      },
      "execution_count": null,
      "outputs": []
    },
    {
      "cell_type": "code",
      "source": [
        "# Gráfico de dispersão\n",
        "plt.scatter(x, y, color='purple', marker='o')\n",
        "\n",
        "# Título e rótulos\n",
        "plt.title('Gráfico de Dispersão')\n",
        "plt.xlabel('X')\n",
        "plt.ylabel('Y')\n",
        "\n",
        "plt.show()"
      ],
      "metadata": {
        "id": "-VQM8dUSe8Vx"
      },
      "execution_count": null,
      "outputs": []
    },
    {
      "cell_type": "markdown",
      "source": [
        "4. Histograma\n",
        "\n",
        " - Os histogramas são usados para mostrar a distribuição de um conjunto de dados contínuos. Eles são úteis para entender a frequência dos dados em intervalos específicos."
      ],
      "metadata": {
        "id": "QJv9pbCQeA9s"
      }
    },
    {
      "cell_type": "code",
      "source": [
        "# Dados\n",
        "dados = np.random.randn(1000)"
      ],
      "metadata": {
        "id": "QFmjecB0fHsz"
      },
      "execution_count": null,
      "outputs": []
    },
    {
      "cell_type": "code",
      "source": [
        "# Criar o histograma\n",
        "plt.hist(dados, bins=30, color='orange', edgecolor='black')\n",
        "\n",
        "# Adicionar título e rótulos\n",
        "plt.title('Histograma')\n",
        "plt.xlabel('Valores')\n",
        "plt.ylabel('Frequência')\n",
        "\n",
        "plt.show()"
      ],
      "metadata": {
        "id": "nTKO4tZJfJzA"
      },
      "execution_count": null,
      "outputs": []
    },
    {
      "cell_type": "markdown",
      "source": [
        "### 4.3.3. Personalização de Gráficos"
      ],
      "metadata": {
        "id": "gJsXRqi9XyHt"
      }
    },
    {
      "cell_type": "markdown",
      "source": [
        "A personalização de gráficos é uma etapa crucial na criação de visualizações de dados eficazes. A Matplotlib oferece uma vasta gama de opções para personalizar a aparência dos seus gráficos, permitindo que você ajuste cores, estilos de linha, marcadores, legendas, títulos e muito mais. Personalizar gráficos não só melhora a estética, mas também facilita a comunicação de insights de forma clara e impactante."
      ],
      "metadata": {
        "id": "ELEU4dBcgrcU"
      }
    },
    {
      "cell_type": "code",
      "source": [
        "# Dados\n",
        "x = np.arange(10)\n",
        "y1 = np.sin(x)\n",
        "y2 = np.cos(x)"
      ],
      "metadata": {
        "id": "VxFoLSZhg1eP"
      },
      "execution_count": null,
      "outputs": []
    },
    {
      "cell_type": "code",
      "source": [
        "# Gráfico de linha com personalização\n",
        "plt.plot(x, y1, color='blue', linestyle='--', marker='o', markersize=8, label='Seno')\n",
        "plt.plot(x, y2, color='red', linestyle='-', marker='x', markersize=8, label='Cosseno')\n",
        "\n",
        "# Título e rótulos aos eixos\n",
        "plt.title('Gráfico de Linha Personalizado')\n",
        "plt.xlabel('Eixo X')\n",
        "plt.ylabel('Eixo Y')\n",
        "\n",
        "# Legenda\n",
        "plt.legend()\n",
        "\n",
        "# Grade\n",
        "plt.grid(True)\n",
        "\n",
        "plt.show()"
      ],
      "metadata": {
        "id": "z4fa9xtwg4VM"
      },
      "execution_count": null,
      "outputs": []
    },
    {
      "cell_type": "markdown",
      "source": [
        " - `color`: Define a cor da linha. Pode ser um nome de cor (como 'blue') ou um código hexadecimal (como '#0000FF').\n",
        "\n",
        " - `linestyle`: Define o estilo da linha. Opções comuns incluem `'-'` (linha sólida), `'--'` (linha pontilhada), `':'` (linha pontilhada) e `'-.'` (linha mista).\n",
        "\n",
        " - `marker`: Define o marcador usado para os pontos de dados. Exemplos incluem `'o'` (círculo), `'x'` (x), `'^'` (triângulo), etc.\n",
        "\n",
        " - `markersize`: Define o tamanho do marcador.\n",
        "\n",
        " - `plt.title()`: Adiciona um título ao gráfico.\n",
        "\n",
        " - `plt.xlabel()` e `plt.ylabel()`: Adicionam rótulos aos eixos X e Y, respectivamente.\n",
        "\n",
        " - `plt.legend()`: Adiciona uma legenda ao gráfico.\n",
        "\n",
        " - `plt.grid(True)`: Adiciona uma grade ao fundo do gráfico para melhor visualização dos dados."
      ],
      "metadata": {
        "id": "0XsNTJqyhOsE"
      }
    },
    {
      "cell_type": "markdown",
      "source": [
        "### 4.3.4. Salvando Gráficos"
      ],
      "metadata": {
        "id": "YpMjPfC3X5ww"
      }
    },
    {
      "cell_type": "markdown",
      "source": [
        "Salvar gráficos é uma etapa importante para compartilhar e apresentar visualizações de dados de forma eficaz. A Matplotlib permite que você salve gráficos em vários formatos de arquivo, como PNG, JPG, PDF e SVG. Isso é útil para incluir gráficos em relatórios, apresentações e documentos."
      ],
      "metadata": {
        "id": "_BrZnc13ignC"
      }
    },
    {
      "cell_type": "code",
      "source": [
        "x = np.arange(10)\n",
        "y = np.sin(x)"
      ],
      "metadata": {
        "id": "6fRTl3RDjEvZ"
      },
      "execution_count": null,
      "outputs": []
    },
    {
      "cell_type": "code",
      "source": [
        "plt.plot(x, y, marker='o', linestyle='-', color='b', label='Seno')\n",
        "plt.title('Gráfico de Seno')\n",
        "plt.xlabel('Eixo X')\n",
        "plt.ylabel('Eixo Y')\n",
        "\n",
        "plt.savefig('grafico_seno.png', format='png')  # Salvar como PNG\n",
        "plt.savefig('grafico_seno.pdf', format='pdf')  # Salvar como PDF\n",
        "plt.savefig('grafico_seno.svg', format='svg')  # Salvar como SVG"
      ],
      "metadata": {
        "id": "6foVO2Liiw7c"
      },
      "execution_count": null,
      "outputs": []
    },
    {
      "cell_type": "markdown",
      "source": [
        " - `plt.savefig`(`'nome_arquivo.extensao'`, `format='formato'`): Esta função salva o gráfico atual em um arquivo. O primeiro parâmetro é o nome do arquivo e a extensão define o formato (por exemplo, `.png`, `.pdf`, `.svg`). O parâmetro `format` define o formato do arquivo explicitamente (opcional se a extensão já estiver correta)."
      ],
      "metadata": {
        "id": "qQaMQddXjkzT"
      }
    },
    {
      "cell_type": "markdown",
      "source": [
        "### <font color=orange> Problemas </font>\n",
        "***"
      ],
      "metadata": {
        "id": "cdQ0k3wQpUez"
      }
    },
    {
      "cell_type": "markdown",
      "source": [
        "Você foi contratado para analisar e visualizar dados de desempenho de uma equipe de vendas em diferentes regiões ao longo de um ano. Seu gerente pediu que você criasse várias visualizações para entender melhor os dados e apresentar insights relevantes em uma reunião.\n",
        "Dados:\n",
        "\n",
        "Você tem um conjunto de dados fictícios de vendas com o seguinte formato:\n",
        "\n",
        " - Meses: Janeiro, Fevereiro, Março, ..., Dezembro\n",
        " - Vendas por Região:\n",
        "  - Região Norte\n",
        "  - Região Sul\n",
        "  - Região Leste\n",
        "  - Região Oeste"
      ],
      "metadata": {
        "id": "i3O5PKcnlWNk"
      }
    },
    {
      "cell_type": "code",
      "source": [
        "# Dados\n",
        "meses = ['Janeiro', 'Fevereiro', 'Março', 'Abril', 'Maio', 'Junho',\n",
        "         'Julho', 'Agosto', 'Setembro', 'Outubro', 'Novembro', 'Dezembro']\n",
        "vendas_norte = np.random.randint(5000, 15000, size=12)\n",
        "vendas_sul = np.random.randint(3000, 12000, size=12)\n",
        "vendas_leste = np.random.randint(4000, 14000, size=12)\n",
        "vendas_oeste = np.random.randint(6000, 16000, size=12)"
      ],
      "metadata": {
        "id": "ra5I6mBslmJq"
      },
      "execution_count": null,
      "outputs": []
    },
    {
      "cell_type": "markdown",
      "source": [
        "**Tarefas**:\n",
        "\n",
        "1. Gráfico de Linha:\n",
        " - Crie um gráfico de linha para mostrar a evolução das vendas ao longo dos meses para cada região. Utilize diferentes cores e estilos de linha para cada região. Adicione título e rótulos aos eixos.\n",
        "\n",
        "2. Gráfico de Barras:\n",
        " - Crie um gráfico de barras que compare as vendas totais de cada região ao longo do ano. Mostre as vendas totais para cada região com barras de cores diferentes.\n",
        "\n",
        "3. Histograma:\n",
        " - Gere um histograma das vendas mensais para uma das regiões (por exemplo, Região Norte) para visualizar a distribuição das vendas ao longo do ano. Ajuste o número de bins e as cores das barras.\n",
        "\n",
        "4. Personalização e Salvamento:\n",
        " - Para o gráfico de linha criado, adicione uma legenda, ajuste as cores e os estilos das linhas, e salve o gráfico em três formatos diferentes (PNG, PDF, SVG). Verifique se todos os arquivos foram salvos corretamente."
      ],
      "metadata": {
        "id": "ywFu5mr-lt7U"
      }
    },
    {
      "cell_type": "code",
      "source": [],
      "metadata": {
        "id": "525XHTU_mApK"
      },
      "execution_count": null,
      "outputs": []
    },
    {
      "cell_type": "code",
      "source": [],
      "metadata": {
        "id": "5PWNbNQ2mE1O"
      },
      "execution_count": null,
      "outputs": []
    },
    {
      "cell_type": "code",
      "source": [],
      "metadata": {
        "id": "hsMHRC5kmHn0"
      },
      "execution_count": null,
      "outputs": []
    },
    {
      "cell_type": "code",
      "source": [],
      "metadata": {
        "id": "i5hc8EyymIsu"
      },
      "execution_count": null,
      "outputs": []
    }
  ]
}